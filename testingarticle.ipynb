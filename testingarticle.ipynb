{
 "cells": [
  {
   "cell_type": "code",
   "execution_count": 2,
   "metadata": {
    "collapsed": true
   },
   "outputs": [],
   "source": [
    "import gym\n",
    "import pandas as pd\n",
    "import numpy as np\n",
    "import tf_slim as slim\n",
    "from gym import spaces\n",
    "from sklearn import preprocessing\n",
    "import yfinance as yf\n",
    "from stable_baselines.common.vec_env import DummyVecEnv\n",
    "from stable_baselines3 import PPO\n",
    "\n"
   ]
  },
  {
   "cell_type": "code",
   "execution_count": 3,
   "outputs": [],
   "source": [
    "class BitcoinTradingEnv(gym.Env):\n",
    "    \"\"\"A Bitcoin trading environment for OpenAI gym\"\"\"\n",
    "    metadata = {'render.modes': ['live', 'file', 'none']}\n",
    "    scaler = preprocessing.MinMaxScaler()\n",
    "    viewer = None\n",
    "    def __init__(self, df, lookback_window_size=50,commission=0.00075,initial_balance=10000,serial=False):\n",
    "        super(BitcoinTradingEnv, self).__init__()\n",
    "        self.df = df.dropna().reset_index()\n",
    "        self.lookback_window_size = lookback_window_size\n",
    "        self.initial_balance = initial_balance\n",
    "        self.commission = commission\n",
    "        self.serial = serial\n",
    "        # Actions of the format Buy 1/10, Sell 3/10, Hold, etc.\n",
    "        self.action_space = spaces.MultiDiscrete([3, 10])\n",
    "        # Observes the OHCLV values, net worth, and trade history\n",
    "        self.observation_space = spaces.Box(low=0, high=1, shape=(10,lookback_window_size + 1), dtype=np.float16)\n",
    "\n"
   ],
   "metadata": {
    "collapsed": false,
    "pycharm": {
     "name": "#%%\n"
    }
   }
  },
  {
   "cell_type": "code",
   "execution_count": 4,
   "outputs": [],
   "source": [
    "def reset(self):\n",
    "    self.balance = self.initial_balance\n",
    "    self.net_worth = self.initial_balance\n",
    "    self.btc_held = 0\n",
    "    self._reset_session()\n",
    "    self.account_history = np.repeat([\n",
    "        [self.net_worth],\n",
    "        [0],\n",
    "        [0],\n",
    "        [0],\n",
    "        [0]\n",
    "    ], self.lookback_window_size + 1, axis=1)\n",
    "    self.trades = []\n",
    "    return self._next_observation()"
   ],
   "metadata": {
    "collapsed": false,
    "pycharm": {
     "name": "#%%\n"
    }
   }
  },
  {
   "cell_type": "code",
   "execution_count": 5,
   "outputs": [],
   "source": [
    "MAX_TRADING_SESSION = 100000  # ~2 months"
   ],
   "metadata": {
    "collapsed": false,
    "pycharm": {
     "name": "#%%\n"
    }
   }
  },
  {
   "cell_type": "code",
   "execution_count": 6,
   "outputs": [],
   "source": [
    "def _reset_session(self):\n",
    "    self.current_step = 0\n",
    "    if self.serial:\n",
    "        self.steps_left = len(self.df) - self.lookback_window_size - 1\n",
    "        self.frame_start = self.lookback_window_size\n",
    "    else:\n",
    "        self.steps_left = np.random.randint(1, MAX_TRADING_SESSION)\n",
    "        self.frame_start = np.random.randint(\n",
    "            self.lookback_window_size, len(self.df) - self.steps_left)\n",
    "    self.active_df = self.df[self.frame_start -\n",
    "                             self.lookback_window_size:self.frame_start + self.steps_left]"
   ],
   "metadata": {
    "collapsed": false,
    "pycharm": {
     "name": "#%%\n"
    }
   }
  },
  {
   "cell_type": "code",
   "execution_count": 7,
   "outputs": [],
   "source": [
    "def _next_observation(self):\n",
    "    end = self.current_step + self.lookback_window_size + 1\n",
    "    obs = np.array([\n",
    "        self.active_df['Open'].values[self.current_step:end],\n",
    "        self.active_df['High'].values[self.current_step:end],\n",
    "        self.active_df['Low'].values[self.current_step:end],\n",
    "        self.active_df['Close'].values[self.current_step:end],\n",
    "        self.active_df['Volume_(BTC)'].values[self.current_step:end],\n",
    "    ])\n",
    "    scaled_history = self.scaler.fit_transform(self.account_history)\n",
    "    obs = np.append(obs, scaled_history[:, -(self.lookback_window_size\n",
    "                                             + 1):], axis=0)\n",
    "    return obs"
   ],
   "metadata": {
    "collapsed": false,
    "pycharm": {
     "name": "#%%\n"
    }
   }
  },
  {
   "cell_type": "code",
   "execution_count": 8,
   "outputs": [],
   "source": [
    "def step(self, action):\n",
    "    current_price = self._get_current_price() + 0.01\n",
    "    self._take_action(action, current_price)\n",
    "    self.steps_left -= 1\n",
    "    self.current_step += 1\n",
    "    if self.steps_left == 0:\n",
    "        self.balance += self.btc_held * current_price\n",
    "        self.btc_held = 0\n",
    "        self._reset_session()\n",
    "    obs = self._next_observation()\n",
    "    reward = self.net_worth\n",
    "    done = self.net_worth <= 0\n",
    "    return obs, reward, done, {}"
   ],
   "metadata": {
    "collapsed": false,
    "pycharm": {
     "name": "#%%\n"
    }
   }
  },
  {
   "cell_type": "code",
   "execution_count": 9,
   "outputs": [],
   "source": [
    "def _take_action(self, action, current_price):\n",
    "    action_type = action[0]\n",
    "    amount = action[1] / 10\n",
    "    btc_bought = 0\n",
    "    btc_sold = 0\n",
    "    cost = 0\n",
    "    sales = 0\n",
    "    if action_type < 1:\n",
    "        btc_bought = self.balance / current_price * amount\n",
    "        cost = btc_bought * current_price * (1 + self.commission)\n",
    "        self.btc_held += btc_bought\n",
    "        self.balance -= cost\n",
    "    elif action_type < 2:\n",
    "        btc_sold = self.btc_held * amount\n",
    "        sales = btc_sold * current_price  * (1 - self.commission)\n",
    "        self.btc_held -= btc_sold\n",
    "        self.balance += sales\n",
    "    if btc_sold > 0 or btc_bought > 0:\n",
    "        self.trades.append({\n",
    "        'step': self.frame_start+self.current_step,\n",
    "        'amount': btc_sold if btc_sold > 0 else btc_bought,\n",
    "        'total': sales if btc_sold > 0 else cost,\n",
    "        'type': \"sell\" if btc_sold > 0 else \"buy\"\n",
    "    })\n",
    "    self.net_worth = self.balance + self.btc_held * current_price\n",
    "    self.account_history = np.append(self.account_history, [\n",
    "        [self.net_worth],\n",
    "        [btc_bought],\n",
    "        [cost],\n",
    "        [btc_sold],\n",
    "        [sales]\n",
    "    ], axis=1)\n",
    "\n",
    "\n",
    "\n"
   ],
   "metadata": {
    "collapsed": false,
    "pycharm": {
     "name": "#%%\n"
    }
   }
  },
  {
   "cell_type": "code",
   "execution_count": 10,
   "outputs": [],
   "source": [
    "from datetime import datetime"
   ],
   "metadata": {
    "collapsed": false,
    "pycharm": {
     "name": "#%%\n"
    }
   }
  },
  {
   "cell_type": "code",
   "execution_count": 11,
   "outputs": [
    {
     "name": "stderr",
     "output_type": "stream",
     "text": [
      "/Users/henriquerio/miniconda3/lib/python3.8/site-packages/mpl_finance.py:16: DeprecationWarning: \n",
      "\n",
      "  =================================================================\n",
      "\n",
      "   WARNING: `mpl_finance` is deprecated:\n",
      "\n",
      "    Please use `mplfinance` instead (no hyphen, no underscore).\n",
      "\n",
      "    To install: `pip install --upgrade mplfinance` \n",
      "\n",
      "   For more information, see: https://pypi.org/project/mplfinance/\n",
      "\n",
      "  =================================================================\n",
      "\n",
      "  __warnings.warn('\\n\\n  ================================================================='+\n"
     ]
    }
   ],
   "source": [
    "import numpy as np\n",
    "import matplotlib\n",
    "import matplotlib.pyplot as plt\n",
    "import matplotlib.dates as mdates\n",
    "from matplotlib import style\n",
    "\n",
    "# finance module is no longer part of matplotlib\n",
    "# see: https://github.com/matplotlib/mpl_finance\n",
    "from mpl_finance import candlestick_ochl as candlestick\n",
    "\n",
    "style.use('dark_background')\n",
    "\n",
    "VOLUME_CHART_HEIGHT = 0.33\n",
    "\n",
    "UP_COLOR = '#27A59A'\n",
    "DOWN_COLOR = '#EF534F'\n",
    "UP_TEXT_COLOR = '#73D3CC'\n",
    "DOWN_TEXT_COLOR = '#DC2C27'\n",
    "\n",
    "\n",
    "def date2num(date):\n",
    "    converter = mdates.strpdate2num('%Y-%m-%d')\n",
    "    return converter(date)\n",
    "\n",
    "\n",
    "class BitcoinTradingGraph:\n",
    "    \"\"\"A stock trading visualization using matplotlib made to render OpenAI gym environments\"\"\"\n",
    "\n",
    "    def __init__(self, df, title=None):\n",
    "        self.df = df\n",
    "        self.net_worths = np.zeros(len(df['Date']))\n",
    "\n",
    "        # Create a figure on screen and set the title\n",
    "        fig = plt.figure()\n",
    "        fig.suptitle(title)\n",
    "\n",
    "        # Create top subplot for net worth axis\n",
    "        self.net_worth_ax = plt.subplot2grid(\n",
    "            (6, 1), (0, 0), rowspan=2, colspan=1)\n",
    "\n",
    "        # Create bottom subplot for shared price/volume axis\n",
    "        self.price_ax = plt.subplot2grid(\n",
    "            (6, 1), (2, 0), rowspan=8, colspan=1, sharex=self.net_worth_ax)\n",
    "\n",
    "        # Create a new axis for volume which shares its x-axis with price\n",
    "        self.volume_ax = self.price_ax.twinx()\n",
    "\n",
    "        # Add padding to make graph easier to view\n",
    "        plt.subplots_adjust(left=0.11, bottom=0.24,\n",
    "                            right=0.90, top=0.90, wspace=0.2, hspace=0)\n",
    "\n",
    "        # Show the graph without blocking the rest of the program\n",
    "        plt.show(block=False)\n",
    "\n",
    "    def _render_net_worth(self, current_step, net_worth, step_range, dates):\n",
    "        # Clear the frame rendered last step\n",
    "        self.net_worth_ax.clear()\n",
    "\n",
    "        # Plot net worths\n",
    "        self.net_worth_ax.plot_date(\n",
    "            dates, self.net_worths[step_range], '-', label='Net Worth')\n",
    "\n",
    "        # Show legend, which uses the label we defined for the plot above\n",
    "        self.net_worth_ax.legend()\n",
    "        legend = self.net_worth_ax.legend(loc=2, ncol=2, prop={'size': 8})\n",
    "        legend.get_frame().set_alpha(0.4)\n",
    "\n",
    "        last_date = (self.df['Timestamp'].values[current_step])\n",
    "        last_net_worth = self.net_worths[current_step]\n",
    "\n",
    "        # Annotate the current net worth on the net worth graph\n",
    "        self.net_worth_ax.annotate('{0:.2f}'.format(net_worth), (last_date, last_net_worth),\n",
    "                                   xytext=(last_date, last_net_worth),\n",
    "                                   bbox=dict(boxstyle='round',\n",
    "                                             fc='w', ec='k', lw=1),\n",
    "                                   color=\"black\",\n",
    "                                   fontsize=\"small\")\n",
    "\n",
    "        # Add space above and below min/max net worth\n",
    "        self.net_worth_ax.set_ylim(\n",
    "            min(self.net_worths[np.nonzero(self.net_worths)]) / 1.25, max(self.net_worths) * 1.25)\n",
    "\n",
    "    def _render_price(self, current_step, net_worth, dates, step_range):\n",
    "        self.price_ax.clear()\n",
    "\n",
    "        # Format data for OHCL candlestick graph\n",
    "        candlesticks = zip(dates,\n",
    "                           self.df['Open'].values[step_range], self.df['Close'].values[step_range],\n",
    "                           self.df['High'].values[step_range], self.df['Low'].values[step_range])\n",
    "\n",
    "        # Plot price using candlestick graph from mpl_finance\n",
    "        candlestick(self.price_ax, candlesticks, width=1,\n",
    "                    colorup=UP_COLOR, colordown=DOWN_COLOR)\n",
    "\n",
    "        last_date = self.df['Timestamp'].values[current_step]\n",
    "        last_close = self.df['Close'].values[current_step]\n",
    "        last_high = self.df['High'].values[current_step]\n",
    "\n",
    "        # Print the current price to the price axis\n",
    "        self.price_ax.annotate('{0:.2f}'.format(last_close), (last_date, last_close),\n",
    "                               xytext=(last_date, last_high),\n",
    "                               bbox=dict(boxstyle='round',\n",
    "                                         fc='w', ec='k', lw=1),\n",
    "                               color=\"black\",\n",
    "                               fontsize=\"small\")\n",
    "\n",
    "        # Shift price axis up to give volume chart space\n",
    "        ylim = self.price_ax.get_ylim()\n",
    "        self.price_ax.set_ylim(ylim[0] - (ylim[1] - ylim[0])\n",
    "                               * VOLUME_CHART_HEIGHT, ylim[1])\n",
    "\n",
    "    def _render_volume(self, current_step, net_worth, dates, step_range):\n",
    "        self.volume_ax.clear()\n",
    "\n",
    "        volume = np.array(self.df['Volume'].values[step_range])\n",
    "\n",
    "        pos = self.df['Open'].values[step_range] -self.df['Close'].values[step_range] < 0\n",
    "        neg = self.df['Open'].values[step_range] - self.df['Close'].values[step_range] > 0\n",
    "\n",
    "        # Color volume bars based on price direction on that date\n",
    "        self.volume_ax.bar(dates[pos], volume[pos], color=UP_COLOR,\n",
    "                           alpha=0.4, width=1, align='center')\n",
    "        self.volume_ax.bar(dates[neg], volume[neg], color=DOWN_COLOR,\n",
    "                           alpha=0.4, width=1, align='center')\n",
    "\n",
    "        # Cap volume axis height below price chart and hide ticks\n",
    "        self.volume_ax.set_ylim(0, max(volume) / VOLUME_CHART_HEIGHT)\n",
    "        self.volume_ax.yaxis.set_ticks([])\n",
    "\n",
    "    def _render_trades(self, current_step, trades, step_range):\n",
    "        for trade in trades:\n",
    "            if trade['step'] in step_range:\n",
    "                date = self.df['Timestamp'].values[trade['step']]\n",
    "                high = self.df['High'].values[trade['step']]\n",
    "                low = self.df['Low'].values[trade['step']]\n",
    "\n",
    "                if trade['type'] == 'buy':\n",
    "                    high_low = low\n",
    "                    color = UP_TEXT_COLOR\n",
    "                else:\n",
    "                    high_low = high\n",
    "                    color = DOWN_TEXT_COLOR\n",
    "\n",
    "                total = '{0:.2f}'.format(trade['total'])\n",
    "\n",
    "                # Print the current price to the price axis\n",
    "                self.price_ax.annotate(f'${total}', (date, high_low),\n",
    "                                       xytext=(date, high_low),\n",
    "                                       color=color,\n",
    "                                       fontsize=8,\n",
    "                                       arrowprops=(dict(color=color)))\n",
    "\n",
    "    def render(self, current_step, net_worth, trades, window_size=40):\n",
    "        self.net_worths[current_step] = net_worth\n",
    "\n",
    "        window_start = max(current_step - window_size, 0)\n",
    "        step_range = range(window_start, current_step + 1)\n",
    "\n",
    "        # Format dates as timestamps, necessary for candlestick graph\n",
    "        dates = np.array([(x)for x in self.df['Timestamp'].values[step_range]])\n",
    "        date_labels = np.array([datetime.utcfromtimestamp(x).strftime('%Y-%m-%d %H:%M') for x in self.df['Timestamp'].values[step_range]])\n",
    "\n",
    "        self._render_net_worth(current_step, net_worth, step_range, dates)\n",
    "        self._render_price(current_step, net_worth, dates, step_range)\n",
    "        self._render_volume(current_step, net_worth, dates, step_range)\n",
    "        self._render_trades(current_step, trades, step_range)\n",
    "\n",
    "        # Format the date ticks to be more easily read\n",
    "        self.price_ax.set_xticklabels(self.df['Timestamp'].values[step_range], rotation=45,\n",
    "                                      horizontalalignment='right')\n",
    "\n",
    "        # Hide duplicate net worth date labels\n",
    "        plt.setp(self.net_worth_ax.get_xticklabels(), visible=False)\n",
    "\n",
    "        # Necessary to view frames before they are unrendered\n",
    "        plt.pause(0.001)\n",
    "\n",
    "    def close(self):\n",
    "        plt.close()"
   ],
   "metadata": {
    "collapsed": false,
    "pycharm": {
     "name": "#%%\n"
    }
   }
  },
  {
   "cell_type": "code",
   "execution_count": 12,
   "outputs": [],
   "source": [
    "def render(self, mode='human', **kwargs):\n",
    "    if mode == 'human':\n",
    "        if self.viewer == None:\n",
    "            self.viewer = BitcoinTradingGraph(self.df,kwargs.get('title', None))\n",
    "        self.viewer.render(self.frame_start + self.current_step,\n",
    "                   self.net_worth,\n",
    "                   self.trades,\n",
    "                   window_size=self.lookback_window_size)"
   ],
   "metadata": {
    "collapsed": false,
    "pycharm": {
     "name": "#%%\n"
    }
   }
  },
  {
   "cell_type": "code",
   "execution_count": 13,
   "outputs": [
    {
     "name": "stdout",
     "output_type": "stream",
     "text": [
      "[*********************100%***********************]  1 of 1 completed\n"
     ]
    }
   ],
   "source": [
    "df = yf.download('BTC-USD', start='2021-01-01',\n",
    "                 end='2022-12-12', interval='1h', back_adjust=True, auto_adjust=True, prepost=True)"
   ],
   "metadata": {
    "collapsed": false,
    "pycharm": {
     "name": "#%%\n"
    }
   }
  },
  {
   "cell_type": "code",
   "execution_count": 14,
   "outputs": [],
   "source": [
    "slice_point = int(len(df) - 1000)\n",
    "train_df = df[:slice_point]\n",
    "test_df = df[slice_point:]"
   ],
   "metadata": {
    "collapsed": false,
    "pycharm": {
     "name": "#%%\n"
    }
   }
  },
  {
   "cell_type": "code",
   "execution_count": 15,
   "outputs": [],
   "source": [
    "train_env = DummyVecEnv([lambda: BitcoinTradingEnv(train_df,\n",
    "                                                   commission=0, serial=False)])\n",
    "test_env = DummyVecEnv([lambda: BitcoinTradingEnv(test_df,\n",
    "                                                  commission=0, serial=True)])"
   ],
   "metadata": {
    "collapsed": false,
    "pycharm": {
     "name": "#%%\n"
    }
   }
  },
  {
   "cell_type": "code",
   "execution_count": 15,
   "outputs": [],
   "source": [],
   "metadata": {
    "collapsed": false,
    "pycharm": {
     "name": "#%%\n"
    }
   }
  },
  {
   "cell_type": "code",
   "execution_count": 16,
   "outputs": [
    {
     "name": "stdout",
     "output_type": "stream",
     "text": [
      "Using cpu device\n",
      "Wrapping the env with a `Monitor` wrapper\n",
      "Wrapping the env in a DummyVecEnv.\n"
     ]
    },
    {
     "ename": "NotImplementedError",
     "evalue": "",
     "output_type": "error",
     "traceback": [
      "\u001B[0;31m---------------------------------------------------------------------------\u001B[0m",
      "\u001B[0;31mNotImplementedError\u001B[0m                       Traceback (most recent call last)",
      "Input \u001B[0;32mIn [16]\u001B[0m, in \u001B[0;36m<cell line: 2>\u001B[0;34m()\u001B[0m\n\u001B[1;32m      1\u001B[0m model \u001B[38;5;241m=\u001B[39m PPO(\u001B[38;5;124m'\u001B[39m\u001B[38;5;124mMlpPolicy\u001B[39m\u001B[38;5;124m'\u001B[39m,train_env,verbose\u001B[38;5;241m=\u001B[39m\u001B[38;5;241m1\u001B[39m,tensorboard_log\u001B[38;5;241m=\u001B[39m\u001B[38;5;124m\"\u001B[39m\u001B[38;5;124m./tensorboard/\u001B[39m\u001B[38;5;124m\"\u001B[39m)\n\u001B[0;32m----> 2\u001B[0m \u001B[43mmodel\u001B[49m\u001B[38;5;241;43m.\u001B[39;49m\u001B[43mlearn\u001B[49m\u001B[43m(\u001B[49m\u001B[43mtotal_timesteps\u001B[49m\u001B[38;5;241;43m=\u001B[39;49m\u001B[38;5;241;43m5000\u001B[39;49m\u001B[43m)\u001B[49m\n",
      "File \u001B[0;32m~/miniconda3/lib/python3.8/site-packages/stable_baselines3/ppo/ppo.py:304\u001B[0m, in \u001B[0;36mPPO.learn\u001B[0;34m(self, total_timesteps, callback, log_interval, eval_env, eval_freq, n_eval_episodes, tb_log_name, eval_log_path, reset_num_timesteps)\u001B[0m\n\u001B[1;32m    291\u001B[0m \u001B[38;5;28;01mdef\u001B[39;00m \u001B[38;5;21mlearn\u001B[39m(\n\u001B[1;32m    292\u001B[0m     \u001B[38;5;28mself\u001B[39m,\n\u001B[1;32m    293\u001B[0m     total_timesteps: \u001B[38;5;28mint\u001B[39m,\n\u001B[0;32m   (...)\u001B[0m\n\u001B[1;32m    301\u001B[0m     reset_num_timesteps: \u001B[38;5;28mbool\u001B[39m \u001B[38;5;241m=\u001B[39m \u001B[38;5;28;01mTrue\u001B[39;00m,\n\u001B[1;32m    302\u001B[0m ) \u001B[38;5;241m-\u001B[39m\u001B[38;5;241m>\u001B[39m \u001B[38;5;124m\"\u001B[39m\u001B[38;5;124mPPO\u001B[39m\u001B[38;5;124m\"\u001B[39m:\n\u001B[0;32m--> 304\u001B[0m     \u001B[38;5;28;01mreturn\u001B[39;00m \u001B[38;5;28;43msuper\u001B[39;49m\u001B[43m(\u001B[49m\u001B[43mPPO\u001B[49m\u001B[43m,\u001B[49m\u001B[43m \u001B[49m\u001B[38;5;28;43mself\u001B[39;49m\u001B[43m)\u001B[49m\u001B[38;5;241;43m.\u001B[39;49m\u001B[43mlearn\u001B[49m\u001B[43m(\u001B[49m\n\u001B[1;32m    305\u001B[0m \u001B[43m        \u001B[49m\u001B[43mtotal_timesteps\u001B[49m\u001B[38;5;241;43m=\u001B[39;49m\u001B[43mtotal_timesteps\u001B[49m\u001B[43m,\u001B[49m\n\u001B[1;32m    306\u001B[0m \u001B[43m        \u001B[49m\u001B[43mcallback\u001B[49m\u001B[38;5;241;43m=\u001B[39;49m\u001B[43mcallback\u001B[49m\u001B[43m,\u001B[49m\n\u001B[1;32m    307\u001B[0m \u001B[43m        \u001B[49m\u001B[43mlog_interval\u001B[49m\u001B[38;5;241;43m=\u001B[39;49m\u001B[43mlog_interval\u001B[49m\u001B[43m,\u001B[49m\n\u001B[1;32m    308\u001B[0m \u001B[43m        \u001B[49m\u001B[43meval_env\u001B[49m\u001B[38;5;241;43m=\u001B[39;49m\u001B[43meval_env\u001B[49m\u001B[43m,\u001B[49m\n\u001B[1;32m    309\u001B[0m \u001B[43m        \u001B[49m\u001B[43meval_freq\u001B[49m\u001B[38;5;241;43m=\u001B[39;49m\u001B[43meval_freq\u001B[49m\u001B[43m,\u001B[49m\n\u001B[1;32m    310\u001B[0m \u001B[43m        \u001B[49m\u001B[43mn_eval_episodes\u001B[49m\u001B[38;5;241;43m=\u001B[39;49m\u001B[43mn_eval_episodes\u001B[49m\u001B[43m,\u001B[49m\n\u001B[1;32m    311\u001B[0m \u001B[43m        \u001B[49m\u001B[43mtb_log_name\u001B[49m\u001B[38;5;241;43m=\u001B[39;49m\u001B[43mtb_log_name\u001B[49m\u001B[43m,\u001B[49m\n\u001B[1;32m    312\u001B[0m \u001B[43m        \u001B[49m\u001B[43meval_log_path\u001B[49m\u001B[38;5;241;43m=\u001B[39;49m\u001B[43meval_log_path\u001B[49m\u001B[43m,\u001B[49m\n\u001B[1;32m    313\u001B[0m \u001B[43m        \u001B[49m\u001B[43mreset_num_timesteps\u001B[49m\u001B[38;5;241;43m=\u001B[39;49m\u001B[43mreset_num_timesteps\u001B[49m\u001B[43m,\u001B[49m\n\u001B[1;32m    314\u001B[0m \u001B[43m    \u001B[49m\u001B[43m)\u001B[49m\n",
      "File \u001B[0;32m~/miniconda3/lib/python3.8/site-packages/stable_baselines3/common/on_policy_algorithm.py:242\u001B[0m, in \u001B[0;36mOnPolicyAlgorithm.learn\u001B[0;34m(self, total_timesteps, callback, log_interval, eval_env, eval_freq, n_eval_episodes, tb_log_name, eval_log_path, reset_num_timesteps)\u001B[0m\n\u001B[1;32m    228\u001B[0m \u001B[38;5;28;01mdef\u001B[39;00m \u001B[38;5;21mlearn\u001B[39m(\n\u001B[1;32m    229\u001B[0m     \u001B[38;5;28mself\u001B[39m,\n\u001B[1;32m    230\u001B[0m     total_timesteps: \u001B[38;5;28mint\u001B[39m,\n\u001B[0;32m   (...)\u001B[0m\n\u001B[1;32m    238\u001B[0m     reset_num_timesteps: \u001B[38;5;28mbool\u001B[39m \u001B[38;5;241m=\u001B[39m \u001B[38;5;28;01mTrue\u001B[39;00m,\n\u001B[1;32m    239\u001B[0m ) \u001B[38;5;241m-\u001B[39m\u001B[38;5;241m>\u001B[39m \u001B[38;5;124m\"\u001B[39m\u001B[38;5;124mOnPolicyAlgorithm\u001B[39m\u001B[38;5;124m\"\u001B[39m:\n\u001B[1;32m    240\u001B[0m     iteration \u001B[38;5;241m=\u001B[39m \u001B[38;5;241m0\u001B[39m\n\u001B[0;32m--> 242\u001B[0m     total_timesteps, callback \u001B[38;5;241m=\u001B[39m \u001B[38;5;28;43mself\u001B[39;49m\u001B[38;5;241;43m.\u001B[39;49m\u001B[43m_setup_learn\u001B[49m\u001B[43m(\u001B[49m\n\u001B[1;32m    243\u001B[0m \u001B[43m        \u001B[49m\u001B[43mtotal_timesteps\u001B[49m\u001B[43m,\u001B[49m\u001B[43m \u001B[49m\u001B[43meval_env\u001B[49m\u001B[43m,\u001B[49m\u001B[43m \u001B[49m\u001B[43mcallback\u001B[49m\u001B[43m,\u001B[49m\u001B[43m \u001B[49m\u001B[43meval_freq\u001B[49m\u001B[43m,\u001B[49m\u001B[43m \u001B[49m\u001B[43mn_eval_episodes\u001B[49m\u001B[43m,\u001B[49m\u001B[43m \u001B[49m\u001B[43meval_log_path\u001B[49m\u001B[43m,\u001B[49m\u001B[43m \u001B[49m\u001B[43mreset_num_timesteps\u001B[49m\u001B[43m,\u001B[49m\u001B[43m \u001B[49m\u001B[43mtb_log_name\u001B[49m\n\u001B[1;32m    244\u001B[0m \u001B[43m    \u001B[49m\u001B[43m)\u001B[49m\n\u001B[1;32m    246\u001B[0m     callback\u001B[38;5;241m.\u001B[39mon_training_start(\u001B[38;5;28mlocals\u001B[39m(), \u001B[38;5;28mglobals\u001B[39m())\n\u001B[1;32m    248\u001B[0m     \u001B[38;5;28;01mwhile\u001B[39;00m \u001B[38;5;28mself\u001B[39m\u001B[38;5;241m.\u001B[39mnum_timesteps \u001B[38;5;241m<\u001B[39m total_timesteps:\n",
      "File \u001B[0;32m~/miniconda3/lib/python3.8/site-packages/stable_baselines3/common/base_class.py:429\u001B[0m, in \u001B[0;36mBaseAlgorithm._setup_learn\u001B[0;34m(self, total_timesteps, eval_env, callback, eval_freq, n_eval_episodes, log_path, reset_num_timesteps, tb_log_name)\u001B[0m\n\u001B[1;32m    427\u001B[0m \u001B[38;5;66;03m# Avoid resetting the environment when calling ``.learn()`` consecutive times\u001B[39;00m\n\u001B[1;32m    428\u001B[0m \u001B[38;5;28;01mif\u001B[39;00m reset_num_timesteps \u001B[38;5;129;01mor\u001B[39;00m \u001B[38;5;28mself\u001B[39m\u001B[38;5;241m.\u001B[39m_last_obs \u001B[38;5;129;01mis\u001B[39;00m \u001B[38;5;28;01mNone\u001B[39;00m:\n\u001B[0;32m--> 429\u001B[0m     \u001B[38;5;28mself\u001B[39m\u001B[38;5;241m.\u001B[39m_last_obs \u001B[38;5;241m=\u001B[39m \u001B[38;5;28;43mself\u001B[39;49m\u001B[38;5;241;43m.\u001B[39;49m\u001B[43menv\u001B[49m\u001B[38;5;241;43m.\u001B[39;49m\u001B[43mreset\u001B[49m\u001B[43m(\u001B[49m\u001B[43m)\u001B[49m  \u001B[38;5;66;03m# pytype: disable=annotation-type-mismatch\u001B[39;00m\n\u001B[1;32m    430\u001B[0m     \u001B[38;5;28mself\u001B[39m\u001B[38;5;241m.\u001B[39m_last_episode_starts \u001B[38;5;241m=\u001B[39m np\u001B[38;5;241m.\u001B[39mones((\u001B[38;5;28mself\u001B[39m\u001B[38;5;241m.\u001B[39menv\u001B[38;5;241m.\u001B[39mnum_envs,), dtype\u001B[38;5;241m=\u001B[39m\u001B[38;5;28mbool\u001B[39m)\n\u001B[1;32m    431\u001B[0m     \u001B[38;5;66;03m# Retrieve unnormalized observation for saving into the buffer\u001B[39;00m\n",
      "File \u001B[0;32m~/miniconda3/lib/python3.8/site-packages/stable_baselines3/common/vec_env/dummy_vec_env.py:61\u001B[0m, in \u001B[0;36mDummyVecEnv.reset\u001B[0;34m(self)\u001B[0m\n\u001B[1;32m     59\u001B[0m \u001B[38;5;28;01mdef\u001B[39;00m \u001B[38;5;21mreset\u001B[39m(\u001B[38;5;28mself\u001B[39m) \u001B[38;5;241m-\u001B[39m\u001B[38;5;241m>\u001B[39m VecEnvObs:\n\u001B[1;32m     60\u001B[0m     \u001B[38;5;28;01mfor\u001B[39;00m env_idx \u001B[38;5;129;01min\u001B[39;00m \u001B[38;5;28mrange\u001B[39m(\u001B[38;5;28mself\u001B[39m\u001B[38;5;241m.\u001B[39mnum_envs):\n\u001B[0;32m---> 61\u001B[0m         obs \u001B[38;5;241m=\u001B[39m \u001B[38;5;28;43mself\u001B[39;49m\u001B[38;5;241;43m.\u001B[39;49m\u001B[43menvs\u001B[49m\u001B[43m[\u001B[49m\u001B[43menv_idx\u001B[49m\u001B[43m]\u001B[49m\u001B[38;5;241;43m.\u001B[39;49m\u001B[43mreset\u001B[49m\u001B[43m(\u001B[49m\u001B[43m)\u001B[49m\n\u001B[1;32m     62\u001B[0m         \u001B[38;5;28mself\u001B[39m\u001B[38;5;241m.\u001B[39m_save_obs(env_idx, obs)\n\u001B[1;32m     63\u001B[0m     \u001B[38;5;28;01mreturn\u001B[39;00m \u001B[38;5;28mself\u001B[39m\u001B[38;5;241m.\u001B[39m_obs_from_buf()\n",
      "File \u001B[0;32m~/miniconda3/lib/python3.8/site-packages/stable_baselines3/common/monitor.py:79\u001B[0m, in \u001B[0;36mMonitor.reset\u001B[0;34m(self, **kwargs)\u001B[0m\n\u001B[1;32m     77\u001B[0m         \u001B[38;5;28;01mraise\u001B[39;00m \u001B[38;5;167;01mValueError\u001B[39;00m(\u001B[38;5;124mf\u001B[39m\u001B[38;5;124m\"\u001B[39m\u001B[38;5;124mExpected you to pass keyword argument \u001B[39m\u001B[38;5;132;01m{\u001B[39;00mkey\u001B[38;5;132;01m}\u001B[39;00m\u001B[38;5;124m into reset\u001B[39m\u001B[38;5;124m\"\u001B[39m)\n\u001B[1;32m     78\u001B[0m     \u001B[38;5;28mself\u001B[39m\u001B[38;5;241m.\u001B[39mcurrent_reset_info[key] \u001B[38;5;241m=\u001B[39m value\n\u001B[0;32m---> 79\u001B[0m \u001B[38;5;28;01mreturn\u001B[39;00m \u001B[38;5;28;43mself\u001B[39;49m\u001B[38;5;241;43m.\u001B[39;49m\u001B[43menv\u001B[49m\u001B[38;5;241;43m.\u001B[39;49m\u001B[43mreset\u001B[49m\u001B[43m(\u001B[49m\u001B[38;5;241;43m*\u001B[39;49m\u001B[38;5;241;43m*\u001B[39;49m\u001B[43mkwargs\u001B[49m\u001B[43m)\u001B[49m\n",
      "File \u001B[0;32m~/miniconda3/lib/python3.8/site-packages/stable_baselines/common/vec_env/dummy_vec_env.py:51\u001B[0m, in \u001B[0;36mDummyVecEnv.reset\u001B[0;34m(self)\u001B[0m\n\u001B[1;32m     49\u001B[0m \u001B[38;5;28;01mdef\u001B[39;00m \u001B[38;5;21mreset\u001B[39m(\u001B[38;5;28mself\u001B[39m):\n\u001B[1;32m     50\u001B[0m     \u001B[38;5;28;01mfor\u001B[39;00m env_idx \u001B[38;5;129;01min\u001B[39;00m \u001B[38;5;28mrange\u001B[39m(\u001B[38;5;28mself\u001B[39m\u001B[38;5;241m.\u001B[39mnum_envs):\n\u001B[0;32m---> 51\u001B[0m         obs \u001B[38;5;241m=\u001B[39m \u001B[38;5;28;43mself\u001B[39;49m\u001B[38;5;241;43m.\u001B[39;49m\u001B[43menvs\u001B[49m\u001B[43m[\u001B[49m\u001B[43menv_idx\u001B[49m\u001B[43m]\u001B[49m\u001B[38;5;241;43m.\u001B[39;49m\u001B[43mreset\u001B[49m\u001B[43m(\u001B[49m\u001B[43m)\u001B[49m\n\u001B[1;32m     52\u001B[0m         \u001B[38;5;28mself\u001B[39m\u001B[38;5;241m.\u001B[39m_save_obs(env_idx, obs)\n\u001B[1;32m     53\u001B[0m     \u001B[38;5;28;01mreturn\u001B[39;00m \u001B[38;5;28mself\u001B[39m\u001B[38;5;241m.\u001B[39m_obs_from_buf()\n",
      "File \u001B[0;32m~/miniconda3/lib/python3.8/site-packages/gym/core.py:74\u001B[0m, in \u001B[0;36mEnv.reset\u001B[0;34m(self)\u001B[0m\n\u001B[1;32m     60\u001B[0m \u001B[38;5;129m@abstractmethod\u001B[39m\n\u001B[1;32m     61\u001B[0m \u001B[38;5;28;01mdef\u001B[39;00m \u001B[38;5;21mreset\u001B[39m(\u001B[38;5;28mself\u001B[39m):\n\u001B[1;32m     62\u001B[0m     \u001B[38;5;124;03m\"\"\"Resets the environment to an initial state and returns an initial\u001B[39;00m\n\u001B[1;32m     63\u001B[0m \u001B[38;5;124;03m    observation.\u001B[39;00m\n\u001B[1;32m     64\u001B[0m \n\u001B[0;32m   (...)\u001B[0m\n\u001B[1;32m     72\u001B[0m \u001B[38;5;124;03m        observation (object): the initial observation.\u001B[39;00m\n\u001B[1;32m     73\u001B[0m \u001B[38;5;124;03m    \"\"\"\u001B[39;00m\n\u001B[0;32m---> 74\u001B[0m     \u001B[38;5;28;01mraise\u001B[39;00m \u001B[38;5;167;01mNotImplementedError\u001B[39;00m\n",
      "\u001B[0;31mNotImplementedError\u001B[0m: "
     ]
    }
   ],
   "source": [
    "model = PPO('MlpPolicy',train_env,verbose=1,tensorboard_log=\"./tensorboard/\")\n",
    "model.learn(total_timesteps=5000)"
   ],
   "metadata": {
    "collapsed": false,
    "pycharm": {
     "name": "#%%\n"
    }
   }
  },
  {
   "cell_type": "code",
   "execution_count": null,
   "outputs": [],
   "source": [],
   "metadata": {
    "collapsed": false,
    "pycharm": {
     "name": "#%%\n"
    }
   }
  },
  {
   "cell_type": "code",
   "execution_count": null,
   "outputs": [],
   "source": [],
   "metadata": {
    "collapsed": false,
    "pycharm": {
     "name": "#%%\n"
    }
   }
  },
  {
   "cell_type": "code",
   "execution_count": null,
   "outputs": [],
   "source": [],
   "metadata": {
    "collapsed": false,
    "pycharm": {
     "name": "#%%\n"
    }
   }
  },
  {
   "cell_type": "code",
   "execution_count": 17,
   "outputs": [
    {
     "data": {
      "text/plain": "<stable_baselines.common.vec_env.dummy_vec_env.DummyVecEnv at 0x28b60d700>"
     },
     "execution_count": 17,
     "metadata": {},
     "output_type": "execute_result"
    }
   ],
   "source": [],
   "metadata": {
    "collapsed": false,
    "pycharm": {
     "name": "#%%\n"
    }
   }
  },
  {
   "cell_type": "code",
   "execution_count": 18,
   "outputs": [
    {
     "name": "stdout",
     "output_type": "stream",
     "text": [
      "2.8.0\n"
     ]
    }
   ],
   "source": [
    "import tensorflow as tf\n",
    "print(tf.__version__)"
   ],
   "metadata": {
    "collapsed": false,
    "pycharm": {
     "name": "#%%\n"
    }
   }
  },
  {
   "cell_type": "code",
   "execution_count": null,
   "outputs": [],
   "source": [],
   "metadata": {
    "collapsed": false,
    "pycharm": {
     "name": "#%%\n"
    }
   }
  }
 ],
 "metadata": {
  "kernelspec": {
   "display_name": "Python 3",
   "language": "python",
   "name": "python3"
  },
  "language_info": {
   "codemirror_mode": {
    "name": "ipython",
    "version": 2
   },
   "file_extension": ".py",
   "mimetype": "text/x-python",
   "name": "python",
   "nbconvert_exporter": "python",
   "pygments_lexer": "ipython2",
   "version": "2.7.6"
  }
 },
 "nbformat": 4,
 "nbformat_minor": 0
}