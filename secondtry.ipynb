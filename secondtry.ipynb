{
 "cells": [
  {
   "cell_type": "code",
   "execution_count": 23,
   "outputs": [],
   "source": [
    "import tensorflow as tf\n",
    "import numpy as np\n",
    "import pandas as pd\n",
    "import keras\n",
    "from keras.models import Sequential\n",
    "from keras.models import load_model\n",
    "from keras.layers import Dense\n",
    "from tensorflow.keras.optimizers import Adam\n",
    "import random\n",
    "from collections import deque\n",
    "\n",
    "import pandas as pd\n",
    "import numpy as np\n",
    "import matplotlib\n",
    "import matplotlib.pyplot as plt\n",
    "# matplotlib.use('Agg')\n",
    "import datetime\n",
    "\n",
    "%matplotlib inline\n",
    "#from finrl.apps import config\n",
    "\n",
    "from finrl.finrl_meta.preprocessor.preprocessors import FeatureEngineer, data_split\n",
    "from finrl.finrl_meta.env_stock_trading.env_stocktrading import StockTradingEnv\n",
    "#from finrl.drl_agents.stablebaselines3.models import DRLAgent # Deep Reinforcement Learning Agent\n",
    "from finrl.plot import backtest_stats, backtest_plot, get_daily_return, get_baseline\n",
    "\n",
    "from pprint import pprint\n",
    "import sys\n",
    "sys.path.append(\"../FinRL-Library\")\n",
    "\n",
    "import sys\n"
   ],
   "metadata": {
    "collapsed": false,
    "pycharm": {
     "name": "#%%\n"
    }
   }
  },
  {
   "cell_type": "code",
   "execution_count": 24,
   "metadata": {
    "pycharm": {
     "name": "#%%\n"
    }
   },
   "outputs": [],
   "source": [
    "ef = pd.ExcelFile(\"FIXEDDATA.xls\") #used to get the sheets in our excel file\n",
    "sheetnames = ef.sheet_names\n"
   ]
  },
  {
   "cell_type": "code",
   "execution_count": 25,
   "outputs": [
    {
     "name": "stderr",
     "output_type": "stream",
     "text": [
      "/var/folders/_k/2prywzdn6ng6b5g46h3r_mtc0000gn/T/ipykernel_11779/2518331846.py:5: FutureWarning: The frame.append method is deprecated and will be removed from pandas in a future version. Use pandas.concat instead.\n",
      "  df_combined = df_combined.append(df)\n",
      "/var/folders/_k/2prywzdn6ng6b5g46h3r_mtc0000gn/T/ipykernel_11779/2518331846.py:5: FutureWarning: The frame.append method is deprecated and will be removed from pandas in a future version. Use pandas.concat instead.\n",
      "  df_combined = df_combined.append(df)\n",
      "/var/folders/_k/2prywzdn6ng6b5g46h3r_mtc0000gn/T/ipykernel_11779/2518331846.py:5: FutureWarning: The frame.append method is deprecated and will be removed from pandas in a future version. Use pandas.concat instead.\n",
      "  df_combined = df_combined.append(df)\n",
      "/var/folders/_k/2prywzdn6ng6b5g46h3r_mtc0000gn/T/ipykernel_11779/2518331846.py:5: FutureWarning: The frame.append method is deprecated and will be removed from pandas in a future version. Use pandas.concat instead.\n",
      "  df_combined = df_combined.append(df)\n",
      "/var/folders/_k/2prywzdn6ng6b5g46h3r_mtc0000gn/T/ipykernel_11779/2518331846.py:5: FutureWarning: The frame.append method is deprecated and will be removed from pandas in a future version. Use pandas.concat instead.\n",
      "  df_combined = df_combined.append(df)\n",
      "/var/folders/_k/2prywzdn6ng6b5g46h3r_mtc0000gn/T/ipykernel_11779/2518331846.py:5: FutureWarning: The frame.append method is deprecated and will be removed from pandas in a future version. Use pandas.concat instead.\n",
      "  df_combined = df_combined.append(df)\n",
      "/var/folders/_k/2prywzdn6ng6b5g46h3r_mtc0000gn/T/ipykernel_11779/2518331846.py:5: FutureWarning: The frame.append method is deprecated and will be removed from pandas in a future version. Use pandas.concat instead.\n",
      "  df_combined = df_combined.append(df)\n",
      "/var/folders/_k/2prywzdn6ng6b5g46h3r_mtc0000gn/T/ipykernel_11779/2518331846.py:5: FutureWarning: The frame.append method is deprecated and will be removed from pandas in a future version. Use pandas.concat instead.\n",
      "  df_combined = df_combined.append(df)\n",
      "/var/folders/_k/2prywzdn6ng6b5g46h3r_mtc0000gn/T/ipykernel_11779/2518331846.py:5: FutureWarning: The frame.append method is deprecated and will be removed from pandas in a future version. Use pandas.concat instead.\n",
      "  df_combined = df_combined.append(df)\n",
      "/var/folders/_k/2prywzdn6ng6b5g46h3r_mtc0000gn/T/ipykernel_11779/2518331846.py:5: FutureWarning: The frame.append method is deprecated and will be removed from pandas in a future version. Use pandas.concat instead.\n",
      "  df_combined = df_combined.append(df)\n",
      "/var/folders/_k/2prywzdn6ng6b5g46h3r_mtc0000gn/T/ipykernel_11779/2518331846.py:5: FutureWarning: The frame.append method is deprecated and will be removed from pandas in a future version. Use pandas.concat instead.\n",
      "  df_combined = df_combined.append(df)\n",
      "/var/folders/_k/2prywzdn6ng6b5g46h3r_mtc0000gn/T/ipykernel_11779/2518331846.py:5: FutureWarning: The frame.append method is deprecated and will be removed from pandas in a future version. Use pandas.concat instead.\n",
      "  df_combined = df_combined.append(df)\n",
      "/var/folders/_k/2prywzdn6ng6b5g46h3r_mtc0000gn/T/ipykernel_11779/2518331846.py:5: FutureWarning: The frame.append method is deprecated and will be removed from pandas in a future version. Use pandas.concat instead.\n",
      "  df_combined = df_combined.append(df)\n",
      "/var/folders/_k/2prywzdn6ng6b5g46h3r_mtc0000gn/T/ipykernel_11779/2518331846.py:5: FutureWarning: The frame.append method is deprecated and will be removed from pandas in a future version. Use pandas.concat instead.\n",
      "  df_combined = df_combined.append(df)\n",
      "/var/folders/_k/2prywzdn6ng6b5g46h3r_mtc0000gn/T/ipykernel_11779/2518331846.py:5: FutureWarning: The frame.append method is deprecated and will be removed from pandas in a future version. Use pandas.concat instead.\n",
      "  df_combined = df_combined.append(df)\n",
      "/var/folders/_k/2prywzdn6ng6b5g46h3r_mtc0000gn/T/ipykernel_11779/2518331846.py:5: FutureWarning: The frame.append method is deprecated and will be removed from pandas in a future version. Use pandas.concat instead.\n",
      "  df_combined = df_combined.append(df)\n",
      "/var/folders/_k/2prywzdn6ng6b5g46h3r_mtc0000gn/T/ipykernel_11779/2518331846.py:5: FutureWarning: The frame.append method is deprecated and will be removed from pandas in a future version. Use pandas.concat instead.\n",
      "  df_combined = df_combined.append(df)\n",
      "/var/folders/_k/2prywzdn6ng6b5g46h3r_mtc0000gn/T/ipykernel_11779/2518331846.py:5: FutureWarning: The frame.append method is deprecated and will be removed from pandas in a future version. Use pandas.concat instead.\n",
      "  df_combined = df_combined.append(df)\n"
     ]
    }
   ],
   "source": [
    "\n",
    "df_combined = pd.DataFrame()\n",
    "for sheet_name in ef.sheet_names:\n",
    "    df = ef.parse(sheet_name)\n",
    "    df['tic'] = sheet_name       # this adds `sheet_name` into the column `Week`\n",
    "    df_combined = df_combined.append(df)"
   ],
   "metadata": {
    "collapsed": false,
    "pycharm": {
     "name": "#%%\n"
    }
   }
  },
  {
   "cell_type": "code",
   "execution_count": 26,
   "outputs": [
    {
     "data": {
      "text/plain": "        Date      Open      High       Low     Close     Volume  tic\n0 2020-01-01  4.497428  4.558976  4.478464  4.502792  578070570  ETC\n1 2020-01-02  4.502639  4.508207  4.203510  4.255888  692082812  ETC\n2 2020-01-03  4.249905  4.633809  4.203081  4.576237  853611122  ETC\n3 2020-01-04  4.571729  4.732288  4.542132  4.726842  771746505  ETC\n4 2020-01-05  4.773919  5.014711  4.771709  4.907899  929077856  ETC",
      "text/html": "<div>\n<style scoped>\n    .dataframe tbody tr th:only-of-type {\n        vertical-align: middle;\n    }\n\n    .dataframe tbody tr th {\n        vertical-align: top;\n    }\n\n    .dataframe thead th {\n        text-align: right;\n    }\n</style>\n<table border=\"1\" class=\"dataframe\">\n  <thead>\n    <tr style=\"text-align: right;\">\n      <th></th>\n      <th>Date</th>\n      <th>Open</th>\n      <th>High</th>\n      <th>Low</th>\n      <th>Close</th>\n      <th>Volume</th>\n      <th>tic</th>\n    </tr>\n  </thead>\n  <tbody>\n    <tr>\n      <th>0</th>\n      <td>2020-01-01</td>\n      <td>4.497428</td>\n      <td>4.558976</td>\n      <td>4.478464</td>\n      <td>4.502792</td>\n      <td>578070570</td>\n      <td>ETC</td>\n    </tr>\n    <tr>\n      <th>1</th>\n      <td>2020-01-02</td>\n      <td>4.502639</td>\n      <td>4.508207</td>\n      <td>4.203510</td>\n      <td>4.255888</td>\n      <td>692082812</td>\n      <td>ETC</td>\n    </tr>\n    <tr>\n      <th>2</th>\n      <td>2020-01-03</td>\n      <td>4.249905</td>\n      <td>4.633809</td>\n      <td>4.203081</td>\n      <td>4.576237</td>\n      <td>853611122</td>\n      <td>ETC</td>\n    </tr>\n    <tr>\n      <th>3</th>\n      <td>2020-01-04</td>\n      <td>4.571729</td>\n      <td>4.732288</td>\n      <td>4.542132</td>\n      <td>4.726842</td>\n      <td>771746505</td>\n      <td>ETC</td>\n    </tr>\n    <tr>\n      <th>4</th>\n      <td>2020-01-05</td>\n      <td>4.773919</td>\n      <td>5.014711</td>\n      <td>4.771709</td>\n      <td>4.907899</td>\n      <td>929077856</td>\n      <td>ETC</td>\n    </tr>\n  </tbody>\n</table>\n</div>"
     },
     "execution_count": 26,
     "metadata": {},
     "output_type": "execute_result"
    }
   ],
   "source": [
    "df1 = df_combined\n",
    "df1.head()"
   ],
   "metadata": {
    "collapsed": false,
    "pycharm": {
     "name": "#%%\n"
    }
   }
  },
  {
   "cell_type": "code",
   "execution_count": 27,
   "outputs": [],
   "source": [
    "from datetime import datetime\n",
    "#df1['Date'] = str(df1['Date'])\n",
    "#df1['Date']  =df1['Date'].apply(lambda x: datetime.strptime(x, \"%d.%m.%Y\") )\n",
    "df1= df1.sort_values(by=['Date','tic'], ignore_index=True)"
   ],
   "metadata": {
    "collapsed": false,
    "pycharm": {
     "name": "#%%\n"
    }
   }
  },
  {
   "cell_type": "code",
   "execution_count": 28,
   "outputs": [
    {
     "data": {
      "text/plain": "            Date          Open          High           Low         Close  \\\n0     2020-01-01      0.032832      0.033813      0.032704      0.033458   \n1     2020-01-01      4.216717      4.467644      4.204366      4.380158   \n2     2020-01-01    204.671295    208.077515    203.205154    204.397537   \n3     2020-01-01     13.730962     13.873946     13.654942     13.689083   \n4     2020-01-01   7194.892090   7254.330566   7174.944336   7200.174316   \n...          ...           ...           ...           ...           ...   \n12811 2021-12-12     19.945532     20.823475     19.278799     20.456585   \n12812 2021-12-12    157.925339    162.485016    153.610352    159.203964   \n12813 2021-12-12      0.091574      0.092408      0.089894      0.091136   \n12814 2021-12-12  48759.597656  49960.847656  48375.175781  49638.460938   \n12815 2021-12-12      0.838745      0.856821      0.811206      0.841324   \n\n            Volume   tic  \n0         22948374   ADA  \n1        107994513  ATOM  \n2       1456113692   BCH  \n3        172980718   BNB  \n4      18565664997   BTC  \n...            ...   ...  \n12811    580366114  LINK  \n12812    870576845   LTC  \n12813    845372145   TRX  \n12814    199435671  WBTC  \n12815   1628060313   XRP  \n\n[12816 rows x 7 columns]",
      "text/html": "<div>\n<style scoped>\n    .dataframe tbody tr th:only-of-type {\n        vertical-align: middle;\n    }\n\n    .dataframe tbody tr th {\n        vertical-align: top;\n    }\n\n    .dataframe thead th {\n        text-align: right;\n    }\n</style>\n<table border=\"1\" class=\"dataframe\">\n  <thead>\n    <tr style=\"text-align: right;\">\n      <th></th>\n      <th>Date</th>\n      <th>Open</th>\n      <th>High</th>\n      <th>Low</th>\n      <th>Close</th>\n      <th>Volume</th>\n      <th>tic</th>\n    </tr>\n  </thead>\n  <tbody>\n    <tr>\n      <th>0</th>\n      <td>2020-01-01</td>\n      <td>0.032832</td>\n      <td>0.033813</td>\n      <td>0.032704</td>\n      <td>0.033458</td>\n      <td>22948374</td>\n      <td>ADA</td>\n    </tr>\n    <tr>\n      <th>1</th>\n      <td>2020-01-01</td>\n      <td>4.216717</td>\n      <td>4.467644</td>\n      <td>4.204366</td>\n      <td>4.380158</td>\n      <td>107994513</td>\n      <td>ATOM</td>\n    </tr>\n    <tr>\n      <th>2</th>\n      <td>2020-01-01</td>\n      <td>204.671295</td>\n      <td>208.077515</td>\n      <td>203.205154</td>\n      <td>204.397537</td>\n      <td>1456113692</td>\n      <td>BCH</td>\n    </tr>\n    <tr>\n      <th>3</th>\n      <td>2020-01-01</td>\n      <td>13.730962</td>\n      <td>13.873946</td>\n      <td>13.654942</td>\n      <td>13.689083</td>\n      <td>172980718</td>\n      <td>BNB</td>\n    </tr>\n    <tr>\n      <th>4</th>\n      <td>2020-01-01</td>\n      <td>7194.892090</td>\n      <td>7254.330566</td>\n      <td>7174.944336</td>\n      <td>7200.174316</td>\n      <td>18565664997</td>\n      <td>BTC</td>\n    </tr>\n    <tr>\n      <th>...</th>\n      <td>...</td>\n      <td>...</td>\n      <td>...</td>\n      <td>...</td>\n      <td>...</td>\n      <td>...</td>\n      <td>...</td>\n    </tr>\n    <tr>\n      <th>12811</th>\n      <td>2021-12-12</td>\n      <td>19.945532</td>\n      <td>20.823475</td>\n      <td>19.278799</td>\n      <td>20.456585</td>\n      <td>580366114</td>\n      <td>LINK</td>\n    </tr>\n    <tr>\n      <th>12812</th>\n      <td>2021-12-12</td>\n      <td>157.925339</td>\n      <td>162.485016</td>\n      <td>153.610352</td>\n      <td>159.203964</td>\n      <td>870576845</td>\n      <td>LTC</td>\n    </tr>\n    <tr>\n      <th>12813</th>\n      <td>2021-12-12</td>\n      <td>0.091574</td>\n      <td>0.092408</td>\n      <td>0.089894</td>\n      <td>0.091136</td>\n      <td>845372145</td>\n      <td>TRX</td>\n    </tr>\n    <tr>\n      <th>12814</th>\n      <td>2021-12-12</td>\n      <td>48759.597656</td>\n      <td>49960.847656</td>\n      <td>48375.175781</td>\n      <td>49638.460938</td>\n      <td>199435671</td>\n      <td>WBTC</td>\n    </tr>\n    <tr>\n      <th>12815</th>\n      <td>2021-12-12</td>\n      <td>0.838745</td>\n      <td>0.856821</td>\n      <td>0.811206</td>\n      <td>0.841324</td>\n      <td>1628060313</td>\n      <td>XRP</td>\n    </tr>\n  </tbody>\n</table>\n<p>12816 rows × 7 columns</p>\n</div>"
     },
     "execution_count": 28,
     "metadata": {},
     "output_type": "execute_result"
    }
   ],
   "source": [
    "df1"
   ],
   "metadata": {
    "collapsed": false,
    "pycharm": {
     "name": "#%%\n"
    }
   }
  },
  {
   "cell_type": "code",
   "execution_count": 29,
   "outputs": [],
   "source": [
    "\n",
    "\n",
    "class Agent:\n",
    "    def __init__(self, state_size, is_eval=False, model_name=\"\"):\n",
    "        self.state_size = state_size # normalized previous days\n",
    "        self.action_size = 3 # sit, buy, sell\n",
    "        self.memory = deque(maxlen=1000)\n",
    "        self.inventory = []\n",
    "        self.model_name = model_name\n",
    "        self.is_eval = is_eval\n",
    "\n",
    "        self.gamma = 0.95\n",
    "        self.epsilon = 1.0\n",
    "        self.epsilon_min = 0.01\n",
    "        self.epsilon_decay = 0.995\n",
    "\n",
    "        self.model = load_model(\"models/\" + model_name) if is_eval else self._model()\n",
    "\n",
    "    def _model(self):\n",
    "        model = Sequential()\n",
    "        model.add(Dense(units=64, input_dim=self.state_size, activation=\"relu\"))\n",
    "        model.add(Dense(units=32, activation=\"relu\"))\n",
    "        model.add(Dense(units=8, activation=\"relu\"))\n",
    "        model.add(Dense(self.action_size, activation=\"linear\"))\n",
    "        model.compile(loss=\"mse\", optimizer=Adam(lr=0.001))\n",
    "\n",
    "        return model\n",
    "\n",
    "    def act(self, state):\n",
    "        if not self.is_eval and random.random() <= self.epsilon:\n",
    "            return random.randrange(self.action_size)\n",
    "\n",
    "        options = self.model.predict(state)\n",
    "        return np.argmax(options[0])\n",
    "\n",
    "    def expReplay(self, batch_size):\n",
    "        mini_batch = []\n",
    "        l = len(self.memory)\n",
    "        for i in range(l - batch_size + 1, l):\n",
    "            mini_batch.append(self.memory[i])\n",
    "\n",
    "        for state, action, reward, next_state, done in mini_batch:\n",
    "            target = reward\n",
    "            if not done:\n",
    "                target = reward + self.gamma * np.amax(self.model.predict(next_state)[0])\n",
    "\n",
    "            target_f = self.model.predict(state)\n",
    "            target_f[0][action] = target\n",
    "            self.model.fit(state, target_f, epochs=1, verbose=0)\n",
    "\n",
    "        if self.epsilon > self.epsilon_min:\n",
    "            self.epsilon *= self.epsilon_decay"
   ],
   "metadata": {
    "collapsed": false,
    "pycharm": {
     "name": "#%%\n"
    }
   }
  },
  {
   "cell_type": "code",
   "execution_count": 41,
   "outputs": [],
   "source": [
    "# prints formatted price\n"
   ],
   "metadata": {
    "collapsed": false,
    "pycharm": {
     "name": "#%%\n"
    }
   }
  },
  {
   "cell_type": "code",
   "execution_count": 42,
   "outputs": [
    {
     "name": "stdout",
     "output_type": "stream",
     "text": [
      "Episode 0/5\n"
     ]
    },
    {
     "name": "stderr",
     "output_type": "stream",
     "text": [
      "/Users/henriquerio/miniconda3/lib/python3.8/site-packages/keras/optimizer_v2/adam.py:105: UserWarning: The `lr` argument is deprecated, use `learning_rate` instead.\n",
      "  super(Adam, self).__init__(name, **kwargs)\n"
     ]
    },
    {
     "ename": "KeyError",
     "evalue": "1",
     "output_type": "error",
     "traceback": [
      "\u001B[0;31m---------------------------------------------------------------------------\u001B[0m",
      "\u001B[0;31mKeyError\u001B[0m                                  Traceback (most recent call last)",
      "File \u001B[0;32m~/miniconda3/lib/python3.8/site-packages/pandas/core/indexes/base.py:3621\u001B[0m, in \u001B[0;36mIndex.get_loc\u001B[0;34m(self, key, method, tolerance)\u001B[0m\n\u001B[1;32m   3620\u001B[0m \u001B[38;5;28;01mtry\u001B[39;00m:\n\u001B[0;32m-> 3621\u001B[0m     \u001B[38;5;28;01mreturn\u001B[39;00m \u001B[38;5;28;43mself\u001B[39;49m\u001B[38;5;241;43m.\u001B[39;49m\u001B[43m_engine\u001B[49m\u001B[38;5;241;43m.\u001B[39;49m\u001B[43mget_loc\u001B[49m\u001B[43m(\u001B[49m\u001B[43mcasted_key\u001B[49m\u001B[43m)\u001B[49m\n\u001B[1;32m   3622\u001B[0m \u001B[38;5;28;01mexcept\u001B[39;00m \u001B[38;5;167;01mKeyError\u001B[39;00m \u001B[38;5;28;01mas\u001B[39;00m err:\n",
      "File \u001B[0;32m~/miniconda3/lib/python3.8/site-packages/pandas/_libs/index.pyx:136\u001B[0m, in \u001B[0;36mpandas._libs.index.IndexEngine.get_loc\u001B[0;34m()\u001B[0m\n",
      "File \u001B[0;32m~/miniconda3/lib/python3.8/site-packages/pandas/_libs/index.pyx:163\u001B[0m, in \u001B[0;36mpandas._libs.index.IndexEngine.get_loc\u001B[0;34m()\u001B[0m\n",
      "File \u001B[0;32mpandas/_libs/hashtable_class_helper.pxi:5198\u001B[0m, in \u001B[0;36mpandas._libs.hashtable.PyObjectHashTable.get_item\u001B[0;34m()\u001B[0m\n",
      "File \u001B[0;32mpandas/_libs/hashtable_class_helper.pxi:5206\u001B[0m, in \u001B[0;36mpandas._libs.hashtable.PyObjectHashTable.get_item\u001B[0;34m()\u001B[0m\n",
      "\u001B[0;31mKeyError\u001B[0m: 1",
      "\nThe above exception was the direct cause of the following exception:\n",
      "\u001B[0;31mKeyError\u001B[0m                                  Traceback (most recent call last)",
      "Input \u001B[0;32mIn [42]\u001B[0m, in \u001B[0;36m<cell line: 13>\u001B[0;34m()\u001B[0m\n\u001B[1;32m     13\u001B[0m \u001B[38;5;28;01mfor\u001B[39;00m e \u001B[38;5;129;01min\u001B[39;00m \u001B[38;5;28mrange\u001B[39m(episode_count \u001B[38;5;241m+\u001B[39m \u001B[38;5;241m1\u001B[39m):\n\u001B[1;32m     14\u001B[0m     \u001B[38;5;28mprint\u001B[39m(\u001B[38;5;124m\"\u001B[39m\u001B[38;5;124mEpisode \u001B[39m\u001B[38;5;124m\"\u001B[39m \u001B[38;5;241m+\u001B[39m \u001B[38;5;28mstr\u001B[39m(e) \u001B[38;5;241m+\u001B[39m \u001B[38;5;124m\"\u001B[39m\u001B[38;5;124m/\u001B[39m\u001B[38;5;124m\"\u001B[39m \u001B[38;5;241m+\u001B[39m \u001B[38;5;28mstr\u001B[39m(episode_count))\n\u001B[0;32m---> 15\u001B[0m     state \u001B[38;5;241m=\u001B[39m \u001B[43mgetState\u001B[49m\u001B[43m(\u001B[49m\u001B[43mdata\u001B[49m\u001B[43m,\u001B[49m\u001B[43m \u001B[49m\u001B[38;5;241;43m0\u001B[39;49m\u001B[43m,\u001B[49m\u001B[43m \u001B[49m\u001B[43mwindow_size\u001B[49m\u001B[43m \u001B[49m\u001B[38;5;241;43m+\u001B[39;49m\u001B[43m \u001B[49m\u001B[38;5;241;43m1\u001B[39;49m\u001B[43m)\u001B[49m\n\u001B[1;32m     17\u001B[0m     total_profit \u001B[38;5;241m=\u001B[39m \u001B[38;5;241m0\u001B[39m\n\u001B[1;32m     18\u001B[0m     agent\u001B[38;5;241m.\u001B[39minventory \u001B[38;5;241m=\u001B[39m []\n",
      "Input \u001B[0;32mIn [41]\u001B[0m, in \u001B[0;36mgetState\u001B[0;34m(data, t, n)\u001B[0m\n\u001B[1;32m     20\u001B[0m \u001B[38;5;28;01mdef\u001B[39;00m \u001B[38;5;21mgetState\u001B[39m(data, t, n):\n\u001B[1;32m     21\u001B[0m     d \u001B[38;5;241m=\u001B[39m t \u001B[38;5;241m-\u001B[39m n \u001B[38;5;241m+\u001B[39m \u001B[38;5;241m1\u001B[39m\n\u001B[0;32m---> 22\u001B[0m     block \u001B[38;5;241m=\u001B[39m data[d:t \u001B[38;5;241m+\u001B[39m \u001B[38;5;241m1\u001B[39m] \u001B[38;5;28;01mif\u001B[39;00m d \u001B[38;5;241m>\u001B[39m\u001B[38;5;241m=\u001B[39m \u001B[38;5;241m0\u001B[39m \u001B[38;5;28;01melse\u001B[39;00m \u001B[38;5;241m-\u001B[39md \u001B[38;5;241m*\u001B[39m [\u001B[43mdata\u001B[49m\u001B[43m[\u001B[49m\u001B[38;5;241;43m1\u001B[39;49m\u001B[43m]\u001B[49m] \u001B[38;5;241m+\u001B[39m data[\u001B[38;5;241m1\u001B[39m:t \u001B[38;5;241m+\u001B[39m \u001B[38;5;241m1\u001B[39m] \u001B[38;5;66;03m# pad with t0\u001B[39;00m\n\u001B[1;32m     23\u001B[0m     res \u001B[38;5;241m=\u001B[39m []\n\u001B[1;32m     24\u001B[0m     \u001B[38;5;28;01mfor\u001B[39;00m i \u001B[38;5;129;01min\u001B[39;00m \u001B[38;5;28mrange\u001B[39m(n \u001B[38;5;241m-\u001B[39m \u001B[38;5;241m1\u001B[39m):\n",
      "File \u001B[0;32m~/miniconda3/lib/python3.8/site-packages/pandas/core/frame.py:3505\u001B[0m, in \u001B[0;36mDataFrame.__getitem__\u001B[0;34m(self, key)\u001B[0m\n\u001B[1;32m   3503\u001B[0m \u001B[38;5;28;01mif\u001B[39;00m \u001B[38;5;28mself\u001B[39m\u001B[38;5;241m.\u001B[39mcolumns\u001B[38;5;241m.\u001B[39mnlevels \u001B[38;5;241m>\u001B[39m \u001B[38;5;241m1\u001B[39m:\n\u001B[1;32m   3504\u001B[0m     \u001B[38;5;28;01mreturn\u001B[39;00m \u001B[38;5;28mself\u001B[39m\u001B[38;5;241m.\u001B[39m_getitem_multilevel(key)\n\u001B[0;32m-> 3505\u001B[0m indexer \u001B[38;5;241m=\u001B[39m \u001B[38;5;28;43mself\u001B[39;49m\u001B[38;5;241;43m.\u001B[39;49m\u001B[43mcolumns\u001B[49m\u001B[38;5;241;43m.\u001B[39;49m\u001B[43mget_loc\u001B[49m\u001B[43m(\u001B[49m\u001B[43mkey\u001B[49m\u001B[43m)\u001B[49m\n\u001B[1;32m   3506\u001B[0m \u001B[38;5;28;01mif\u001B[39;00m is_integer(indexer):\n\u001B[1;32m   3507\u001B[0m     indexer \u001B[38;5;241m=\u001B[39m [indexer]\n",
      "File \u001B[0;32m~/miniconda3/lib/python3.8/site-packages/pandas/core/indexes/base.py:3623\u001B[0m, in \u001B[0;36mIndex.get_loc\u001B[0;34m(self, key, method, tolerance)\u001B[0m\n\u001B[1;32m   3621\u001B[0m     \u001B[38;5;28;01mreturn\u001B[39;00m \u001B[38;5;28mself\u001B[39m\u001B[38;5;241m.\u001B[39m_engine\u001B[38;5;241m.\u001B[39mget_loc(casted_key)\n\u001B[1;32m   3622\u001B[0m \u001B[38;5;28;01mexcept\u001B[39;00m \u001B[38;5;167;01mKeyError\u001B[39;00m \u001B[38;5;28;01mas\u001B[39;00m err:\n\u001B[0;32m-> 3623\u001B[0m     \u001B[38;5;28;01mraise\u001B[39;00m \u001B[38;5;167;01mKeyError\u001B[39;00m(key) \u001B[38;5;28;01mfrom\u001B[39;00m \u001B[38;5;21;01merr\u001B[39;00m\n\u001B[1;32m   3624\u001B[0m \u001B[38;5;28;01mexcept\u001B[39;00m \u001B[38;5;167;01mTypeError\u001B[39;00m:\n\u001B[1;32m   3625\u001B[0m     \u001B[38;5;66;03m# If we have a listlike key, _check_indexing_error will raise\u001B[39;00m\n\u001B[1;32m   3626\u001B[0m     \u001B[38;5;66;03m#  InvalidIndexError. Otherwise we fall through and re-raise\u001B[39;00m\n\u001B[1;32m   3627\u001B[0m     \u001B[38;5;66;03m#  the TypeError.\u001B[39;00m\n\u001B[1;32m   3628\u001B[0m     \u001B[38;5;28mself\u001B[39m\u001B[38;5;241m.\u001B[39m_check_indexing_error(key)\n",
      "\u001B[0;31mKeyError\u001B[0m: 1"
     ]
    }
   ],
   "source": [
    "import sys\n",
    "\n",
    "stock_name, window_size, episode_count = 'BTC', 12,5\n",
    "\n",
    "agent = Agent(window_size)\n",
    "data=getStockDataVec(stock_name)\n",
    "\n",
    "#data = getStockDataVec(stock_name)\n",
    "data=df1\n",
    "l = len(data) - 1\n",
    "batch_size = 32\n",
    "\n",
    "for e in range(episode_count + 1):\n",
    "    print(\"Episode \" + str(e) + \"/\" + str(episode_count))\n",
    "    state = getState(data, 0, window_size + 1)\n",
    "\n",
    "    total_profit = 0\n",
    "    agent.inventory = []\n",
    "\n",
    "    for t in range(l):\n",
    "        action = agent.act(state)\n",
    "\n",
    "        # sit\n",
    "        next_state = getState(data, t + 1, window_size + 1)\n",
    "        reward = 0\n",
    "\n",
    "        if action == 1: # buy\n",
    "            agent.inventory.append(data[t])\n",
    "            print(\"Buy: \" + formatPrice(data[t]))\n",
    "\n",
    "        elif action == 2 and len(agent.inventory) > 0: # sell\n",
    "            bought_price = agent.inventory.pop(0)\n",
    "            reward = max(data[t] - bought_price, 0)\n",
    "            total_profit += data[t] - bought_price\n",
    "            print(\"Sell: \" + formatPrice(data[t]) + \" | Profit: \" + formatPrice(data[t] - bought_price))\n",
    "\n",
    "        done = True if t == l - 1 else False\n",
    "        agent.memory.append((state, action, reward, next_state, done))\n",
    "        state = next_state\n",
    "\n",
    "        if done:\n",
    "            print(\"--------------------------------\")\n",
    "            print(\"Total Profit: \" + formatPrice(total_profit))\n",
    "            print(\"--------------------------------\")\n",
    "\n",
    "        if len(agent.memory) > batch_size:\n",
    "            agent.expReplay(batch_size)\n",
    "\n",
    "    if e % 10 == 0:\n",
    "        agent.model.save(\"../working/model_ep\" + str(e))"
   ],
   "metadata": {
    "collapsed": false,
    "pycharm": {
     "name": "#%%\n"
    }
   }
  },
  {
   "cell_type": "code",
   "execution_count": null,
   "outputs": [],
   "source": [],
   "metadata": {
    "collapsed": false,
    "pycharm": {
     "name": "#%%\n"
    }
   }
  }
 ],
 "metadata": {
  "kernelspec": {
   "display_name": "Python 3 (ipykernel)",
   "language": "python",
   "name": "python3"
  },
  "language_info": {
   "codemirror_mode": {
    "name": "ipython",
    "version": 3
   },
   "file_extension": ".py",
   "mimetype": "text/x-python",
   "name": "python",
   "nbconvert_exporter": "python",
   "pygments_lexer": "ipython3",
   "version": "3.8.11"
  }
 },
 "nbformat": 4,
 "nbformat_minor": 1
}