{
 "cells": [
  {
   "cell_type": "code",
   "execution_count": 1,
   "id": "dd53b0ba",
   "metadata": {},
   "outputs": [],
   "source": [
    "# load binance data .\n",
    "#Load the required libraries\n",
    "import pandas as pd\n",
    "import yfinance as yf\n",
    "import seaborn as sns\n",
    "import matplotlib.pyplot as plt"
   ]
  },
  {
   "cell_type": "code",
   "execution_count": 2,
   "id": "b4b52c2e",
   "metadata": {},
   "outputs": [],
   "source": [
    "import pandas as pd\n",
    "import seaborn as sns\n",
    "import matplotlib.pyplot as plt\n",
    "from collections import deque\n",
    "import random\n",
    "#Import tensorflow.compat.v1 as tf\n",
    "#tf.compat.v1.disable_eager_execution()"
   ]
  },
  {
   "cell_type": "code",
   "execution_count": 3,
   "id": "7da72406",
   "metadata": {},
   "outputs": [],
   "source": [
    "import numpy as np\n",
    "import pandas as pd\n",
    "import seaborn as sns\n",
    "import matplotlib.pyplot as plt\n",
    "from collections import deque\n",
    "import random\n",
    "from pandas_datareader import data as pdr\n",
    "from collections import deque\n",
    "import random\n",
    "import tensorflow.compat.v1 as tf\n",
    "tf.compat.v1.disable_eager_execution()\n"
   ]
  },
  {
   "cell_type": "code",
   "execution_count": 31,
   "id": "25aed784",
   "metadata": {},
   "outputs": [],
   "source": [
    "import gym\n",
    "import keras\n",
    "from keras.models import Model\n",
    "from keras.layers import Dense, Input, Flatten, Conv2D, MaxPooling2D\n",
    "import chainer\n",
    "import chainer.functions as F\n",
    "import chainer.links as L"
   ]
  },
  {
   "cell_type": "code",
   "execution_count": 32,
   "id": "46f265b3",
   "metadata": {},
   "outputs": [],
   "source": [
    "import time\n",
    "import copy"
   ]
  },
  {
   "cell_type": "code",
   "execution_count": 33,
   "id": "bfc24abf",
   "metadata": {},
   "outputs": [
    {
     "name": "stdout",
     "output_type": "stream",
     "text": [
      "1.21.2\n",
      "['/Users/henriquerio/miniconda3/lib/python3.8/site-packages/numpy']\n"
     ]
    }
   ],
   "source": [
    "import numpy as np \n",
    "#print (numpy.__path__)\n",
    "print (np.__version__ )\n",
    "print (np.__path__)"
   ]
  },
  {
   "cell_type": "code",
   "execution_count": 6,
   "id": "9135a100",
   "metadata": {},
   "outputs": [],
   "source": []
  },
  {
   "cell_type": "code",
   "execution_count": 7,
   "id": "64098bdf",
   "metadata": {},
   "outputs": [
    {
     "ename": "SyntaxError",
     "evalue": "invalid syntax (4122906468.py, line 1)",
     "output_type": "error",
     "traceback": [
      "\u001B[0;36m  Input \u001B[0;32mIn [7]\u001B[0;36m\u001B[0m\n\u001B[0;31m    mv '/Library/Frameworks/Python.framework/Versions/3.8/lib/python3.8/site-packages/numpy' \\ '/Library/Frameworks/Python.framework/Versions/3.8/lib/python3.8/site-packages/numpy_old'\u001B[0m\n\u001B[0m       ^\u001B[0m\n\u001B[0;31mSyntaxError\u001B[0m\u001B[0;31m:\u001B[0m invalid syntax\n"
     ]
    }
   ],
   "source": [
    "mv '/Library/Frameworks/Python.framework/Versions/3.8/lib/python3.8/site-packages/numpy' \\ '/Library/Frameworks/Python.framework/Versions/3.8/lib/python3.8/site-packages/numpy_old'\n",
    "\n",
    "ln -s -f /Library/Frameworks/Python.framework/Versions/3.8/bin/python3.8 /Library/Frameworks/Python.framework/Versions/3.8/bin/python\n",
    "/Library/Frameworks/Python.framework/Versions/3.8/lib/python3.8/site-packages"
   ]
  },
  {
   "cell_type": "code",
   "execution_count": 8,
   "id": "b465de7f",
   "metadata": {},
   "outputs": [],
   "source": [
    "#cryptocurrencies = ['BNB-USD','BTC-USD', 'ETH-USD', 'XRP-USD', 'LEO-USD', 'ETC-USD', 'FTT-USD', 'TRX-USD', 'BCH-USD', 'UNI-USD', 'LINK-USD', 'NEAR-USD', 'ATOM-USD', 'LTC-USD', 'DAI-USD', 'CRO-USD', 'WBTC-USD', 'SHIB-USD', 'UST-USD', 'DOGE-USD', 'BUSD-USD', 'DOT-USD', 'AVAX-USD', 'SOL-USD', 'LUNA-USD', 'ADA-USD']\n",
    "# cryptocurrencies = ['BNB-USD','BTC-USD', 'ETH-USD', 'XRP-USD', 'LEO-USD', 'ETC-USD', 'FTT-USD', 'TRX-USD', 'BCH-USD', 'UNI-USD', 'LINK-USD', 'ATOM-USD', 'LTC-USD', 'DAI-USD', 'CRO-USD', 'WBTC-USD', 'DOGE-USD', 'BUSD-USD',  'LUNA-USD', 'ADA-USD']\n",
    "#cryptocurrencies = ['BNB-USD','BTC-USD', 'ETH-USD', 'XRP-USD', 'LEO-USD', 'ETC-USD', 'FTT-USD', 'TRX-USD', 'BCH-USD', 'UNI-USD', 'LINK-USD', 'ATOM-USD', 'LTC-USD', 'DAI-USD', 'CRO-USD', 'WBTC-USD', 'DOGE-USD', 'BUSD-USD',   'LUNA-USD', 'ADA-USD']\n",
    "cryptocurrencies = ['BNB-USD']"
   ]
  },
  {
   "cell_type": "code",
   "execution_count": 9,
   "id": "ee725c5a",
   "metadata": {
    "collapsed": true
   },
   "outputs": [
    {
     "name": "stdout",
     "output_type": "stream",
     "text": [
      "[*********************100%***********************]  1 of 1 completed\n"
     ]
    },
    {
     "data": {
      "text/plain": "                                 Open        High         Low       Close  \\\n2020-05-01 06:00:00+00:00   17.729727   17.750147   17.532385   17.535965   \n2020-05-01 07:00:00+00:00   17.513859   17.626932   17.452251   17.626932   \n2020-05-01 08:00:00+00:00   17.629053   17.766047   17.608168   17.741772   \n2020-05-01 09:00:00+00:00   17.717882   17.892700   17.716984   17.828379   \n2020-05-01 10:00:00+00:00   17.822338   17.822338   17.647213   17.732605   \n...                               ...         ...         ...         ...   \n2022-04-08 01:00:00+00:00  436.241852  439.306824  435.818420  438.993439   \n2022-04-08 02:00:00+00:00  439.090271  440.642975  438.882172  439.585754   \n2022-04-08 03:00:00+00:00  439.421906  440.246002  438.519257  438.519257   \n2022-04-08 04:00:00+00:00  438.456512  438.456512  435.791595  436.304962   \n2022-04-08 05:00:00+00:00  436.266693  437.252045  435.549164  436.720490   \n\n                             Volume  \n2020-05-01 06:00:00+00:00         0  \n2020-05-01 07:00:00+00:00         0  \n2020-05-01 08:00:00+00:00         0  \n2020-05-01 09:00:00+00:00         0  \n2020-05-01 10:00:00+00:00         0  \n...                             ...  \n2022-04-08 01:00:00+00:00         0  \n2022-04-08 02:00:00+00:00  13068032  \n2022-04-08 03:00:00+00:00  24450048  \n2022-04-08 04:00:00+00:00   8215040  \n2022-04-08 05:00:00+00:00         0  \n\n[16565 rows x 5 columns]",
      "text/html": "<div>\n<style scoped>\n    .dataframe tbody tr th:only-of-type {\n        vertical-align: middle;\n    }\n\n    .dataframe tbody tr th {\n        vertical-align: top;\n    }\n\n    .dataframe thead th {\n        text-align: right;\n    }\n</style>\n<table border=\"1\" class=\"dataframe\">\n  <thead>\n    <tr style=\"text-align: right;\">\n      <th></th>\n      <th>Open</th>\n      <th>High</th>\n      <th>Low</th>\n      <th>Close</th>\n      <th>Volume</th>\n    </tr>\n  </thead>\n  <tbody>\n    <tr>\n      <th>2020-05-01 06:00:00+00:00</th>\n      <td>17.729727</td>\n      <td>17.750147</td>\n      <td>17.532385</td>\n      <td>17.535965</td>\n      <td>0</td>\n    </tr>\n    <tr>\n      <th>2020-05-01 07:00:00+00:00</th>\n      <td>17.513859</td>\n      <td>17.626932</td>\n      <td>17.452251</td>\n      <td>17.626932</td>\n      <td>0</td>\n    </tr>\n    <tr>\n      <th>2020-05-01 08:00:00+00:00</th>\n      <td>17.629053</td>\n      <td>17.766047</td>\n      <td>17.608168</td>\n      <td>17.741772</td>\n      <td>0</td>\n    </tr>\n    <tr>\n      <th>2020-05-01 09:00:00+00:00</th>\n      <td>17.717882</td>\n      <td>17.892700</td>\n      <td>17.716984</td>\n      <td>17.828379</td>\n      <td>0</td>\n    </tr>\n    <tr>\n      <th>2020-05-01 10:00:00+00:00</th>\n      <td>17.822338</td>\n      <td>17.822338</td>\n      <td>17.647213</td>\n      <td>17.732605</td>\n      <td>0</td>\n    </tr>\n    <tr>\n      <th>...</th>\n      <td>...</td>\n      <td>...</td>\n      <td>...</td>\n      <td>...</td>\n      <td>...</td>\n    </tr>\n    <tr>\n      <th>2022-04-08 01:00:00+00:00</th>\n      <td>436.241852</td>\n      <td>439.306824</td>\n      <td>435.818420</td>\n      <td>438.993439</td>\n      <td>0</td>\n    </tr>\n    <tr>\n      <th>2022-04-08 02:00:00+00:00</th>\n      <td>439.090271</td>\n      <td>440.642975</td>\n      <td>438.882172</td>\n      <td>439.585754</td>\n      <td>13068032</td>\n    </tr>\n    <tr>\n      <th>2022-04-08 03:00:00+00:00</th>\n      <td>439.421906</td>\n      <td>440.246002</td>\n      <td>438.519257</td>\n      <td>438.519257</td>\n      <td>24450048</td>\n    </tr>\n    <tr>\n      <th>2022-04-08 04:00:00+00:00</th>\n      <td>438.456512</td>\n      <td>438.456512</td>\n      <td>435.791595</td>\n      <td>436.304962</td>\n      <td>8215040</td>\n    </tr>\n    <tr>\n      <th>2022-04-08 05:00:00+00:00</th>\n      <td>436.266693</td>\n      <td>437.252045</td>\n      <td>435.549164</td>\n      <td>436.720490</td>\n      <td>0</td>\n    </tr>\n  </tbody>\n</table>\n<p>16565 rows × 5 columns</p>\n</div>"
     },
     "execution_count": 9,
     "metadata": {},
     "output_type": "execute_result"
    }
   ],
   "source": [
    "\n",
    "#data = yf.download(cryptocurrencies, start='2020-01-01',\n",
    "#                end='2021-12-12')\n",
    "data = yf.download(cryptocurrencies, start='2020-05-01',\n",
    "                end='2022-4-8', interval='1h', back_adjust=True, auto_adjust=True, prepost=True)\n",
    "\n",
    "data\n"
   ]
  },
  {
   "cell_type": "code",
   "execution_count": 10,
   "id": "498bba89",
   "metadata": {},
   "outputs": [
    {
     "data": {
      "text/plain": "                                Open       High        Low      Close  \\\n2020-05-01 07:00:00+00:00  17.513859  17.626932  17.452251  17.626932   \n2020-05-01 08:00:00+00:00  17.629053  17.766047  17.608168  17.741772   \n2020-05-01 09:00:00+00:00  17.717882  17.892700  17.716984  17.828379   \n2020-05-01 10:00:00+00:00  17.822338  17.822338  17.647213  17.732605   \n2020-05-01 11:00:00+00:00  17.737953  17.817448  17.596731  17.596731   \n2020-05-01 12:00:00+00:00  17.619566  17.696228  17.502697  17.526312   \n2020-05-01 13:00:00+00:00  17.522375  17.600925  17.422773  17.510906   \n2020-05-01 14:00:00+00:00  17.495600  17.550877  17.440714  17.536884   \n2020-05-01 15:00:00+00:00  17.561235  17.608404  17.457802  17.458111   \n2020-05-01 16:00:00+00:00  17.454876  17.479723  17.280825  17.360552   \n2020-05-01 17:00:00+00:00  17.373121  17.482523  17.339178  17.467779   \n2020-05-01 18:00:00+00:00  17.476789  17.543966  17.454185  17.475065   \n2020-05-01 19:00:00+00:00  17.484039  17.484039  17.350502  17.352812   \n2020-05-01 20:00:00+00:00  17.344624  17.472803  17.344624  17.446939   \n2020-05-01 21:00:00+00:00  17.469427  17.619341  17.462786  17.619341   \n2020-05-01 22:00:00+00:00  17.608631  17.665316  17.560167  17.653236   \n2020-05-02 00:00:00+00:00  17.570562  17.613401  17.500557  17.593819   \n2020-05-02 01:00:00+00:00  17.606501  17.621529  17.524607  17.532793   \n2020-05-02 02:00:00+00:00  17.518652  17.590515  17.517954  17.577196   \n\n                             Volume  \n2020-05-01 07:00:00+00:00         0  \n2020-05-01 08:00:00+00:00         0  \n2020-05-01 09:00:00+00:00         0  \n2020-05-01 10:00:00+00:00         0  \n2020-05-01 11:00:00+00:00  18046400  \n2020-05-01 12:00:00+00:00         0  \n2020-05-01 13:00:00+00:00         0  \n2020-05-01 14:00:00+00:00   7440928  \n2020-05-01 15:00:00+00:00         0  \n2020-05-01 16:00:00+00:00         0  \n2020-05-01 17:00:00+00:00         0  \n2020-05-01 18:00:00+00:00         0  \n2020-05-01 19:00:00+00:00   1527488  \n2020-05-01 20:00:00+00:00  12539264  \n2020-05-01 21:00:00+00:00   6428896  \n2020-05-01 22:00:00+00:00   5797888  \n2020-05-02 00:00:00+00:00   3366880  \n2020-05-02 01:00:00+00:00   1988352  \n2020-05-02 02:00:00+00:00         0  ",
      "text/html": "<div>\n<style scoped>\n    .dataframe tbody tr th:only-of-type {\n        vertical-align: middle;\n    }\n\n    .dataframe tbody tr th {\n        vertical-align: top;\n    }\n\n    .dataframe thead th {\n        text-align: right;\n    }\n</style>\n<table border=\"1\" class=\"dataframe\">\n  <thead>\n    <tr style=\"text-align: right;\">\n      <th></th>\n      <th>Open</th>\n      <th>High</th>\n      <th>Low</th>\n      <th>Close</th>\n      <th>Volume</th>\n    </tr>\n  </thead>\n  <tbody>\n    <tr>\n      <th>2020-05-01 07:00:00+00:00</th>\n      <td>17.513859</td>\n      <td>17.626932</td>\n      <td>17.452251</td>\n      <td>17.626932</td>\n      <td>0</td>\n    </tr>\n    <tr>\n      <th>2020-05-01 08:00:00+00:00</th>\n      <td>17.629053</td>\n      <td>17.766047</td>\n      <td>17.608168</td>\n      <td>17.741772</td>\n      <td>0</td>\n    </tr>\n    <tr>\n      <th>2020-05-01 09:00:00+00:00</th>\n      <td>17.717882</td>\n      <td>17.892700</td>\n      <td>17.716984</td>\n      <td>17.828379</td>\n      <td>0</td>\n    </tr>\n    <tr>\n      <th>2020-05-01 10:00:00+00:00</th>\n      <td>17.822338</td>\n      <td>17.822338</td>\n      <td>17.647213</td>\n      <td>17.732605</td>\n      <td>0</td>\n    </tr>\n    <tr>\n      <th>2020-05-01 11:00:00+00:00</th>\n      <td>17.737953</td>\n      <td>17.817448</td>\n      <td>17.596731</td>\n      <td>17.596731</td>\n      <td>18046400</td>\n    </tr>\n    <tr>\n      <th>2020-05-01 12:00:00+00:00</th>\n      <td>17.619566</td>\n      <td>17.696228</td>\n      <td>17.502697</td>\n      <td>17.526312</td>\n      <td>0</td>\n    </tr>\n    <tr>\n      <th>2020-05-01 13:00:00+00:00</th>\n      <td>17.522375</td>\n      <td>17.600925</td>\n      <td>17.422773</td>\n      <td>17.510906</td>\n      <td>0</td>\n    </tr>\n    <tr>\n      <th>2020-05-01 14:00:00+00:00</th>\n      <td>17.495600</td>\n      <td>17.550877</td>\n      <td>17.440714</td>\n      <td>17.536884</td>\n      <td>7440928</td>\n    </tr>\n    <tr>\n      <th>2020-05-01 15:00:00+00:00</th>\n      <td>17.561235</td>\n      <td>17.608404</td>\n      <td>17.457802</td>\n      <td>17.458111</td>\n      <td>0</td>\n    </tr>\n    <tr>\n      <th>2020-05-01 16:00:00+00:00</th>\n      <td>17.454876</td>\n      <td>17.479723</td>\n      <td>17.280825</td>\n      <td>17.360552</td>\n      <td>0</td>\n    </tr>\n    <tr>\n      <th>2020-05-01 17:00:00+00:00</th>\n      <td>17.373121</td>\n      <td>17.482523</td>\n      <td>17.339178</td>\n      <td>17.467779</td>\n      <td>0</td>\n    </tr>\n    <tr>\n      <th>2020-05-01 18:00:00+00:00</th>\n      <td>17.476789</td>\n      <td>17.543966</td>\n      <td>17.454185</td>\n      <td>17.475065</td>\n      <td>0</td>\n    </tr>\n    <tr>\n      <th>2020-05-01 19:00:00+00:00</th>\n      <td>17.484039</td>\n      <td>17.484039</td>\n      <td>17.350502</td>\n      <td>17.352812</td>\n      <td>1527488</td>\n    </tr>\n    <tr>\n      <th>2020-05-01 20:00:00+00:00</th>\n      <td>17.344624</td>\n      <td>17.472803</td>\n      <td>17.344624</td>\n      <td>17.446939</td>\n      <td>12539264</td>\n    </tr>\n    <tr>\n      <th>2020-05-01 21:00:00+00:00</th>\n      <td>17.469427</td>\n      <td>17.619341</td>\n      <td>17.462786</td>\n      <td>17.619341</td>\n      <td>6428896</td>\n    </tr>\n    <tr>\n      <th>2020-05-01 22:00:00+00:00</th>\n      <td>17.608631</td>\n      <td>17.665316</td>\n      <td>17.560167</td>\n      <td>17.653236</td>\n      <td>5797888</td>\n    </tr>\n    <tr>\n      <th>2020-05-02 00:00:00+00:00</th>\n      <td>17.570562</td>\n      <td>17.613401</td>\n      <td>17.500557</td>\n      <td>17.593819</td>\n      <td>3366880</td>\n    </tr>\n    <tr>\n      <th>2020-05-02 01:00:00+00:00</th>\n      <td>17.606501</td>\n      <td>17.621529</td>\n      <td>17.524607</td>\n      <td>17.532793</td>\n      <td>1988352</td>\n    </tr>\n    <tr>\n      <th>2020-05-02 02:00:00+00:00</th>\n      <td>17.518652</td>\n      <td>17.590515</td>\n      <td>17.517954</td>\n      <td>17.577196</td>\n      <td>0</td>\n    </tr>\n  </tbody>\n</table>\n</div>"
     },
     "execution_count": 10,
     "metadata": {},
     "output_type": "execute_result"
    }
   ],
   "source": [
    "data[1:20]\n"
   ]
  },
  {
   "cell_type": "code",
   "execution_count": 22,
   "id": "c665d75e",
   "metadata": {},
   "outputs": [],
   "source": [
    "df = pd.DataFrame(data)"
   ]
  },
  {
   "cell_type": "code",
   "execution_count": 23,
   "id": "89eb5869",
   "metadata": {},
   "outputs": [],
   "source": [
    "#df.to_excel('cryptoData.xlsx')\n",
    "#df.to_excel('cryptoData.xls')\n",
    "#\n",
    "df.to_csv('cryptoData.xls')\n",
    "\n",
    "#\n",
    "#import openpyxl\n"
   ]
  },
  {
   "cell_type": "code",
   "execution_count": 24,
   "id": "942f642d",
   "metadata": {},
   "outputs": [],
   "source": [
    "import tensorflow as tf"
   ]
  },
  {
   "cell_type": "code",
   "execution_count": 25,
   "id": "c26913b2",
   "metadata": {},
   "outputs": [],
   "source": [
    "import csv\n"
   ]
  },
  {
   "cell_type": "code",
   "execution_count": 26,
   "id": "b0eda20f",
   "metadata": {},
   "outputs": [],
   "source": [
    "df = pd.read_csv('BTC-USD.csv')"
   ]
  },
  {
   "cell_type": "code",
   "execution_count": 27,
   "id": "f10ad60f",
   "metadata": {},
   "outputs": [
    {
     "name": "stdout",
     "output_type": "stream",
     "text": [
      "Tensor(\"MatMul_1:0\", shape=(2, 2), dtype=float32)\n"
     ]
    }
   ],
   "source": [
    "# creating nodes in computation graph\n",
    "#node1 = tf.constant(3, dtype = tf.int32)\n",
    "#node2 = tf.constant(5, dtype = tf.int32)\n",
    "#node3 = tf.add(node1, node2)\n",
    "\n",
    "# create tensorflow session object\n",
    "#sess = tf.Session()\n",
    "sess = tf.compat.v1.Session()\n",
    "\n",
    "# evaluating node3 and printing the result\n",
    "#print(\"Sum of node1 and node2 is:\", (node3))\n",
    "\n",
    "# Build a dataflow graph.\n",
    "c = tf.constant([[1.0, 2.0], [3.0, 4.0]])\n",
    "d = tf.constant([[1.0, 1.0], [0.0, 1.0]])\n",
    "e = tf.matmul(c, d)\n",
    "\n",
    "print(e)\n",
    "#tf.print(e)\n",
    "# closing the session\n",
    "sess.close()"
   ]
  },
  {
   "cell_type": "code",
   "execution_count": 28,
   "id": "c0dc0828",
   "metadata": {},
   "outputs": [],
   "source": [
    "#df= df_full.copy()\n",
    "name = 'Q-learning agent'\n",
    "class Agent:\n",
    "    def __init__(self, state_size, window_size, trend, skip, batch_size):\n",
    "        self.state_size = state_size\n",
    "        self.window_size = window_size\n",
    "        self.half_window = window_size // 2\n",
    "        self.trend = trend\n",
    "        self.skip = skip\n",
    "        self.action_size = 3\n",
    "        self.batch_size = batch_size\n",
    "        self.memory = deque(maxlen = 1000)\n",
    "        self.inventory = []\n",
    "        self.gamma = 0.95\n",
    "        self.epsilon = 0.5\n",
    "        self.epsilon_min = 0.01\n",
    "        self.epsilon_decay = 0.999\n",
    "        tf.reset_default_graph()\n",
    "        self.sess = tf.InteractiveSession()\n",
    "        self.X = tf.placeholder(tf.float32, [None, self.state_size])\n",
    "        self.Y = tf.placeholder(tf.float32, [None, self.action_size])\n",
    "        feed = tf.layers.dense(self.X, 256, activation = tf.nn.relu)\n",
    "        self.logits = tf.layers.dense(feed, self.action_size)\n",
    "        self.cost = tf.reduce_mean(tf.square(self.Y - self.logits))\n",
    "        self.optimizer = tf.train.GradientDescentOptimizer(1e-5).minimize(\n",
    "            self.cost\n",
    "        )\n",
    "        self.sess.run(tf.global_variables_initializer())\n",
    "    def act(self, state):\n",
    "        if random.random() <= self.epsilon:\n",
    "            return random.randrange(self.action_size)\n",
    "        return np.argmax(\n",
    "            self.sess.run(self.logits, feed_dict = {self.X: state})[0]\n",
    "        )\n",
    "    def get_state(self, t):\n",
    "        window_size = self.window_size + 1\n",
    "        d = t - window_size + 1\n",
    "        block = self.trend[d : t + 1] if d >= 0 else -d * [self.trend[0]] + self.trend[0 : t + 1]\n",
    "        res = []\n",
    "        for i in range(window_size - 1):\n",
    "            res.append(block[i + 1] - block[i])\n",
    "        return np.array([res])\n",
    "    def replay(self, batch_size):\n",
    "        mini_batch = []\n",
    "        l = len(self.memory)\n",
    "        for i in range(l - batch_size, l):\n",
    "            mini_batch.append(self.memory[i])\n",
    "        replay_size = len(mini_batch)\n",
    "        X = np.empty((replay_size, self.state_size))\n",
    "        Y = np.empty((replay_size, self.action_size))\n",
    "        states = np.array([a[0][0] for a in mini_batch])\n",
    "        new_states = np.array([a[3][0] for a in mini_batch])\n",
    "        Q = self.sess.run(self.logits, feed_dict = {self.X: states})\n",
    "        Q_new = self.sess.run(self.logits, feed_dict = {self.X: new_states})\n",
    "        for i in range(len(mini_batch)):\n",
    "            state, action, reward, next_state, done = mini_batch[i]\n",
    "            target = Q[i]\n",
    "            target[action] = reward\n",
    "            if not done:\n",
    "                target[action] += self.gamma * np.amax(Q_new[i])\n",
    "            X[i] = state\n",
    "            Y[i] = target\n",
    "        cost, _ = self.sess.run(\n",
    "            [self.cost, self.optimizer], feed_dict = {self.X: X, self.Y: Y}\n",
    "        )\n",
    "        if self.epsilon > self.epsilon_min:\n",
    "            self.epsilon *= self.epsilon_decay\n",
    "        return cost\n",
    "    def buy(self, initial_money):\n",
    "        starting_money = initial_money\n",
    "        states_sell = []\n",
    "        states_buy = []\n",
    "        inventory = []\n",
    "        state = self.get_state(0)\n",
    "        for t in range(0, len(self.trend) - 1, self.skip):\n",
    "            action = self.act(state)\n",
    "            next_state = self.get_state(t + 1)\n",
    "            if action == 1 and initial_money >= self.trend[t] and t < (len(self.trend) - self.half_window):\n",
    "                inventory.append(self.trend[t])\n",
    "                initial_money -= self.trend[t]\n",
    "                states_buy.append(t)\n",
    "                print('day %d: buy 1 unit at price %f, total balance %f'% (t, self.trend[t], initial_money))\n",
    "            elif action == 2 and len(inventory):\n",
    "                bought_price = inventory.pop(0)\n",
    "                initial_money += self.trend[t]\n",
    "                states_sell.append(t)\n",
    "                try:\n",
    "                    invest = ((close[t] - bought_price) / bought_price) * 100\n",
    "                except:\n",
    "                    invest = 0\n",
    "                print(\n",
    "                    'day %d, sell 1 unit at price %f, investment %f %%, total balance %f,'\n",
    "                    % (t, close[t], invest, initial_money)\n",
    "                )\n",
    "            state = next_state\n",
    "        invest = ((initial_money - starting_money) / starting_money) * 100\n",
    "        total_gains = initial_money - starting_money\n",
    "        return states_buy, states_sell, total_gains, invest\n",
    "    def train(self, iterations, checkpoint, initial_money):\n",
    "        for i in range(iterations):\n",
    "            total_profit = 0\n",
    "            inventory = []\n",
    "            state = self.get_state(0)\n",
    "            starting_money = initial_money\n",
    "            for t in range(0, len(self.trend) - 1, self.skip):\n",
    "                action = self.act(state)\n",
    "                next_state = self.get_state(t + 1)\n",
    "                if action == 1 and starting_money >= self.trend[t] and t < (len(self.trend) - self.half_window):\n",
    "                    inventory.append(self.trend[t])\n",
    "                    starting_money -= self.trend[t]\n",
    "                elif action == 2 and len(inventory) > 0:\n",
    "                    bought_price = inventory.pop(0)\n",
    "                    total_profit += self.trend[t] - bought_price\n",
    "                    starting_money += self.trend[t]\n",
    "                invest = ((starting_money - initial_money) / initial_money)\n",
    "                self.memory.append((state, action, invest, \n",
    "                                    next_state, starting_money < initial_money))\n",
    "                state = next_state\n",
    "                batch_size = min(self.batch_size, len(self.memory))\n",
    "                cost = self.replay(batch_size)\n",
    "            if (i+1) % checkpoint == 0:\n",
    "                print('epoch: %d, total rewards: %f.3, cost: %f, total money: %f'%(i + 1, total_profit, cost,\n",
    "                                                                                  starting_money))\n",
    "                           "
   ]
  },
  {
   "cell_type": "code",
   "execution_count": 29,
   "id": "7211288a",
   "metadata": {},
   "outputs": [
    {
     "data": {
      "text/plain": "Index(['Date', 'Open', 'High', 'Low', 'Close', 'Adj Close', 'Volume'], dtype='object')"
     },
     "execution_count": 29,
     "metadata": {},
     "output_type": "execute_result"
    }
   ],
   "source": [
    "df.columns"
   ]
  },
  {
   "cell_type": "code",
   "execution_count": 30,
   "id": "2701704e",
   "metadata": {},
   "outputs": [
    {
     "ename": "AttributeError",
     "evalue": "module 'tensorflow' has no attribute 'reset_default_graph'",
     "output_type": "error",
     "traceback": [
      "\u001B[0;31m---------------------------------------------------------------------------\u001B[0m",
      "\u001B[0;31mAttributeError\u001B[0m                            Traceback (most recent call last)",
      "Input \u001B[0;32mIn [30]\u001B[0m, in \u001B[0;36m<cell line: 6>\u001B[0;34m()\u001B[0m\n\u001B[1;32m      4\u001B[0m skip \u001B[38;5;241m=\u001B[39m \u001B[38;5;241m1\u001B[39m\n\u001B[1;32m      5\u001B[0m batch_size \u001B[38;5;241m=\u001B[39m \u001B[38;5;241m32\u001B[39m\n\u001B[0;32m----> 6\u001B[0m agent \u001B[38;5;241m=\u001B[39m \u001B[43mAgent\u001B[49m\u001B[43m(\u001B[49m\u001B[43mstate_size\u001B[49m\u001B[43m \u001B[49m\u001B[38;5;241;43m=\u001B[39;49m\u001B[43m \u001B[49m\u001B[43mwindow_size\u001B[49m\u001B[43m,\u001B[49m\u001B[43m \u001B[49m\n\u001B[1;32m      7\u001B[0m \u001B[43m              \u001B[49m\u001B[43mwindow_size\u001B[49m\u001B[43m \u001B[49m\u001B[38;5;241;43m=\u001B[39;49m\u001B[43m \u001B[49m\u001B[43mwindow_size\u001B[49m\u001B[43m,\u001B[49m\u001B[43m \u001B[49m\n\u001B[1;32m      8\u001B[0m \u001B[43m              \u001B[49m\u001B[43mtrend\u001B[49m\u001B[43m \u001B[49m\u001B[38;5;241;43m=\u001B[39;49m\u001B[43m \u001B[49m\u001B[43mclose\u001B[49m\u001B[43m,\u001B[49m\u001B[43m \u001B[49m\n\u001B[1;32m      9\u001B[0m \u001B[43m              \u001B[49m\u001B[43mskip\u001B[49m\u001B[43m \u001B[49m\u001B[38;5;241;43m=\u001B[39;49m\u001B[43m \u001B[49m\u001B[43mskip\u001B[49m\u001B[43m,\u001B[49m\u001B[43m \u001B[49m\n\u001B[1;32m     10\u001B[0m \u001B[43m              \u001B[49m\u001B[43mbatch_size\u001B[49m\u001B[43m \u001B[49m\u001B[38;5;241;43m=\u001B[39;49m\u001B[43m \u001B[49m\u001B[43mbatch_size\u001B[49m\u001B[43m)\u001B[49m\n\u001B[1;32m     11\u001B[0m agent\u001B[38;5;241m.\u001B[39mtrain(iterations \u001B[38;5;241m=\u001B[39m \u001B[38;5;241m50\u001B[39m, checkpoint \u001B[38;5;241m=\u001B[39m \u001B[38;5;241m5\u001B[39m, initial_money \u001B[38;5;241m=\u001B[39m initial_money)\n",
      "Input \u001B[0;32mIn [28]\u001B[0m, in \u001B[0;36mAgent.__init__\u001B[0;34m(self, state_size, window_size, trend, skip, batch_size)\u001B[0m\n\u001B[1;32m     16\u001B[0m \u001B[38;5;28mself\u001B[39m\u001B[38;5;241m.\u001B[39mepsilon_min \u001B[38;5;241m=\u001B[39m \u001B[38;5;241m0.01\u001B[39m\n\u001B[1;32m     17\u001B[0m \u001B[38;5;28mself\u001B[39m\u001B[38;5;241m.\u001B[39mepsilon_decay \u001B[38;5;241m=\u001B[39m \u001B[38;5;241m0.999\u001B[39m\n\u001B[0;32m---> 18\u001B[0m \u001B[43mtf\u001B[49m\u001B[38;5;241;43m.\u001B[39;49m\u001B[43mreset_default_graph\u001B[49m()\n\u001B[1;32m     19\u001B[0m \u001B[38;5;28mself\u001B[39m\u001B[38;5;241m.\u001B[39msess \u001B[38;5;241m=\u001B[39m tf\u001B[38;5;241m.\u001B[39mInteractiveSession()\n\u001B[1;32m     20\u001B[0m \u001B[38;5;28mself\u001B[39m\u001B[38;5;241m.\u001B[39mX \u001B[38;5;241m=\u001B[39m tf\u001B[38;5;241m.\u001B[39mplaceholder(tf\u001B[38;5;241m.\u001B[39mfloat32, [\u001B[38;5;28;01mNone\u001B[39;00m, \u001B[38;5;28mself\u001B[39m\u001B[38;5;241m.\u001B[39mstate_size])\n",
      "\u001B[0;31mAttributeError\u001B[0m: module 'tensorflow' has no attribute 'reset_default_graph'"
     ]
    }
   ],
   "source": [
    "close = df.Close.values.tolist()\n",
    "initial_money = 10000\n",
    "window_size = 30\n",
    "skip = 1\n",
    "batch_size = 32\n",
    "agent = Agent(state_size = window_size, \n",
    "              window_size = window_size, \n",
    "              trend = close, \n",
    "              skip = skip, \n",
    "              batch_size = batch_size)\n",
    "agent.train(iterations = 50, checkpoint = 5, initial_money = initial_money)"
   ]
  },
  {
   "cell_type": "code",
   "execution_count": 20,
   "id": "8d85b65c",
   "metadata": {},
   "outputs": [
    {
     "ename": "NameError",
     "evalue": "name 'agent' is not defined",
     "output_type": "error",
     "traceback": [
      "\u001B[0;31m---------------------------------------------------------------------------\u001B[0m",
      "\u001B[0;31mNameError\u001B[0m                                 Traceback (most recent call last)",
      "Input \u001B[0;32mIn [20]\u001B[0m, in \u001B[0;36m<cell line: 1>\u001B[0;34m()\u001B[0m\n\u001B[0;32m----> 1\u001B[0m states_buy, states_sell, total_gains, invest \u001B[38;5;241m=\u001B[39m \u001B[43magent\u001B[49m\u001B[38;5;241m.\u001B[39mbuy(initial_money \u001B[38;5;241m=\u001B[39m initial_money)\n",
      "\u001B[0;31mNameError\u001B[0m: name 'agent' is not defined"
     ]
    }
   ],
   "source": [
    "states_buy, states_sell, total_gains, invest = agent.buy(initial_money = initial_money)\n"
   ]
  },
  {
   "cell_type": "code",
   "execution_count": 21,
   "id": "1154469f",
   "metadata": {},
   "outputs": [
    {
     "ename": "NameError",
     "evalue": "name 'states_buy' is not defined",
     "output_type": "error",
     "traceback": [
      "\u001B[0;31m---------------------------------------------------------------------------\u001B[0m",
      "\u001B[0;31mNameError\u001B[0m                                 Traceback (most recent call last)",
      "Input \u001B[0;32mIn [21]\u001B[0m, in \u001B[0;36m<cell line: 3>\u001B[0;34m()\u001B[0m\n\u001B[1;32m      1\u001B[0m fig \u001B[38;5;241m=\u001B[39m plt\u001B[38;5;241m.\u001B[39mfigure(figsize \u001B[38;5;241m=\u001B[39m (\u001B[38;5;241m15\u001B[39m,\u001B[38;5;241m5\u001B[39m))\n\u001B[1;32m      2\u001B[0m plt\u001B[38;5;241m.\u001B[39mplot(close, color\u001B[38;5;241m=\u001B[39m\u001B[38;5;124m'\u001B[39m\u001B[38;5;124mr\u001B[39m\u001B[38;5;124m'\u001B[39m, lw\u001B[38;5;241m=\u001B[39m\u001B[38;5;241m2.\u001B[39m)\n\u001B[0;32m----> 3\u001B[0m plt\u001B[38;5;241m.\u001B[39mplot(close, \u001B[38;5;124m'\u001B[39m\u001B[38;5;124m^\u001B[39m\u001B[38;5;124m'\u001B[39m, markersize\u001B[38;5;241m=\u001B[39m\u001B[38;5;241m10\u001B[39m, color\u001B[38;5;241m=\u001B[39m\u001B[38;5;124m'\u001B[39m\u001B[38;5;124mm\u001B[39m\u001B[38;5;124m'\u001B[39m, label \u001B[38;5;241m=\u001B[39m \u001B[38;5;124m'\u001B[39m\u001B[38;5;124mbuying signal\u001B[39m\u001B[38;5;124m'\u001B[39m, markevery \u001B[38;5;241m=\u001B[39m \u001B[43mstates_buy\u001B[49m)\n\u001B[1;32m      4\u001B[0m plt\u001B[38;5;241m.\u001B[39mplot(close, \u001B[38;5;124m'\u001B[39m\u001B[38;5;124mv\u001B[39m\u001B[38;5;124m'\u001B[39m, markersize\u001B[38;5;241m=\u001B[39m\u001B[38;5;241m10\u001B[39m, color\u001B[38;5;241m=\u001B[39m\u001B[38;5;124m'\u001B[39m\u001B[38;5;124mk\u001B[39m\u001B[38;5;124m'\u001B[39m, label \u001B[38;5;241m=\u001B[39m \u001B[38;5;124m'\u001B[39m\u001B[38;5;124mselling signal\u001B[39m\u001B[38;5;124m'\u001B[39m, markevery \u001B[38;5;241m=\u001B[39m states_sell)\n\u001B[1;32m      5\u001B[0m plt\u001B[38;5;241m.\u001B[39mtitle(\u001B[38;5;124m'\u001B[39m\u001B[38;5;124mtotal gains \u001B[39m\u001B[38;5;132;01m%f\u001B[39;00m\u001B[38;5;124m, total investment \u001B[39m\u001B[38;5;132;01m%f\u001B[39;00m\u001B[38;5;132;01m%%\u001B[39;00m\u001B[38;5;124m'\u001B[39m\u001B[38;5;241m%\u001B[39m(total_gains, invest))\n",
      "\u001B[0;31mNameError\u001B[0m: name 'states_buy' is not defined"
     ]
    },
    {
     "data": {
      "text/plain": "<Figure size 1080x360 with 1 Axes>",
      "image/png": "[encoded data removed]"
     },
     "metadata": {
      "needs_background": "light"
     },
     "output_type": "display_data"
    }
   ],
   "source": [
    "fig = plt.figure(figsize = (15,5))\n",
    "plt.plot(close, color='r', lw=2.)\n",
    "plt.plot(close, '^', markersize=10, color='m', label = 'buying signal', markevery = states_buy)\n",
    "plt.plot(close, 'v', markersize=10, color='k', label = 'selling signal', markevery = states_sell)\n",
    "plt.title('total gains %f, total investment %f%%'%(total_gains, invest))\n",
    "plt.legend()\n",
    "plt.savefig(name+'.png')\n",
    "plt.show()"
   ]
  },
  {
   "cell_type": "markdown",
   "id": "84b698a2",
   "metadata": {},
   "source": []
  },
  {
   "cell_type": "code",
   "execution_count": null,
   "id": "48998867",
   "metadata": {},
   "outputs": [],
   "source": [
    "len(cryptocurrencies)\n",
    "from tf_agents.agents.dqn import dqn_agent\n"
   ]
  },
  {
   "cell_type": "markdown",
   "id": "4945161a",
   "metadata": {},
   "source": []
  },
  {
   "cell_type": "code",
   "execution_count": null,
   "id": "3570fd6d",
   "metadata": {},
   "outputs": [],
   "source": []
  },
  {
   "cell_type": "code",
   "execution_count": null,
   "id": "946452bf",
   "metadata": {},
   "outputs": [],
   "source": [
    "import tensorflow as tf\n",
    "import numpy as np\n",
    "import pandas as pd\n",
    "\n",
    "from tf_agents.environments import py_environment\n",
    "from tf_agents.specs import array_spec\n",
    "from tf_agents.trajectories import time_step as ts\n",
    "\n",
    "from Visualization import TradingGraph as tg\n",
    "\n",
    "tf.compat.v1.enable_v2_behavior()\n",
    "\n",
    "    \n",
    "class CryptoTradingEnv(py_environment.PyEnvironment):\n",
    "    def __init__(self, fee = 0.001, starting_date = \"2018-05-29\", initial_balance = 10000, look_back_window = 40):\n",
    "        '''initialize the action spec and observation spec, \n",
    "           the two main components of agent will need to navigate the environment'''\n",
    "        self._action_spec = array_spec.BoundedArraySpec(\n",
    "            shape=(3,), dtype=np.int32, minimum=0, maximum=10, name='action')\n",
    "        self._observation_spec = array_spec.BoundedArraySpec(\n",
    "            shape=(4,5,40), dtype=np.float32, minimum=0, name='observation')\n",
    "        self._state = np.zeros((4,5,40), dtype=np.float32)\n",
    "        \n",
    "        #parameters specific to the environment\n",
    "        self._episode_ended = False\n",
    "        self.initial_balance = initial_balance\n",
    "        self.wallet = [self.initial_balance]\n",
    "        self.look_back_window = look_back_window #how far back our agent will observe to make it's prediction\n",
    "        self.fee = fee #binance's commission fee per trade is 0.001\n",
    "        self.starting_date = starting_date \n",
    "\n",
    "        self.visual = None #used for the rendering and visualization\n",
    "        \n",
    "        #set the initial step to the look back window so that our agent will have data to view on it's first step\n",
    "        self.current_step = self.look_back_window\n",
    "        \n",
    "        self.moves = [] #stores the trades made by our agent\n",
    "        \n",
    "        ef = pd.ExcelFile(\"data/priceData.xls\") #used to get the sheets in our excel file\n",
    "        self.dfs = []\n",
    "        \n",
    "        '''\n",
    "        Iterate over the sheets (pairs/markets) and:\n",
    "            - append an empty list for each coin to store the trades,\n",
    "            - initialize each coin in our wallet to 0.0\n",
    "            - load each sheet as a dataframe and store each df in the list self.dfs\n",
    "        '''\n",
    "        for sn in ef.sheet_names:\n",
    "            print(\"loading sheet: \"+sn)\n",
    "            self.dfs.append(pd.read_excel('data/priceData.xls', sheet_name = sn))\n",
    "            print(\"loaded: \"+sn)\n",
    "            self.moves.append([])\n",
    "            self.wallet.append(0.0)"
   ]
  },
  {
   "cell_type": "code",
   "execution_count": null,
   "id": "9bb6ade3",
   "metadata": {},
   "outputs": [],
   "source": []
  },
  {
   "cell_type": "code",
   "execution_count": null,
   "id": "10cb2239",
   "metadata": {},
   "outputs": [],
   "source": [
    "    def reset(self):\n",
    "        \"\"\"Return initial_time_step.\"\"\"\n",
    "        self.initial_time_step = ts.restart(self._state)\n",
    "        self.wallet = [self.initial_balance]\n",
    "        ef = pd.ExcelFile(\"priceData.xls\")\n",
    "        for sn in ef.sheet_names:\n",
    "            self.wallet.append(0.0)\n",
    "        self.current_step = self.look_back_window\n",
    "        return ts.restart(self._state)"
   ]
  },
  {
   "cell_type": "code",
   "execution_count": 19,
   "id": "71558d53",
   "metadata": {},
   "outputs": [
    {
     "name": "stdout",
     "output_type": "stream",
     "text": [
      "Collecting git+https://github.com/AI4Finance-LLC/FinRL-Library.git\r\n",
      "  Cloning https://github.com/AI4Finance-LLC/FinRL-Library.git to /private/var/folders/_k/2prywzdn6ng6b5g46h3r_mtc0000gn/T/pip-req-build-5ps43zjw\r\n",
      "  Running command git clone -q https://github.com/AI4Finance-LLC/FinRL-Library.git /private/var/folders/_k/2prywzdn6ng6b5g46h3r_mtc0000gn/T/pip-req-build-5ps43zjw\r\n",
      "  Resolved https://github.com/AI4Finance-LLC/FinRL-Library.git to commit beee96d64c88e3c617df7f987a6ee2fbb10f9ad1\r\n",
      "Collecting pyfolio@ git+https://github.com/quantopian/pyfolio.git#egg=pyfolio-0.9.2\r\n",
      "  Cloning https://github.com/quantopian/pyfolio.git to /private/var/folders/_k/2prywzdn6ng6b5g46h3r_mtc0000gn/T/pip-install-8faoj5rl/pyfolio_b7cd43c4e70c4981830761fd175a29ab\r\n",
      "  Running command git clone -q https://github.com/quantopian/pyfolio.git /private/var/folders/_k/2prywzdn6ng6b5g46h3r_mtc0000gn/T/pip-install-8faoj5rl/pyfolio_b7cd43c4e70c4981830761fd175a29ab\r\n",
      "  Resolved https://github.com/quantopian/pyfolio.git to commit 4b901f6d73aa02ceb6d04b7d83502e5c6f2e81aa\r\n",
      "Collecting elegantrl@ git+https://github.com/AI4Finance-Foundation/ElegantRL.git#egg=elegantrl\r\n",
      "  Cloning https://github.com/AI4Finance-Foundation/ElegantRL.git to /private/var/folders/_k/2prywzdn6ng6b5g46h3r_mtc0000gn/T/pip-install-8faoj5rl/elegantrl_06f8efea4d934e60bef34be12c5e7d8a\r\n",
      "  Running command git clone -q https://github.com/AI4Finance-Foundation/ElegantRL.git /private/var/folders/_k/2prywzdn6ng6b5g46h3r_mtc0000gn/T/pip-install-8faoj5rl/elegantrl_06f8efea4d934e60bef34be12c5e7d8a\r\n",
      "  Resolved https://github.com/AI4Finance-Foundation/ElegantRL.git to commit b61ba02d927f4ba838139b42fe97422440ffbef6\r\n",
      "Requirement already satisfied: numpy>=1.17.3 in /Users/henriquerio/miniconda3/lib/python3.8/site-packages (from finrl==0.3.5) (1.22.3)\r\n",
      "Requirement already satisfied: pandas>=1.1.5 in /Users/henriquerio/miniconda3/lib/python3.8/site-packages (from finrl==0.3.5) (1.4.1)\r\n",
      "Requirement already satisfied: stockstats>=0.4.0 in /Users/henriquerio/miniconda3/lib/python3.8/site-packages (from finrl==0.3.5) (0.4.1)\r\n",
      "Requirement already satisfied: yfinance in /Users/henriquerio/miniconda3/lib/python3.8/site-packages (from finrl==0.3.5) (0.1.70)\r\n",
      "Requirement already satisfied: elegantrl in /Users/henriquerio/miniconda3/lib/python3.8/site-packages (from finrl==0.3.5) (0.3.3)\r\n",
      "Requirement already satisfied: matplotlib in /Users/henriquerio/miniconda3/lib/python3.8/site-packages (from finrl==0.3.5) (3.5.1)\r\n",
      "Requirement already satisfied: scikit-learn>=0.21.0 in /Users/henriquerio/miniconda3/lib/python3.8/site-packages (from finrl==0.3.5) (1.0.2)\r\n",
      "Requirement already satisfied: gym>=0.17 in /Users/henriquerio/miniconda3/lib/python3.8/site-packages (from finrl==0.3.5) (0.21.0)\r\n",
      "Requirement already satisfied: stable-baselines3[extra] in /Users/henriquerio/miniconda3/lib/python3.8/site-packages (from finrl==0.3.5) (1.5.0)\r\n",
      "Requirement already satisfied: ray[default] in /Users/henriquerio/miniconda3/lib/python3.8/site-packages (from finrl==0.3.5) (1.11.0)\r\n",
      "Requirement already satisfied: lz4 in /Users/henriquerio/miniconda3/lib/python3.8/site-packages (from finrl==0.3.5) (4.0.0)\r\n",
      "Requirement already satisfied: tensorboardX in /Users/henriquerio/miniconda3/lib/python3.8/site-packages (from finrl==0.3.5) (2.5)\r\n",
      "Requirement already satisfied: gputil in /Users/henriquerio/miniconda3/lib/python3.8/site-packages (from finrl==0.3.5) (1.4.0)\r\n",
      "Requirement already satisfied: exchange_calendars in /Users/henriquerio/miniconda3/lib/python3.8/site-packages (from finrl==0.3.5) (3.6.1)\r\n",
      "Requirement already satisfied: alpaca_trade_api in /Users/henriquerio/miniconda3/lib/python3.8/site-packages (from finrl==0.3.5) (2.0.0)\r\n",
      "Requirement already satisfied: ccxt>=1.66.32 in /Users/henriquerio/miniconda3/lib/python3.8/site-packages (from finrl==0.3.5) (1.72.98)\r\n",
      "Requirement already satisfied: jqdatasdk in /Users/henriquerio/miniconda3/lib/python3.8/site-packages (from finrl==0.3.5) (1.8.10)\r\n",
      "Requirement already satisfied: wrds in /Users/henriquerio/miniconda3/lib/python3.8/site-packages (from finrl==0.3.5) (3.1.1)\r\n",
      "Requirement already satisfied: pytest in /Users/henriquerio/miniconda3/lib/python3.8/site-packages (from finrl==0.3.5) (7.1.1)\r\n",
      "Requirement already satisfied: setuptools==59.5.0 in /Users/henriquerio/miniconda3/lib/python3.8/site-packages (from finrl==0.3.5) (59.5.0)\r\n",
      "Requirement already satisfied: wheel>=0.33.6 in /Users/henriquerio/miniconda3/lib/python3.8/site-packages (from finrl==0.3.5) (0.36.2)\r\n",
      "Requirement already satisfied: pre-commit in /Users/henriquerio/miniconda3/lib/python3.8/site-packages (from finrl==0.3.5) (2.17.0)\r\n",
      "Requirement already satisfied: aiodns>=1.1.1 in /Users/henriquerio/miniconda3/lib/python3.8/site-packages (from ccxt>=1.66.32->finrl==0.3.5) (3.0.0)\r\n",
      "Requirement already satisfied: certifi>=2018.1.18 in /Users/henriquerio/miniconda3/lib/python3.8/site-packages (from ccxt>=1.66.32->finrl==0.3.5) (2021.10.8)\r\n",
      "Requirement already satisfied: yarl==1.7.2 in /Users/henriquerio/miniconda3/lib/python3.8/site-packages (from ccxt>=1.66.32->finrl==0.3.5) (1.7.2)\r\n",
      "Requirement already satisfied: cryptography>=2.6.1 in /Users/henriquerio/miniconda3/lib/python3.8/site-packages (from ccxt>=1.66.32->finrl==0.3.5) (3.4.7)\r\n",
      "Requirement already satisfied: requests>=2.18.4 in /Users/henriquerio/miniconda3/lib/python3.8/site-packages (from ccxt>=1.66.32->finrl==0.3.5) (2.27.1)\r\n",
      "Requirement already satisfied: aiohttp>=3.8 in /Users/henriquerio/miniconda3/lib/python3.8/site-packages (from ccxt>=1.66.32->finrl==0.3.5) (3.8.1)\r\n",
      "Requirement already satisfied: multidict>=4.0 in /Users/henriquerio/miniconda3/lib/python3.8/site-packages (from yarl==1.7.2->ccxt>=1.66.32->finrl==0.3.5) (6.0.2)\r\n",
      "Requirement already satisfied: idna>=2.0 in /Users/henriquerio/miniconda3/lib/python3.8/site-packages (from yarl==1.7.2->ccxt>=1.66.32->finrl==0.3.5) (2.10)\r\n",
      "Requirement already satisfied: pycares>=4.0.0 in /Users/henriquerio/miniconda3/lib/python3.8/site-packages (from aiodns>=1.1.1->ccxt>=1.66.32->finrl==0.3.5) (4.1.2)\r\n",
      "Requirement already satisfied: charset-normalizer<3.0,>=2.0 in /Users/henriquerio/miniconda3/lib/python3.8/site-packages (from aiohttp>=3.8->ccxt>=1.66.32->finrl==0.3.5) (2.0.12)\r\n",
      "Requirement already satisfied: aiosignal>=1.1.2 in /Users/henriquerio/miniconda3/lib/python3.8/site-packages (from aiohttp>=3.8->ccxt>=1.66.32->finrl==0.3.5) (1.2.0)\r\n",
      "Requirement already satisfied: attrs>=17.3.0 in /Users/henriquerio/miniconda3/lib/python3.8/site-packages (from aiohttp>=3.8->ccxt>=1.66.32->finrl==0.3.5) (21.4.0)\r\n",
      "Requirement already satisfied: async-timeout<5.0,>=4.0.0a3 in /Users/henriquerio/miniconda3/lib/python3.8/site-packages (from aiohttp>=3.8->ccxt>=1.66.32->finrl==0.3.5) (4.0.2)\r\n",
      "Requirement already satisfied: frozenlist>=1.1.1 in /Users/henriquerio/miniconda3/lib/python3.8/site-packages (from aiohttp>=3.8->ccxt>=1.66.32->finrl==0.3.5) (1.3.0)\r\n",
      "Requirement already satisfied: cffi>=1.12 in /Users/henriquerio/miniconda3/lib/python3.8/site-packages (from cryptography>=2.6.1->ccxt>=1.66.32->finrl==0.3.5) (1.14.5)\r\n",
      "Requirement already satisfied: pycparser in /Users/henriquerio/miniconda3/lib/python3.8/site-packages (from cffi>=1.12->cryptography>=2.6.1->ccxt>=1.66.32->finrl==0.3.5) (2.20)\r\n",
      "Requirement already satisfied: cloudpickle>=1.2.0 in /Users/henriquerio/miniconda3/lib/python3.8/site-packages (from gym>=0.17->finrl==0.3.5) (2.0.0)\r\n",
      "Requirement already satisfied: python-dateutil>=2.8.1 in /Users/henriquerio/miniconda3/lib/python3.8/site-packages (from pandas>=1.1.5->finrl==0.3.5) (2.8.2)\r\n",
      "Requirement already satisfied: pytz>=2020.1 in /Users/henriquerio/miniconda3/lib/python3.8/site-packages (from pandas>=1.1.5->finrl==0.3.5) (2022.1)\r\n",
      "Requirement already satisfied: six>=1.5 in /Users/henriquerio/miniconda3/lib/python3.8/site-packages (from python-dateutil>=2.8.1->pandas>=1.1.5->finrl==0.3.5) (1.16.0)\r\n",
      "Requirement already satisfied: urllib3<1.27,>=1.21.1 in /Users/henriquerio/miniconda3/lib/python3.8/site-packages (from requests>=2.18.4->ccxt>=1.66.32->finrl==0.3.5) (1.26.6)\r\n",
      "Requirement already satisfied: threadpoolctl>=2.0.0 in /Users/henriquerio/miniconda3/lib/python3.8/site-packages (from scikit-learn>=0.21.0->finrl==0.3.5) (3.1.0)\r\n",
      "Requirement already satisfied: joblib>=0.11 in /Users/henriquerio/miniconda3/lib/python3.8/site-packages (from scikit-learn>=0.21.0->finrl==0.3.5) (1.1.0)\r\n",
      "Requirement already satisfied: scipy>=1.1.0 in /Users/henriquerio/miniconda3/lib/python3.8/site-packages (from scikit-learn>=0.21.0->finrl==0.3.5) (1.8.0)\r\n",
      "Requirement already satisfied: PyYAML==6.0 in /Users/henriquerio/miniconda3/lib/python3.8/site-packages (from alpaca_trade_api->finrl==0.3.5) (6.0)\r\n",
      "Requirement already satisfied: deprecation==2.1.0 in /Users/henriquerio/miniconda3/lib/python3.8/site-packages (from alpaca_trade_api->finrl==0.3.5) (2.1.0)\r\n",
      "Requirement already satisfied: msgpack==1.0.3 in /Users/henriquerio/miniconda3/lib/python3.8/site-packages (from alpaca_trade_api->finrl==0.3.5) (1.0.3)\r\n",
      "Requirement already satisfied: websockets<11,>=9.0 in /Users/henriquerio/miniconda3/lib/python3.8/site-packages (from alpaca_trade_api->finrl==0.3.5) (10.2)\r\n",
      "Requirement already satisfied: websocket-client<2,>=0.56.0 in /Users/henriquerio/miniconda3/lib/python3.8/site-packages (from alpaca_trade_api->finrl==0.3.5) (0.57.0)\r\n",
      "Requirement already satisfied: packaging in /Users/henriquerio/miniconda3/lib/python3.8/site-packages (from deprecation==2.1.0->alpaca_trade_api->finrl==0.3.5) (21.3)\r\n",
      "Requirement already satisfied: pybullet in /Users/henriquerio/miniconda3/lib/python3.8/site-packages (from elegantrl@ git+https://github.com/AI4Finance-Foundation/ElegantRL.git#egg=elegantrl->finrl==0.3.5) (3.2.2)\r\n",
      "Requirement already satisfied: torch in /Users/henriquerio/miniconda3/lib/python3.8/site-packages (from elegantrl@ git+https://github.com/AI4Finance-Foundation/ElegantRL.git#egg=elegantrl->finrl==0.3.5) (1.11.0)\r\n",
      "Requirement already satisfied: opencv-python in /Users/henriquerio/miniconda3/lib/python3.8/site-packages (from elegantrl@ git+https://github.com/AI4Finance-Foundation/ElegantRL.git#egg=elegantrl->finrl==0.3.5) (4.5.5.64)\r\n",
      "Requirement already satisfied: box2d-py in /Users/henriquerio/miniconda3/lib/python3.8/site-packages (from elegantrl@ git+https://github.com/AI4Finance-Foundation/ElegantRL.git#egg=elegantrl->finrl==0.3.5) (2.3.8)\r\n",
      "Requirement already satisfied: pyluach in /Users/henriquerio/miniconda3/lib/python3.8/site-packages (from exchange_calendars->finrl==0.3.5) (1.4.1)\r\n",
      "Requirement already satisfied: korean-lunar-calendar in /Users/henriquerio/miniconda3/lib/python3.8/site-packages (from exchange_calendars->finrl==0.3.5) (0.2.1)\r\n",
      "Requirement already satisfied: toolz in /Users/henriquerio/miniconda3/lib/python3.8/site-packages (from exchange_calendars->finrl==0.3.5) (0.11.2)\r\n",
      "Requirement already satisfied: pymysql>=0.7.6 in /Users/henriquerio/miniconda3/lib/python3.8/site-packages (from jqdatasdk->finrl==0.3.5) (1.0.2)\r\n",
      "Requirement already satisfied: thriftpy2>=0.3.9 in /Users/henriquerio/miniconda3/lib/python3.8/site-packages (from jqdatasdk->finrl==0.3.5) (0.4.14)\r\n",
      "Requirement already satisfied: SQLAlchemy>=1.2.8 in /Users/henriquerio/miniconda3/lib/python3.8/site-packages (from jqdatasdk->finrl==0.3.5) (1.2.19)\r\n",
      "Requirement already satisfied: ply<4.0,>=3.4 in /Users/henriquerio/miniconda3/lib/python3.8/site-packages (from thriftpy2>=0.3.9->jqdatasdk->finrl==0.3.5) (3.11)\r\n",
      "Requirement already satisfied: pyparsing>=2.2.1 in /Users/henriquerio/miniconda3/lib/python3.8/site-packages (from matplotlib->finrl==0.3.5) (3.0.4)\r\n",
      "Requirement already satisfied: fonttools>=4.22.0 in /Users/henriquerio/miniconda3/lib/python3.8/site-packages (from matplotlib->finrl==0.3.5) (4.31.2)\r\n",
      "Requirement already satisfied: kiwisolver>=1.0.1 in /Users/henriquerio/miniconda3/lib/python3.8/site-packages (from matplotlib->finrl==0.3.5) (1.4.2)\r\n",
      "Requirement already satisfied: cycler>=0.10 in /Users/henriquerio/miniconda3/lib/python3.8/site-packages (from matplotlib->finrl==0.3.5) (0.11.0)\r\n",
      "Requirement already satisfied: pillow>=6.2.0 in /Users/henriquerio/miniconda3/lib/python3.8/site-packages (from matplotlib->finrl==0.3.5) (9.0.1)\r\n",
      "Requirement already satisfied: cfgv>=2.0.0 in /Users/henriquerio/miniconda3/lib/python3.8/site-packages (from pre-commit->finrl==0.3.5) (3.3.1)\r\n",
      "Requirement already satisfied: identify>=1.0.0 in /Users/henriquerio/miniconda3/lib/python3.8/site-packages (from pre-commit->finrl==0.3.5) (2.4.12)\r\n",
      "Requirement already satisfied: nodeenv>=0.11.1 in /Users/henriquerio/miniconda3/lib/python3.8/site-packages (from pre-commit->finrl==0.3.5) (1.6.0)\r\n",
      "Requirement already satisfied: virtualenv>=20.0.8 in /Users/henriquerio/miniconda3/lib/python3.8/site-packages (from pre-commit->finrl==0.3.5) (20.14.0)\r\n",
      "Requirement already satisfied: toml in /Users/henriquerio/miniconda3/lib/python3.8/site-packages (from pre-commit->finrl==0.3.5) (0.10.2)\r\n",
      "Requirement already satisfied: filelock<4,>=3.2 in /Users/henriquerio/miniconda3/lib/python3.8/site-packages (from virtualenv>=20.0.8->pre-commit->finrl==0.3.5) (3.6.0)\r\n",
      "Requirement already satisfied: distlib<1,>=0.3.1 in /Users/henriquerio/miniconda3/lib/python3.8/site-packages (from virtualenv>=20.0.8->pre-commit->finrl==0.3.5) (0.3.4)\r\n",
      "Requirement already satisfied: platformdirs<3,>=2 in /Users/henriquerio/miniconda3/lib/python3.8/site-packages (from virtualenv>=20.0.8->pre-commit->finrl==0.3.5) (2.5.1)\r\n",
      "Requirement already satisfied: ipython>=3.2.3 in /Users/henriquerio/miniconda3/lib/python3.8/site-packages (from pyfolio@ git+https://github.com/quantopian/pyfolio.git#egg=pyfolio-0.9.2->finrl==0.3.5) (8.1.1)\r\n",
      "Requirement already satisfied: seaborn>=0.7.1 in /Users/henriquerio/miniconda3/lib/python3.8/site-packages (from pyfolio@ git+https://github.com/quantopian/pyfolio.git#egg=pyfolio-0.9.2->finrl==0.3.5) (0.11.2)\r\n",
      "Requirement already satisfied: empyrical>=0.5.0 in /Users/henriquerio/miniconda3/lib/python3.8/site-packages (from pyfolio@ git+https://github.com/quantopian/pyfolio.git#egg=pyfolio-0.9.2->finrl==0.3.5) (0.5.5)\r\n",
      "Requirement already satisfied: pandas-datareader>=0.2 in /Users/henriquerio/miniconda3/lib/python3.8/site-packages (from empyrical>=0.5.0->pyfolio@ git+https://github.com/quantopian/pyfolio.git#egg=pyfolio-0.9.2->finrl==0.3.5) (0.10.0)\r\n",
      "Requirement already satisfied: pexpect>4.3 in /Users/henriquerio/miniconda3/lib/python3.8/site-packages (from ipython>=3.2.3->pyfolio@ git+https://github.com/quantopian/pyfolio.git#egg=pyfolio-0.9.2->finrl==0.3.5) (4.8.0)\r\n",
      "Requirement already satisfied: pickleshare in /Users/henriquerio/miniconda3/lib/python3.8/site-packages (from ipython>=3.2.3->pyfolio@ git+https://github.com/quantopian/pyfolio.git#egg=pyfolio-0.9.2->finrl==0.3.5) (0.7.5)\r\n",
      "Requirement already satisfied: stack-data in /Users/henriquerio/miniconda3/lib/python3.8/site-packages (from ipython>=3.2.3->pyfolio@ git+https://github.com/quantopian/pyfolio.git#egg=pyfolio-0.9.2->finrl==0.3.5) (0.2.0)\r\n",
      "Requirement already satisfied: pygments>=2.4.0 in /Users/henriquerio/miniconda3/lib/python3.8/site-packages (from ipython>=3.2.3->pyfolio@ git+https://github.com/quantopian/pyfolio.git#egg=pyfolio-0.9.2->finrl==0.3.5) (2.11.2)\r\n",
      "Requirement already satisfied: backcall in /Users/henriquerio/miniconda3/lib/python3.8/site-packages (from ipython>=3.2.3->pyfolio@ git+https://github.com/quantopian/pyfolio.git#egg=pyfolio-0.9.2->finrl==0.3.5) (0.2.0)\r\n",
      "Requirement already satisfied: jedi>=0.16 in /Users/henriquerio/miniconda3/lib/python3.8/site-packages (from ipython>=3.2.3->pyfolio@ git+https://github.com/quantopian/pyfolio.git#egg=pyfolio-0.9.2->finrl==0.3.5) (0.18.1)\r\n",
      "Requirement already satisfied: prompt-toolkit!=3.0.0,!=3.0.1,<3.1.0,>=2.0.0 in /Users/henriquerio/miniconda3/lib/python3.8/site-packages (from ipython>=3.2.3->pyfolio@ git+https://github.com/quantopian/pyfolio.git#egg=pyfolio-0.9.2->finrl==0.3.5) (3.0.20)\r\n",
      "Requirement already satisfied: appnope in /Users/henriquerio/miniconda3/lib/python3.8/site-packages (from ipython>=3.2.3->pyfolio@ git+https://github.com/quantopian/pyfolio.git#egg=pyfolio-0.9.2->finrl==0.3.5) (0.1.2)\r\n",
      "Requirement already satisfied: matplotlib-inline in /Users/henriquerio/miniconda3/lib/python3.8/site-packages (from ipython>=3.2.3->pyfolio@ git+https://github.com/quantopian/pyfolio.git#egg=pyfolio-0.9.2->finrl==0.3.5) (0.1.2)\r\n",
      "Requirement already satisfied: traitlets>=5 in /Users/henriquerio/miniconda3/lib/python3.8/site-packages (from ipython>=3.2.3->pyfolio@ git+https://github.com/quantopian/pyfolio.git#egg=pyfolio-0.9.2->finrl==0.3.5) (5.1.1)\r\n",
      "Requirement already satisfied: decorator in /Users/henriquerio/miniconda3/lib/python3.8/site-packages (from ipython>=3.2.3->pyfolio@ git+https://github.com/quantopian/pyfolio.git#egg=pyfolio-0.9.2->finrl==0.3.5) (5.1.1)\r\n",
      "Requirement already satisfied: parso<0.9.0,>=0.8.0 in /Users/henriquerio/miniconda3/lib/python3.8/site-packages (from jedi>=0.16->ipython>=3.2.3->pyfolio@ git+https://github.com/quantopian/pyfolio.git#egg=pyfolio-0.9.2->finrl==0.3.5) (0.8.3)\r\n",
      "Requirement already satisfied: lxml in /Users/henriquerio/miniconda3/lib/python3.8/site-packages (from pandas-datareader>=0.2->empyrical>=0.5.0->pyfolio@ git+https://github.com/quantopian/pyfolio.git#egg=pyfolio-0.9.2->finrl==0.3.5) (4.8.0)\r\n",
      "Requirement already satisfied: ptyprocess>=0.5 in /Users/henriquerio/miniconda3/lib/python3.8/site-packages (from pexpect>4.3->ipython>=3.2.3->pyfolio@ git+https://github.com/quantopian/pyfolio.git#egg=pyfolio-0.9.2->finrl==0.3.5) (0.7.0)\r\n",
      "Requirement already satisfied: wcwidth in /Users/henriquerio/miniconda3/lib/python3.8/site-packages (from prompt-toolkit!=3.0.0,!=3.0.1,<3.1.0,>=2.0.0->ipython>=3.2.3->pyfolio@ git+https://github.com/quantopian/pyfolio.git#egg=pyfolio-0.9.2->finrl==0.3.5) (0.2.5)\r\n",
      "Requirement already satisfied: tomli>=1.0.0 in /Users/henriquerio/miniconda3/lib/python3.8/site-packages (from pytest->finrl==0.3.5) (2.0.1)\r\n",
      "Requirement already satisfied: py>=1.8.2 in /Users/henriquerio/miniconda3/lib/python3.8/site-packages (from pytest->finrl==0.3.5) (1.11.0)\r\n",
      "Requirement already satisfied: iniconfig in /Users/henriquerio/miniconda3/lib/python3.8/site-packages (from pytest->finrl==0.3.5) (1.1.1)\r\n",
      "Requirement already satisfied: pluggy<2.0,>=0.12 in /Users/henriquerio/miniconda3/lib/python3.8/site-packages (from pytest->finrl==0.3.5) (1.0.0)\r\n",
      "Requirement already satisfied: click>=7.0 in /Users/henriquerio/miniconda3/lib/python3.8/site-packages (from ray[default]->finrl==0.3.5) (8.1.0)\r\n",
      "Requirement already satisfied: grpcio<=1.43.0,>=1.28.1 in /Users/henriquerio/miniconda3/lib/python3.8/site-packages (from ray[default]->finrl==0.3.5) (1.42.0)\r\n",
      "Requirement already satisfied: jsonschema in /Users/henriquerio/miniconda3/lib/python3.8/site-packages (from ray[default]->finrl==0.3.5) (3.2.0)\r\n",
      "Requirement already satisfied: redis>=3.5.0 in /Users/henriquerio/miniconda3/lib/python3.8/site-packages (from ray[default]->finrl==0.3.5) (4.2.0)\r\n",
      "Requirement already satisfied: protobuf>=3.15.3 in /Users/henriquerio/miniconda3/lib/python3.8/site-packages (from ray[default]->finrl==0.3.5) (3.19.4)\r\n",
      "Requirement already satisfied: prometheus-client>=0.7.1 in /Users/henriquerio/miniconda3/lib/python3.8/site-packages (from ray[default]->finrl==0.3.5) (0.13.1)\r\n",
      "Requirement already satisfied: smart-open in /Users/henriquerio/miniconda3/lib/python3.8/site-packages (from ray[default]->finrl==0.3.5) (5.2.1)\r\n",
      "Requirement already satisfied: aiohttp-cors in /Users/henriquerio/miniconda3/lib/python3.8/site-packages (from ray[default]->finrl==0.3.5) (0.7.0)\r\n",
      "Requirement already satisfied: opencensus in /Users/henriquerio/miniconda3/lib/python3.8/site-packages (from ray[default]->finrl==0.3.5) (0.8.0)\r\n",
      "Requirement already satisfied: gpustat>=1.0.0b1 in /Users/henriquerio/miniconda3/lib/python3.8/site-packages (from ray[default]->finrl==0.3.5) (1.0.0b1)\r\n",
      "Requirement already satisfied: aioredis<2 in /Users/henriquerio/miniconda3/lib/python3.8/site-packages (from ray[default]->finrl==0.3.5) (1.3.1)\r\n",
      "Requirement already satisfied: colorful in /Users/henriquerio/miniconda3/lib/python3.8/site-packages (from ray[default]->finrl==0.3.5) (0.5.4)\r\n",
      "Requirement already satisfied: py-spy>=0.2.0 in /Users/henriquerio/miniconda3/lib/python3.8/site-packages (from ray[default]->finrl==0.3.5) (0.3.11)\r\n",
      "Requirement already satisfied: hiredis in /Users/henriquerio/miniconda3/lib/python3.8/site-packages (from aioredis<2->ray[default]->finrl==0.3.5) (2.0.0)\r\n",
      "Requirement already satisfied: blessed>=1.17.1 in /Users/henriquerio/miniconda3/lib/python3.8/site-packages (from gpustat>=1.0.0b1->ray[default]->finrl==0.3.5) (1.19.1)\r\n",
      "Requirement already satisfied: psutil in /Users/henriquerio/miniconda3/lib/python3.8/site-packages (from gpustat>=1.0.0b1->ray[default]->finrl==0.3.5) (5.9.0)\r\n",
      "Requirement already satisfied: nvidia-ml-py3>=7.352.0 in /Users/henriquerio/miniconda3/lib/python3.8/site-packages (from gpustat>=1.0.0b1->ray[default]->finrl==0.3.5) (7.352.0)\r\n",
      "Requirement already satisfied: deprecated>=1.2.3 in /Users/henriquerio/miniconda3/lib/python3.8/site-packages (from redis>=3.5.0->ray[default]->finrl==0.3.5) (1.2.13)\r\n",
      "Requirement already satisfied: typing-extensions in /Users/henriquerio/miniconda3/lib/python3.8/site-packages (from redis>=3.5.0->ray[default]->finrl==0.3.5) (4.1.1)\r\n",
      "Requirement already satisfied: wrapt<2,>=1.10 in /Users/henriquerio/miniconda3/lib/python3.8/site-packages (from deprecated>=1.2.3->redis>=3.5.0->ray[default]->finrl==0.3.5) (1.14.0)\r\n",
      "Requirement already satisfied: pyrsistent>=0.14.0 in /Users/henriquerio/miniconda3/lib/python3.8/site-packages (from jsonschema->ray[default]->finrl==0.3.5) (0.18.0)\r\n",
      "Requirement already satisfied: opencensus-context==0.1.2 in /Users/henriquerio/miniconda3/lib/python3.8/site-packages (from opencensus->ray[default]->finrl==0.3.5) (0.1.2)\r\n",
      "Requirement already satisfied: google-api-core<3.0.0,>=1.0.0 in /Users/henriquerio/miniconda3/lib/python3.8/site-packages (from opencensus->ray[default]->finrl==0.3.5) (2.7.1)\r\n",
      "Requirement already satisfied: google-auth<3.0dev,>=1.25.0 in /Users/henriquerio/miniconda3/lib/python3.8/site-packages (from google-api-core<3.0.0,>=1.0.0->opencensus->ray[default]->finrl==0.3.5) (2.6.2)\r\n",
      "Requirement already satisfied: googleapis-common-protos<2.0dev,>=1.52.0 in /Users/henriquerio/miniconda3/lib/python3.8/site-packages (from google-api-core<3.0.0,>=1.0.0->opencensus->ray[default]->finrl==0.3.5) (1.56.0)\r\n",
      "Requirement already satisfied: rsa<5,>=3.1.4 in /Users/henriquerio/miniconda3/lib/python3.8/site-packages (from google-auth<3.0dev,>=1.25.0->google-api-core<3.0.0,>=1.0.0->opencensus->ray[default]->finrl==0.3.5) (4.8)\r\n",
      "Requirement already satisfied: pyasn1-modules>=0.2.1 in /Users/henriquerio/miniconda3/lib/python3.8/site-packages (from google-auth<3.0dev,>=1.25.0->google-api-core<3.0.0,>=1.0.0->opencensus->ray[default]->finrl==0.3.5) (0.2.8)\r\n",
      "Requirement already satisfied: cachetools<6.0,>=2.0.0 in /Users/henriquerio/miniconda3/lib/python3.8/site-packages (from google-auth<3.0dev,>=1.25.0->google-api-core<3.0.0,>=1.0.0->opencensus->ray[default]->finrl==0.3.5) (5.0.0)\r\n",
      "Requirement already satisfied: pyasn1<0.5.0,>=0.4.6 in /Users/henriquerio/miniconda3/lib/python3.8/site-packages (from pyasn1-modules>=0.2.1->google-auth<3.0dev,>=1.25.0->google-api-core<3.0.0,>=1.0.0->opencensus->ray[default]->finrl==0.3.5) (0.4.8)\r\n",
      "Requirement already satisfied: tabulate in /Users/henriquerio/miniconda3/lib/python3.8/site-packages (from ray[default]->finrl==0.3.5) (0.8.9)\r\n",
      "Requirement already satisfied: autorom[accept-rom-license]~=0.4.2 in /Users/henriquerio/miniconda3/lib/python3.8/site-packages (from stable-baselines3[extra]->finrl==0.3.5) (0.4.2)\r\n",
      "Requirement already satisfied: ale-py~=0.7.4 in /Users/henriquerio/miniconda3/lib/python3.8/site-packages (from stable-baselines3[extra]->finrl==0.3.5) (0.7.4)\r\n",
      "Requirement already satisfied: tensorboard>=2.2.0 in /Users/henriquerio/miniconda3/lib/python3.8/site-packages (from stable-baselines3[extra]->finrl==0.3.5) (2.8.0)\r\n",
      "Requirement already satisfied: importlib-metadata>=4.10.0 in /Users/henriquerio/miniconda3/lib/python3.8/site-packages (from ale-py~=0.7.4->stable-baselines3[extra]->finrl==0.3.5) (4.11.3)\r\n",
      "Requirement already satisfied: importlib-resources in /Users/henriquerio/miniconda3/lib/python3.8/site-packages (from ale-py~=0.7.4->stable-baselines3[extra]->finrl==0.3.5) (5.6.0)\r\n",
      "Requirement already satisfied: tqdm in /Users/henriquerio/miniconda3/lib/python3.8/site-packages (from autorom[accept-rom-license]~=0.4.2->stable-baselines3[extra]->finrl==0.3.5) (4.61.2)\r\n",
      "Requirement already satisfied: AutoROM.accept-rom-license in /Users/henriquerio/miniconda3/lib/python3.8/site-packages (from autorom[accept-rom-license]~=0.4.2->stable-baselines3[extra]->finrl==0.3.5) (0.4.2)\r\n",
      "Requirement already satisfied: zipp>=0.5 in /Users/henriquerio/miniconda3/lib/python3.8/site-packages (from importlib-metadata>=4.10.0->ale-py~=0.7.4->stable-baselines3[extra]->finrl==0.3.5) (3.7.0)\r\n",
      "Requirement already satisfied: google-auth-oauthlib<0.5,>=0.4.1 in /Users/henriquerio/miniconda3/lib/python3.8/site-packages (from tensorboard>=2.2.0->stable-baselines3[extra]->finrl==0.3.5) (0.4.6)\r\n",
      "Requirement already satisfied: tensorboard-plugin-wit>=1.6.0 in /Users/henriquerio/miniconda3/lib/python3.8/site-packages (from tensorboard>=2.2.0->stable-baselines3[extra]->finrl==0.3.5) (1.8.1)\r\n",
      "Requirement already satisfied: tensorboard-data-server<0.7.0,>=0.6.0 in /Users/henriquerio/miniconda3/lib/python3.8/site-packages (from tensorboard>=2.2.0->stable-baselines3[extra]->finrl==0.3.5) (0.6.1)\r\n",
      "Requirement already satisfied: markdown>=2.6.8 in /Users/henriquerio/miniconda3/lib/python3.8/site-packages (from tensorboard>=2.2.0->stable-baselines3[extra]->finrl==0.3.5) (3.3.6)\r\n",
      "Requirement already satisfied: werkzeug>=0.11.15 in /Users/henriquerio/miniconda3/lib/python3.8/site-packages (from tensorboard>=2.2.0->stable-baselines3[extra]->finrl==0.3.5) (2.1.0)\r\n",
      "Requirement already satisfied: absl-py>=0.4 in /Users/henriquerio/miniconda3/lib/python3.8/site-packages (from tensorboard>=2.2.0->stable-baselines3[extra]->finrl==0.3.5) (1.0.0)\r\n",
      "Requirement already satisfied: requests-oauthlib>=0.7.0 in /Users/henriquerio/miniconda3/lib/python3.8/site-packages (from google-auth-oauthlib<0.5,>=0.4.1->tensorboard>=2.2.0->stable-baselines3[extra]->finrl==0.3.5) (1.3.1)\r\n",
      "Requirement already satisfied: oauthlib>=3.0.0 in /Users/henriquerio/miniconda3/lib/python3.8/site-packages (from requests-oauthlib>=0.7.0->google-auth-oauthlib<0.5,>=0.4.1->tensorboard>=2.2.0->stable-baselines3[extra]->finrl==0.3.5) (3.2.0)\r\n",
      "Requirement already satisfied: asttokens in /Users/henriquerio/miniconda3/lib/python3.8/site-packages (from stack-data->ipython>=3.2.3->pyfolio@ git+https://github.com/quantopian/pyfolio.git#egg=pyfolio-0.9.2->finrl==0.3.5) (2.0.5)\r\n",
      "Requirement already satisfied: executing in /Users/henriquerio/miniconda3/lib/python3.8/site-packages (from stack-data->ipython>=3.2.3->pyfolio@ git+https://github.com/quantopian/pyfolio.git#egg=pyfolio-0.9.2->finrl==0.3.5) (0.8.3)\r\n",
      "Requirement already satisfied: pure-eval in /Users/henriquerio/miniconda3/lib/python3.8/site-packages (from stack-data->ipython>=3.2.3->pyfolio@ git+https://github.com/quantopian/pyfolio.git#egg=pyfolio-0.9.2->finrl==0.3.5) (0.2.2)\r\n",
      "Requirement already satisfied: psycopg2-binary in /Users/henriquerio/miniconda3/lib/python3.8/site-packages (from wrds->finrl==0.3.5) (2.9.3)\r\n",
      "Requirement already satisfied: mock in /Users/henriquerio/miniconda3/lib/python3.8/site-packages (from wrds->finrl==0.3.5) (4.0.3)\r\n",
      "Requirement already satisfied: multitasking>=0.0.7 in /Users/henriquerio/miniconda3/lib/python3.8/site-packages (from yfinance->finrl==0.3.5) (0.0.10)\r\n",
      "Collecting git+https://github.com/AI4Finance-Foundation/FinRL-Meta.git\r\n",
      "  Cloning https://github.com/AI4Finance-Foundation/FinRL-Meta.git to /private/var/folders/_k/2prywzdn6ng6b5g46h3r_mtc0000gn/T/pip-req-build-i23z6uvp\r\n",
      "  Running command git clone -q https://github.com/AI4Finance-Foundation/FinRL-Meta.git /private/var/folders/_k/2prywzdn6ng6b5g46h3r_mtc0000gn/T/pip-req-build-i23z6uvp\r\n",
      "  Resolved https://github.com/AI4Finance-Foundation/FinRL-Meta.git to commit c76f0ca84a82e945d34e8d301ee5f50e34ecf9b3\r\n"
     ]
    }
   ],
   "source": [
    "!pip3 install git+https://github.com/AI4Finance-LLC/FinRL-Library.git\n",
    "!pip3 install git+https://github.com/AI4Finance-Foundation/FinRL-Meta.git"
   ]
  },
  {
   "cell_type": "code",
   "execution_count": 20,
   "id": "455c0a39",
   "metadata": {},
   "outputs": [],
   "source": [
    "class Environment1:\n",
    "    \n",
    "    def __init__(self, data, history_t=90):\n",
    "        self.data = data\n",
    "        self.history_t = history_t\n",
    "        self.reset()\n",
    "        \n",
    "    def reset(self):\n",
    "        self.t = 0\n",
    "        self.done = False\n",
    "        self.profits = 0\n",
    "        self.positions = []\n",
    "        self.position_value = 0\n",
    "        self.history = [0 for _ in range(self.history_t)]\n",
    "        return [self.position_value] + self.history # obs\n",
    "    \n",
    "    def step(self, act):\n",
    "        reward = 0\n",
    "        \n",
    "        # act = 0: stay, 1: buy, 2: sell\n",
    "        if act == 1:\n",
    "            self.positions.append(self.data.iloc[self.t, :]['Close'])\n",
    "        elif act == 2: # sell\n",
    "            if len(self.positions) == 0:\n",
    "                reward = -1\n",
    "            else:\n",
    "                profits = 0\n",
    "                for p in self.positions:\n",
    "                    profits += (self.data.iloc[self.t, :]['Close'] - p)\n",
    "                reward += profits\n",
    "                self.profits += profits\n",
    "                self.positions = []\n",
    "        \n",
    "        # set next time\n",
    "        self.t += 1\n",
    "        self.position_value = 0\n",
    "        for p in self.positions:\n",
    "            self.position_value += (self.data.iloc[self.t, :]['Close'] - p)\n",
    "        self.history.pop(0)\n",
    "        self.history.append(self.data.iloc[self.t, :]['Close'] - self.data.iloc[(self.t-1), :]['Close'])\n",
    "        \n",
    "        # clipping reward\n",
    "        if reward > 0:\n",
    "            reward = 1\n",
    "        elif reward < 0:\n",
    "            reward = -1\n",
    "        \n",
    "        return [self.position_value] + self.history, reward, self.done # obs, reward, done"
   ]
  },
  {
   "cell_type": "code",
   "execution_count": 21,
   "id": "8f24bb85",
   "metadata": {},
   "outputs": [
    {
     "name": "stdout",
     "output_type": "stream",
     "text": [
      "[0, 0, 0, 0, 0, 0, 0, 0, 0, 0, 0, 0, 0, 0, 0, 0, 0, 0, 0, 0, 0, 0, 0, 0, 0, 0, 0, 0, 0, 0, 0, 0, 0, 0, 0, 0, 0, 0, 0, 0, 0, 0, 0, 0, 0, 0, 0, 0, 0, 0, 0, 0, 0, 0, 0, 0, 0, 0, 0, 0, 0, 0, 0, 0, 0, 0, 0, 0, 0, 0, 0, 0, 0, 0, 0, 0, 0, 0, 0, 0, 0, 0, 0, 0, 0, 0, 0, 0, 0, 0, 0]\n",
      "([-32.89401300000003, 0, 0, 0, 0, 0, 0, 0, 0, 0, 0, 0, 0, 0, 0, 0, 0, 0, 0, 0, 0, 0, 0, 0, 0, 0, 0, 0, 0, 0, 0, 0, 0, 0, 0, 0, 0, 0, 0, 0, 0, 0, 0, 0, 0, 0, 0, 0, 0, 0, 0, 0, 0, 0, 0, 0, 0, 0, 0, 0, 0, 0, 0, 0, 0, 0, 0, 0, 0, 0, 0, 0, 0, 0, 0, 0, 0, 0, 0, 0, 0, 0, 0, 0, 0, 0, 0, 0, 0, 0, -32.89401300000003], 0, False)\n",
      "([0, 0, 0, 0, 0, 0, 0, 0, 0, 0, 0, 0, 0, 0, 0, 0, 0, 0, 0, 0, 0, 0, 0, 0, 0, 0, 0, 0, 0, 0, 0, 0, 0, 0, 0, 0, 0, 0, 0, 0, 0, 0, 0, 0, 0, 0, 0, 0, 0, 0, 0, 0, 0, 0, 0, 0, 0, 0, 0, 0, 0, 0, 0, 0, 0, 0, 0, 0, 0, 0, 0, 0, 0, 0, 0, 0, 0, 0, 0, 0, 0, 0, 0, 0, 0, 0, 0, 0, 0, -32.89401300000003, -29.644011999999975], -1, False)\n",
      "([0, 0, 0, 0, 0, 0, 0, 0, 0, 0, 0, 0, 0, 0, 0, 0, 0, 0, 0, 0, 0, 0, 0, 0, 0, 0, 0, 0, 0, 0, 0, 0, 0, 0, 0, 0, 0, 0, 0, 0, 0, 0, 0, 0, 0, 0, 0, 0, 0, 0, 0, 0, 0, 0, 0, 0, 0, 0, 0, 0, 0, 0, 0, 0, 0, 0, 0, 0, 0, 0, 0, 0, 0, 0, 0, 0, 0, 0, 0, 0, 0, 0, 0, 0, 0, 0, 0, 0, -32.89401300000003, -29.644011999999975, 14.108001999999999], 0, False)\n"
     ]
    }
   ],
   "source": [
    "# https://www.kaggle.com/code/itoeiji/deep-reinforcement-learning-on-stock-data/notebook\n",
    "# \n",
    "#env = Environment1(train)\n",
    "env = Environment1(df)\n",
    "print(env.reset())\n",
    "for _ in range(3):\n",
    "    pact = np.random.randint(3)\n",
    "    print(env.step(pact))"
   ]
  },
  {
   "cell_type": "code",
   "execution_count": 22,
   "id": "35b231c3",
   "metadata": {},
   "outputs": [],
   "source": [
    "# tru 2 DQN \n",
    "def train_dqn(env):\n",
    "\n",
    "    class Q_Network(chainer.Chain):\n",
    "\n",
    "        def __init__(self, input_size, hidden_size, output_size):\n",
    "            super(Q_Network, self).__init__(\n",
    "                fc1 = L.Linear(input_size, hidden_size),\n",
    "                fc2 = L.Linear(hidden_size, hidden_size),\n",
    "                fc3 = L.Linear(hidden_size, output_size)\n",
    "            )\n",
    "\n",
    "        def __call__(self, x):\n",
    "            h = F.relu(self.fc1(x))\n",
    "            h = F.relu(self.fc2(h))\n",
    "            y = self.fc3(h)\n",
    "            return y\n",
    "\n",
    "        def reset(self):\n",
    "            self.zerograds()\n",
    "\n",
    "    Q = Q_Network(input_size=env.history_t+1, hidden_size=100, output_size=3)\n",
    "    Q_ast = copy.deepcopy(Q)\n",
    "    optimizer = chainer.optimizers.Adam()\n",
    "    optimizer.setup(Q)\n",
    "\n",
    "    epoch_num = 50\n",
    "    step_max = len(env.data)-1\n",
    "    memory_size = 200\n",
    "    batch_size = 20\n",
    "    epsilon = 1.0\n",
    "    epsilon_decrease = 1e-3\n",
    "    epsilon_min = 0.1\n",
    "    start_reduce_epsilon = 200\n",
    "    train_freq = 10\n",
    "    update_q_freq = 20\n",
    "    gamma = 0.97\n",
    "    show_log_freq = 5\n",
    "\n",
    "    memory = []\n",
    "    total_step = 0\n",
    "    total_rewards = []\n",
    "    total_losses = []\n",
    "\n",
    "    start = time.time()\n",
    "    for epoch in range(epoch_num):\n",
    "\n",
    "        pobs = env.reset()\n",
    "        step = 0\n",
    "        done = False\n",
    "        total_reward = 0\n",
    "        total_loss = 0\n",
    "\n",
    "        while not done and step < step_max:\n",
    "\n",
    "            # select act\n",
    "            pact = np.random.randint(3)\n",
    "            if np.random.rand() > epsilon:\n",
    "                pact = Q(np.array(pobs, dtype=np.float32).reshape(1, -1))\n",
    "                pact = np.argmax(pact.data)\n",
    "\n",
    "            # act\n",
    "            obs, reward, done = env.step(pact)\n",
    "\n",
    "            # add memory\n",
    "            memory.append((pobs, pact, reward, obs, done))\n",
    "            if len(memory) > memory_size:\n",
    "                memory.pop(0)\n",
    "\n",
    "            # train or update q\n",
    "            if len(memory) == memory_size:\n",
    "                if total_step % train_freq == 0:\n",
    "                    shuffled_memory = np.random.permutation(memory)\n",
    "                    memory_idx = range(len(shuffled_memory))\n",
    "                    for i in memory_idx[::batch_size]:\n",
    "                        batch = np.array(shuffled_memory[i:i+batch_size])\n",
    "                        b_pobs = np.array(batch[:, 0].tolist(), dtype=np.float32).reshape(batch_size, -1)\n",
    "                        b_pact = np.array(batch[:, 1].tolist(), dtype=np.int32)\n",
    "                        b_reward = np.array(batch[:, 2].tolist(), dtype=np.int32)\n",
    "                        b_obs = np.array(batch[:, 3].tolist(), dtype=np.float32).reshape(batch_size, -1)\n",
    "                        b_done = np.array(batch[:, 4].tolist(), dtype=np.bool)\n",
    "\n",
    "                        q = Q(b_pobs)\n",
    "                        maxq = np.max(Q_ast(b_obs).data, axis=1)\n",
    "                        target = copy.deepcopy(q.data)\n",
    "                        for j in range(batch_size):\n",
    "                            target[j, b_pact[j]] = b_reward[j]+gamma*maxq[j]*(not b_done[j])\n",
    "                        Q.reset()\n",
    "                        loss = F.mean_squared_error(q, target)\n",
    "                        total_loss += loss.data\n",
    "                        loss.backward()\n",
    "                        optimizer.update()\n",
    "\n",
    "                if total_step % update_q_freq == 0:\n",
    "                    Q_ast = copy.deepcopy(Q)\n",
    "\n",
    "            # epsilon\n",
    "            if epsilon > epsilon_min and total_step > start_reduce_epsilon:\n",
    "                epsilon -= epsilon_decrease\n",
    "\n",
    "            # next step\n",
    "            total_reward += reward\n",
    "            pobs = obs\n",
    "            step += 1\n",
    "            total_step += 1\n",
    "\n",
    "        total_rewards.append(total_reward)\n",
    "        total_losses.append(total_loss)\n",
    "\n",
    "        if (epoch+1) % show_log_freq == 0:\n",
    "            log_reward = sum(total_rewards[((epoch+1)-show_log_freq):])/show_log_freq\n",
    "            log_loss = sum(total_losses[((epoch+1)-show_log_freq):])/show_log_freq\n",
    "            elapsed_time = time.time()-start\n",
    "            print('\\t'.join(map(str, [epoch+1, epsilon, total_step, log_reward, log_loss, elapsed_time])))\n",
    "            start = time.time()\n",
    "            \n",
    "    return Q, total_losses, total_rewards"
   ]
  },
  {
   "cell_type": "code",
   "execution_count": null,
   "id": "325918bc",
   "metadata": {},
   "outputs": [],
   "source": [
    "Q, total_losses, total_rewards = train_dqn(Environment1(df))\n"
   ]
  },
  {
   "cell_type": "code",
   "execution_count": null,
   "id": "1e3a1f11",
   "metadata": {},
   "outputs": [],
   "source": []
  },
  {
   "cell_type": "code",
   "execution_count": null,
   "id": "57e3ebca",
   "metadata": {},
   "outputs": [],
   "source": []
  },
  {
   "cell_type": "code",
   "execution_count": null,
   "outputs": [],
   "source": [],
   "metadata": {
    "collapsed": false,
    "pycharm": {
     "name": "#%%\n"
    }
   }
  }
 ],
 "metadata": {
  "kernelspec": {
   "display_name": "Python 3 (ipykernel)",
   "language": "python",
   "name": "python3"
  },
  "language_info": {
   "codemirror_mode": {
    "name": "ipython",
    "version": 3
   },
   "file_extension": ".py",
   "mimetype": "text/x-python",
   "name": "python",
   "nbconvert_exporter": "python",
   "pygments_lexer": "ipython3",
   "version": "3.8.13"
  }
 },
 "nbformat": 4,
 "nbformat_minor": 5
}