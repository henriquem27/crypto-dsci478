{
 "cells": [
  {
   "cell_type": "code",
   "execution_count": 1,
   "metadata": {
    "collapsed": true
   },
   "outputs": [
    {
     "ename": "ModuleNotFoundError",
     "evalue": "No module named 'finrl'",
     "output_type": "error",
     "traceback": [
      "\u001b[1;31m---------------------------------------------------------------------------\u001b[0m",
      "\u001b[1;31mModuleNotFoundError\u001b[0m                       Traceback (most recent call last)",
      "\u001b[1;32m~\\AppData\\Local\\Temp/ipykernel_1692/1074132913.py\u001b[0m in \u001b[0;36m<module>\u001b[1;34m\u001b[0m\n\u001b[0;32m     11\u001b[0m \u001b[1;33m\u001b[0m\u001b[0m\n\u001b[0;32m     12\u001b[0m \u001b[0mget_ipython\u001b[0m\u001b[1;33m(\u001b[0m\u001b[1;33m)\u001b[0m\u001b[1;33m.\u001b[0m\u001b[0mrun_line_magic\u001b[0m\u001b[1;33m(\u001b[0m\u001b[1;34m'matplotlib'\u001b[0m\u001b[1;33m,\u001b[0m \u001b[1;34m'inline'\u001b[0m\u001b[1;33m)\u001b[0m\u001b[1;33m\u001b[0m\u001b[1;33m\u001b[0m\u001b[0m\n\u001b[1;32m---> 13\u001b[1;33m \u001b[1;32mfrom\u001b[0m \u001b[0mfinrl\u001b[0m\u001b[1;33m.\u001b[0m\u001b[0mapps\u001b[0m \u001b[1;32mimport\u001b[0m \u001b[0mconfig\u001b[0m\u001b[1;33m\u001b[0m\u001b[1;33m\u001b[0m\u001b[0m\n\u001b[0m\u001b[0;32m     14\u001b[0m \u001b[1;33m\u001b[0m\u001b[0m\n\u001b[0;32m     15\u001b[0m \u001b[1;32mfrom\u001b[0m \u001b[0mfinrl\u001b[0m\u001b[1;33m.\u001b[0m\u001b[0mfinrl_meta\u001b[0m\u001b[1;33m.\u001b[0m\u001b[0mpreprocessor\u001b[0m\u001b[1;33m.\u001b[0m\u001b[0mpreprocessors\u001b[0m \u001b[1;32mimport\u001b[0m \u001b[0mFeatureEngineer\u001b[0m\u001b[1;33m,\u001b[0m \u001b[0mdata_split\u001b[0m\u001b[1;33m\u001b[0m\u001b[1;33m\u001b[0m\u001b[0m\n",
      "\u001b[1;31mModuleNotFoundError\u001b[0m: No module named 'finrl'"
     ]
    }
   ],
   "source": [
    "import tensorflow as tf\n",
    "import numpy as np\n",
    "import pandas as pd\n",
    "\n",
    "import pandas as pd\n",
    "import numpy as np\n",
    "import matplotlib\n",
    "import matplotlib.pyplot as plt\n",
    "# matplotlib.use('Agg')\n",
    "import datetime\n",
    "\n",
    "%matplotlib inline\n",
    "from finrl.apps import config\n",
    "\n",
    "from finrl.finrl_meta.preprocessor.preprocessors import FeatureEngineer, data_split\n",
    "from finrl.finrl_meta.env_stock_trading.env_stocktrading import StockTradingEnv\n",
    "from finrl.drl_agents.stablebaselines3.models import DRLAgent # Deep Reinforcement Learning Agent\n",
    "from finrl.plot import backtest_stats, backtest_plot, get_daily_return, get_baseline\n",
    "\n",
    "from pprint import pprint\n",
    "import sys\n",
    "sys.path.append(\"../FinRL-Library\")\n",
    "\n",
    "import sys\n"
   ]
  },
  {
   "cell_type": "code",
   "execution_count": 22,
   "metadata": {
    "pycharm": {
     "name": "#%%\n"
    }
   },
   "outputs": [],
   "source": [
    "ef = pd.ExcelFile(\"FIXEDDATA.xls\") #used to get the sheets in our excel file\n",
    "sheetnames = ef.sheet_names\n"
   ]
  },
  {
   "cell_type": "code",
   "execution_count": 41,
   "metadata": {
    "pycharm": {
     "name": "#%%\n"
    }
   },
   "outputs": [
    {
     "name": "stderr",
     "output_type": "stream",
     "text": [
      "C:\\Users\\henri\\AppData\\Local\\Temp/ipykernel_22848/2518331846.py:5: FutureWarning: The frame.append method is deprecated and will be removed from pandas in a future version. Use pandas.concat instead.\n",
      "  df_combined = df_combined.append(df)\n",
      "C:\\Users\\henri\\AppData\\Local\\Temp/ipykernel_22848/2518331846.py:5: FutureWarning: The frame.append method is deprecated and will be removed from pandas in a future version. Use pandas.concat instead.\n",
      "  df_combined = df_combined.append(df)\n",
      "C:\\Users\\henri\\AppData\\Local\\Temp/ipykernel_22848/2518331846.py:5: FutureWarning: The frame.append method is deprecated and will be removed from pandas in a future version. Use pandas.concat instead.\n",
      "  df_combined = df_combined.append(df)\n",
      "C:\\Users\\henri\\AppData\\Local\\Temp/ipykernel_22848/2518331846.py:5: FutureWarning: The frame.append method is deprecated and will be removed from pandas in a future version. Use pandas.concat instead.\n",
      "  df_combined = df_combined.append(df)\n",
      "C:\\Users\\henri\\AppData\\Local\\Temp/ipykernel_22848/2518331846.py:5: FutureWarning: The frame.append method is deprecated and will be removed from pandas in a future version. Use pandas.concat instead.\n",
      "  df_combined = df_combined.append(df)\n",
      "C:\\Users\\henri\\AppData\\Local\\Temp/ipykernel_22848/2518331846.py:5: FutureWarning: The frame.append method is deprecated and will be removed from pandas in a future version. Use pandas.concat instead.\n",
      "  df_combined = df_combined.append(df)\n",
      "C:\\Users\\henri\\AppData\\Local\\Temp/ipykernel_22848/2518331846.py:5: FutureWarning: The frame.append method is deprecated and will be removed from pandas in a future version. Use pandas.concat instead.\n",
      "  df_combined = df_combined.append(df)\n",
      "C:\\Users\\henri\\AppData\\Local\\Temp/ipykernel_22848/2518331846.py:5: FutureWarning: The frame.append method is deprecated and will be removed from pandas in a future version. Use pandas.concat instead.\n",
      "  df_combined = df_combined.append(df)\n",
      "C:\\Users\\henri\\AppData\\Local\\Temp/ipykernel_22848/2518331846.py:5: FutureWarning: The frame.append method is deprecated and will be removed from pandas in a future version. Use pandas.concat instead.\n",
      "  df_combined = df_combined.append(df)\n",
      "C:\\Users\\henri\\AppData\\Local\\Temp/ipykernel_22848/2518331846.py:5: FutureWarning: The frame.append method is deprecated and will be removed from pandas in a future version. Use pandas.concat instead.\n",
      "  df_combined = df_combined.append(df)\n",
      "C:\\Users\\henri\\AppData\\Local\\Temp/ipykernel_22848/2518331846.py:5: FutureWarning: The frame.append method is deprecated and will be removed from pandas in a future version. Use pandas.concat instead.\n",
      "  df_combined = df_combined.append(df)\n",
      "C:\\Users\\henri\\AppData\\Local\\Temp/ipykernel_22848/2518331846.py:5: FutureWarning: The frame.append method is deprecated and will be removed from pandas in a future version. Use pandas.concat instead.\n",
      "  df_combined = df_combined.append(df)\n",
      "C:\\Users\\henri\\AppData\\Local\\Temp/ipykernel_22848/2518331846.py:5: FutureWarning: The frame.append method is deprecated and will be removed from pandas in a future version. Use pandas.concat instead.\n",
      "  df_combined = df_combined.append(df)\n",
      "C:\\Users\\henri\\AppData\\Local\\Temp/ipykernel_22848/2518331846.py:5: FutureWarning: The frame.append method is deprecated and will be removed from pandas in a future version. Use pandas.concat instead.\n",
      "  df_combined = df_combined.append(df)\n",
      "C:\\Users\\henri\\AppData\\Local\\Temp/ipykernel_22848/2518331846.py:5: FutureWarning: The frame.append method is deprecated and will be removed from pandas in a future version. Use pandas.concat instead.\n",
      "  df_combined = df_combined.append(df)\n",
      "C:\\Users\\henri\\AppData\\Local\\Temp/ipykernel_22848/2518331846.py:5: FutureWarning: The frame.append method is deprecated and will be removed from pandas in a future version. Use pandas.concat instead.\n",
      "  df_combined = df_combined.append(df)\n",
      "C:\\Users\\henri\\AppData\\Local\\Temp/ipykernel_22848/2518331846.py:5: FutureWarning: The frame.append method is deprecated and will be removed from pandas in a future version. Use pandas.concat instead.\n",
      "  df_combined = df_combined.append(df)\n",
      "C:\\Users\\henri\\AppData\\Local\\Temp/ipykernel_22848/2518331846.py:5: FutureWarning: The frame.append method is deprecated and will be removed from pandas in a future version. Use pandas.concat instead.\n",
      "  df_combined = df_combined.append(df)\n"
     ]
    }
   ],
   "source": [
    "\n",
    "df_combined = pd.DataFrame()\n",
    "for sheet_name in ef.sheet_names:\n",
    "    df = ef.parse(sheet_name)\n",
    "    df['tic'] = sheet_name       # this adds `sheet_name` into the column `Week`\n",
    "    df_combined = df_combined.append(df)"
   ]
  },
  {
   "cell_type": "code",
   "execution_count": 42,
   "metadata": {
    "pycharm": {
     "name": "#%%\n"
    }
   },
   "outputs": [
    {
     "data": {
      "text/html": [
       "<div>\n",
       "<style scoped>\n",
       "    .dataframe tbody tr th:only-of-type {\n",
       "        vertical-align: middle;\n",
       "    }\n",
       "\n",
       "    .dataframe tbody tr th {\n",
       "        vertical-align: top;\n",
       "    }\n",
       "\n",
       "    .dataframe thead th {\n",
       "        text-align: right;\n",
       "    }\n",
       "</style>\n",
       "<table border=\"1\" class=\"dataframe\">\n",
       "  <thead>\n",
       "    <tr style=\"text-align: right;\">\n",
       "      <th></th>\n",
       "      <th>Date</th>\n",
       "      <th>Open</th>\n",
       "      <th>High</th>\n",
       "      <th>Low</th>\n",
       "      <th>Close</th>\n",
       "      <th>Volume</th>\n",
       "      <th>tic</th>\n",
       "    </tr>\n",
       "  </thead>\n",
       "  <tbody>\n",
       "    <tr>\n",
       "      <th>0</th>\n",
       "      <td>2020-01-01</td>\n",
       "      <td>4.497428</td>\n",
       "      <td>4.558976</td>\n",
       "      <td>4.478464</td>\n",
       "      <td>4.502792</td>\n",
       "      <td>578070570</td>\n",
       "      <td>ETC</td>\n",
       "    </tr>\n",
       "    <tr>\n",
       "      <th>1</th>\n",
       "      <td>2020-01-02</td>\n",
       "      <td>4.502639</td>\n",
       "      <td>4.508207</td>\n",
       "      <td>4.203510</td>\n",
       "      <td>4.255888</td>\n",
       "      <td>692082812</td>\n",
       "      <td>ETC</td>\n",
       "    </tr>\n",
       "    <tr>\n",
       "      <th>2</th>\n",
       "      <td>2020-01-03</td>\n",
       "      <td>4.249905</td>\n",
       "      <td>4.633809</td>\n",
       "      <td>4.203081</td>\n",
       "      <td>4.576237</td>\n",
       "      <td>853611122</td>\n",
       "      <td>ETC</td>\n",
       "    </tr>\n",
       "    <tr>\n",
       "      <th>3</th>\n",
       "      <td>2020-01-04</td>\n",
       "      <td>4.571729</td>\n",
       "      <td>4.732288</td>\n",
       "      <td>4.542132</td>\n",
       "      <td>4.726842</td>\n",
       "      <td>771746505</td>\n",
       "      <td>ETC</td>\n",
       "    </tr>\n",
       "    <tr>\n",
       "      <th>4</th>\n",
       "      <td>2020-01-05</td>\n",
       "      <td>4.773919</td>\n",
       "      <td>5.014711</td>\n",
       "      <td>4.771709</td>\n",
       "      <td>4.907899</td>\n",
       "      <td>929077856</td>\n",
       "      <td>ETC</td>\n",
       "    </tr>\n",
       "  </tbody>\n",
       "</table>\n",
       "</div>"
      ],
      "text/plain": [
       "        Date      Open      High       Low     Close     Volume  tic\n",
       "0 2020-01-01  4.497428  4.558976  4.478464  4.502792  578070570  ETC\n",
       "1 2020-01-02  4.502639  4.508207  4.203510  4.255888  692082812  ETC\n",
       "2 2020-01-03  4.249905  4.633809  4.203081  4.576237  853611122  ETC\n",
       "3 2020-01-04  4.571729  4.732288  4.542132  4.726842  771746505  ETC\n",
       "4 2020-01-05  4.773919  5.014711  4.771709  4.907899  929077856  ETC"
      ]
     },
     "execution_count": 42,
     "metadata": {},
     "output_type": "execute_result"
    }
   ],
   "source": [
    "df1 = df_combined\n",
    "df1.head()"
   ]
  },
  {
   "cell_type": "code",
   "execution_count": 43,
   "metadata": {
    "pycharm": {
     "name": "#%%\n"
    }
   },
   "outputs": [],
   "source": [
    "from datetime import datetime\n",
    "#df1['Date'] = str(df1['Date'])\n",
    "#df1['Date']  =df1['Date'].apply(lambda x: datetime.strptime(x, \"%d.%m.%Y\") )\n",
    "df1= df1.sort_values(by=['Date','tic'], ignore_index=True)"
   ]
  },
  {
   "cell_type": "code",
   "execution_count": 44,
   "metadata": {
    "pycharm": {
     "name": "#%%\n"
    }
   },
   "outputs": [
    {
     "data": {
      "text/html": [
       "<div>\n",
       "<style scoped>\n",
       "    .dataframe tbody tr th:only-of-type {\n",
       "        vertical-align: middle;\n",
       "    }\n",
       "\n",
       "    .dataframe tbody tr th {\n",
       "        vertical-align: top;\n",
       "    }\n",
       "\n",
       "    .dataframe thead th {\n",
       "        text-align: right;\n",
       "    }\n",
       "</style>\n",
       "<table border=\"1\" class=\"dataframe\">\n",
       "  <thead>\n",
       "    <tr style=\"text-align: right;\">\n",
       "      <th></th>\n",
       "      <th>Date</th>\n",
       "      <th>Open</th>\n",
       "      <th>High</th>\n",
       "      <th>Low</th>\n",
       "      <th>Close</th>\n",
       "      <th>Volume</th>\n",
       "      <th>tic</th>\n",
       "    </tr>\n",
       "  </thead>\n",
       "  <tbody>\n",
       "    <tr>\n",
       "      <th>0</th>\n",
       "      <td>2020-01-01</td>\n",
       "      <td>0.032832</td>\n",
       "      <td>0.033813</td>\n",
       "      <td>0.032704</td>\n",
       "      <td>0.033458</td>\n",
       "      <td>22948374</td>\n",
       "      <td>ADA</td>\n",
       "    </tr>\n",
       "    <tr>\n",
       "      <th>1</th>\n",
       "      <td>2020-01-01</td>\n",
       "      <td>4.216717</td>\n",
       "      <td>4.467644</td>\n",
       "      <td>4.204366</td>\n",
       "      <td>4.380158</td>\n",
       "      <td>107994513</td>\n",
       "      <td>ATOM</td>\n",
       "    </tr>\n",
       "    <tr>\n",
       "      <th>2</th>\n",
       "      <td>2020-01-01</td>\n",
       "      <td>204.671295</td>\n",
       "      <td>208.077515</td>\n",
       "      <td>203.205154</td>\n",
       "      <td>204.397537</td>\n",
       "      <td>1456113692</td>\n",
       "      <td>BCH</td>\n",
       "    </tr>\n",
       "    <tr>\n",
       "      <th>3</th>\n",
       "      <td>2020-01-01</td>\n",
       "      <td>13.730962</td>\n",
       "      <td>13.873946</td>\n",
       "      <td>13.654942</td>\n",
       "      <td>13.689083</td>\n",
       "      <td>172980718</td>\n",
       "      <td>BNB</td>\n",
       "    </tr>\n",
       "    <tr>\n",
       "      <th>4</th>\n",
       "      <td>2020-01-01</td>\n",
       "      <td>7194.892090</td>\n",
       "      <td>7254.330566</td>\n",
       "      <td>7174.944336</td>\n",
       "      <td>7200.174316</td>\n",
       "      <td>18565664997</td>\n",
       "      <td>BTC</td>\n",
       "    </tr>\n",
       "    <tr>\n",
       "      <th>...</th>\n",
       "      <td>...</td>\n",
       "      <td>...</td>\n",
       "      <td>...</td>\n",
       "      <td>...</td>\n",
       "      <td>...</td>\n",
       "      <td>...</td>\n",
       "      <td>...</td>\n",
       "    </tr>\n",
       "    <tr>\n",
       "      <th>12811</th>\n",
       "      <td>2021-12-12</td>\n",
       "      <td>19.945532</td>\n",
       "      <td>20.823475</td>\n",
       "      <td>19.278799</td>\n",
       "      <td>20.456585</td>\n",
       "      <td>580366114</td>\n",
       "      <td>LINK</td>\n",
       "    </tr>\n",
       "    <tr>\n",
       "      <th>12812</th>\n",
       "      <td>2021-12-12</td>\n",
       "      <td>157.925339</td>\n",
       "      <td>162.485016</td>\n",
       "      <td>153.610352</td>\n",
       "      <td>159.203964</td>\n",
       "      <td>870576845</td>\n",
       "      <td>LTC</td>\n",
       "    </tr>\n",
       "    <tr>\n",
       "      <th>12813</th>\n",
       "      <td>2021-12-12</td>\n",
       "      <td>0.091574</td>\n",
       "      <td>0.092408</td>\n",
       "      <td>0.089894</td>\n",
       "      <td>0.091136</td>\n",
       "      <td>845372145</td>\n",
       "      <td>TRX</td>\n",
       "    </tr>\n",
       "    <tr>\n",
       "      <th>12814</th>\n",
       "      <td>2021-12-12</td>\n",
       "      <td>48759.597656</td>\n",
       "      <td>49960.847656</td>\n",
       "      <td>48375.175781</td>\n",
       "      <td>49638.460938</td>\n",
       "      <td>199435671</td>\n",
       "      <td>WBTC</td>\n",
       "    </tr>\n",
       "    <tr>\n",
       "      <th>12815</th>\n",
       "      <td>2021-12-12</td>\n",
       "      <td>0.838745</td>\n",
       "      <td>0.856821</td>\n",
       "      <td>0.811206</td>\n",
       "      <td>0.841324</td>\n",
       "      <td>1628060313</td>\n",
       "      <td>XRP</td>\n",
       "    </tr>\n",
       "  </tbody>\n",
       "</table>\n",
       "<p>12816 rows × 7 columns</p>\n",
       "</div>"
      ],
      "text/plain": [
       "            Date          Open          High           Low         Close  \\\n",
       "0     2020-01-01      0.032832      0.033813      0.032704      0.033458   \n",
       "1     2020-01-01      4.216717      4.467644      4.204366      4.380158   \n",
       "2     2020-01-01    204.671295    208.077515    203.205154    204.397537   \n",
       "3     2020-01-01     13.730962     13.873946     13.654942     13.689083   \n",
       "4     2020-01-01   7194.892090   7254.330566   7174.944336   7200.174316   \n",
       "...          ...           ...           ...           ...           ...   \n",
       "12811 2021-12-12     19.945532     20.823475     19.278799     20.456585   \n",
       "12812 2021-12-12    157.925339    162.485016    153.610352    159.203964   \n",
       "12813 2021-12-12      0.091574      0.092408      0.089894      0.091136   \n",
       "12814 2021-12-12  48759.597656  49960.847656  48375.175781  49638.460938   \n",
       "12815 2021-12-12      0.838745      0.856821      0.811206      0.841324   \n",
       "\n",
       "            Volume   tic  \n",
       "0         22948374   ADA  \n",
       "1        107994513  ATOM  \n",
       "2       1456113692   BCH  \n",
       "3        172980718   BNB  \n",
       "4      18565664997   BTC  \n",
       "...            ...   ...  \n",
       "12811    580366114  LINK  \n",
       "12812    870576845   LTC  \n",
       "12813    845372145   TRX  \n",
       "12814    199435671  WBTC  \n",
       "12815   1628060313   XRP  \n",
       "\n",
       "[12816 rows x 7 columns]"
      ]
     },
     "execution_count": 44,
     "metadata": {},
     "output_type": "execute_result"
    }
   ],
   "source": [
    "df1"
   ]
  },
  {
   "cell_type": "code",
   "execution_count": null,
   "metadata": {
    "pycharm": {
     "name": "#%%\n"
    }
   },
   "outputs": [
    {
     "ename": "NameError",
     "evalue": "name 'data_split' is not defined",
     "output_type": "error",
     "traceback": [
      "\u001b[1;31m---------------------------------------------------------------------------\u001b[0m",
      "\u001b[1;31mNameError\u001b[0m                                 Traceback (most recent call last)",
      "\u001b[1;32m~\\AppData\\Local\\Temp/ipykernel_22848/3957896660.py\u001b[0m in \u001b[0;36m<module>\u001b[1;34m\u001b[0m\n\u001b[1;32m----> 1\u001b[1;33m \u001b[0mtraining\u001b[0m \u001b[1;33m=\u001b[0m \u001b[0mdata_split\u001b[0m\u001b[1;33m(\u001b[0m\u001b[0mdf\u001b[0m\u001b[1;33m,\u001b[0m \u001b[1;34m'2020-1-1'\u001b[0m\u001b[1;33m,\u001b[0m\u001b[1;34m'2021-09-01'\u001b[0m\u001b[1;33m)\u001b[0m\u001b[1;33m\u001b[0m\u001b[1;33m\u001b[0m\u001b[0m\n\u001b[0m\u001b[0;32m      2\u001b[0m \u001b[0mtrading\u001b[0m \u001b[1;33m=\u001b[0m \u001b[0mdata_split\u001b[0m\u001b[1;33m(\u001b[0m\u001b[0mdf\u001b[0m\u001b[1;33m,\u001b[0m \u001b[1;34m'2021-09-01'\u001b[0m\u001b[1;33m,\u001b[0m\u001b[1;34m'2020-09-04'\u001b[0m\u001b[1;33m)\u001b[0m\u001b[1;33m\u001b[0m\u001b[1;33m\u001b[0m\u001b[0m\n",
      "\u001b[1;31mNameError\u001b[0m: name 'data_split' is not defined"
     ]
    }
   ],
   "source": [
    "training = data_split(df, '2020-1-1','2021-09-01')\n",
    "trading = data_split(df, '2021-09-01','2021-12-31')"
   ]
  },
  {
   "cell_type": "code",
   "execution_count": null,
   "metadata": {
    "pycharm": {
     "name": "#%%\n"
    }
   },
   "outputs": [],
   "source": []
  }
 ],
 "metadata": {
  "kernelspec": {
   "display_name": "Python 3 (ipykernel)",
   "language": "python",
   "name": "python3"
  },
  "language_info": {
   "codemirror_mode": {
    "name": "ipython",
    "version": 3
   },
   "file_extension": ".py",
   "mimetype": "text/x-python",
   "name": "python",
   "nbconvert_exporter": "python",
   "pygments_lexer": "ipython3",
   "version": "3.8.11"
  }
 },
 "nbformat": 4,
 "nbformat_minor": 1
}
