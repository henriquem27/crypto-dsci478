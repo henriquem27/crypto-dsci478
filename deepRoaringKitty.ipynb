{
 "cells": [
  {
   "cell_type": "code",
   "execution_count": 14,
   "id": "5876750c",
   "metadata": {},
   "outputs": [],
   "source": [
    "# load binance data .\n",
    "#Load the required libraries\n",
    "import pandas as pd\n",
    "import yfinance as yf\n",
    "import seaborn as sns\n",
    "import matplotlib.pyplot as plt\n"
   ]
  },
  {
   "cell_type": "code",
   "execution_count": 21,
   "id": "8b377252",
   "metadata": {},
   "outputs": [],
   "source": [
    "cryptocurrencies = ['BNB-USD','BTC-USD', 'ETH-USD', 'XRP-USD', 'LEO-USD', 'ETC-USD', 'FTT-USD', 'TRX-USD', 'BCH-USD', 'LINK-USD', 'ATOM-USD', 'LTC-USD', 'DAI-USD', 'CRO-USD', 'WBTC-USD', 'DOGE-USD', 'BUSD-USD', 'ADA-USD']\n"
   ]
  },
  {
   "cell_type": "code",
   "execution_count": 22,
   "id": "c0f6a7d2",
   "metadata": {},
   "outputs": [
    {
     "name": "stdout",
     "output_type": "stream",
     "text": [
      "[*********************100%***********************]  18 of 18 completed\n"
     ]
    }
   ],
   "source": [
    "\n",
    "data = yf.download(cryptocurrencies, start='2020-01-01',\n",
    "                end='2021-12-12')\n"
   ]
  },
  {
   "cell_type": "code",
   "execution_count": 23,
   "outputs": [
    {
     "data": {
      "text/plain": "               ADA-USD   ATOM-USD     BCH-USD     BNB-USD      BTC-USD  \\\nDate                                                                     \n2020-01-01    22948374  107994513  1456113692   172980718  18565664997   \n2020-01-02    20843934  111325337  1432801807   156376427  20802083465   \n2020-01-03    30162644  138617691  2644279656   173683857  28111481032   \n2020-01-04    29535781   90718305  1861485049   182230374  18444271275   \n2020-01-05    21479178  115399788  1681830248   202552703  19725074095   \n...                ...        ...         ...         ...          ...   \n2021-12-08  1764297116  587820645  1269638323  2245501623  28479699446   \n2021-12-09  1670588001  424937361  1100303590  2132955304  29603577251   \n2021-12-10  1721213997  423735021  1230197772  2089946472  30966005122   \n2021-12-11  1693932686  485985233   943322036  1824951693  25775869261   \n2021-12-12  1473164555  367811905   677639381  1307635490  21939223599   \n\n              BUSD-USD    CRO-USD     DAI-USD    DOGE-USD    ETC-USD  \\\nDate                                                                   \n2020-01-01     1695088   11329574     2058558    51180941  578070570   \n2020-01-02     4504462   10238185     2925547    65071106  692082812   \n2020-01-03     9269972   13517006     3578684    62619988  853611122   \n2020-01-04     5469981    9840614     3342562    94227582  771746505   \n2020-01-05     6417221    7626233     4610514    52631740  929077856   \n...                ...        ...         ...         ...        ...   \n2021-12-08  5230044923  304141469   687729167  1014713070  814582570   \n2021-12-09  5274561101  262376410   840893285  1071039221  529325366   \n2021-12-10  5293518125  234641799  1061901854   845450410  570916172   \n2021-12-11  4253136786  174106155   704369795   692929162  469221189   \n2021-12-12  3480158717  203545323   512574340   593132337  368519908   \n\n                ETH-USD    FTT-USD  LEO-USD    LINK-USD     LTC-USD  \\\nDate                                                                  \n2020-01-01   7935230330    1589200  6094720    69723037  2782992323   \n2020-01-02   8032709256    3721555  6016153    52729126  2759827139   \n2020-01-03  10476845358    5532734  6575515    61298048  3260961326   \n2020-01-04   7430904515    2715704  6349394    49108150  2843192897   \n2020-01-05   7526675353    3934363  6421925    55235942  3017148033   \n...                 ...        ...      ...         ...         ...   \n2021-12-08  18704315119  154284909  3444596  1746207071  1705972971   \n2021-12-09  22296131874  145419865  3062336  1282728787  1373978010   \n2021-12-10  28014595631  140864858  2951185  1073605294  1344733451   \n2021-12-11  19131502454   98435572  3126782   843949544  1207041548   \n2021-12-12  14057603914   77996220  3195612   580366114   870576845   \n\n               TRX-USD   WBTC-USD     XRP-USD  \nDate                                           \n2020-01-01   977215885      90438  1041134003  \n2020-01-02   999867628     106071  1085351426  \n2020-01-03  1109470187      38445  1270017043  \n2020-01-04   991868126      51426   999331594  \n2020-01-05  1079591214     196897  1168067557  \n...                ...        ...         ...  \n2021-12-08  1627161249  184826654  3038966909  \n2021-12-09  1298412035  247040323  4555815213  \n2021-12-10  1120007632  346084029  3267095314  \n2021-12-11  1013565432  249482184  2056974461  \n2021-12-12   845372145  199435671  1628060313  \n\n[712 rows x 18 columns]",
      "text/html": "<div>\n<style scoped>\n    .dataframe tbody tr th:only-of-type {\n        vertical-align: middle;\n    }\n\n    .dataframe tbody tr th {\n        vertical-align: top;\n    }\n\n    .dataframe thead th {\n        text-align: right;\n    }\n</style>\n<table border=\"1\" class=\"dataframe\">\n  <thead>\n    <tr style=\"text-align: right;\">\n      <th></th>\n      <th>ADA-USD</th>\n      <th>ATOM-USD</th>\n      <th>BCH-USD</th>\n      <th>BNB-USD</th>\n      <th>BTC-USD</th>\n      <th>BUSD-USD</th>\n      <th>CRO-USD</th>\n      <th>DAI-USD</th>\n      <th>DOGE-USD</th>\n      <th>ETC-USD</th>\n      <th>ETH-USD</th>\n      <th>FTT-USD</th>\n      <th>LEO-USD</th>\n      <th>LINK-USD</th>\n      <th>LTC-USD</th>\n      <th>TRX-USD</th>\n      <th>WBTC-USD</th>\n      <th>XRP-USD</th>\n    </tr>\n    <tr>\n      <th>Date</th>\n      <th></th>\n      <th></th>\n      <th></th>\n      <th></th>\n      <th></th>\n      <th></th>\n      <th></th>\n      <th></th>\n      <th></th>\n      <th></th>\n      <th></th>\n      <th></th>\n      <th></th>\n      <th></th>\n      <th></th>\n      <th></th>\n      <th></th>\n      <th></th>\n    </tr>\n  </thead>\n  <tbody>\n    <tr>\n      <th>2020-01-01</th>\n      <td>22948374</td>\n      <td>107994513</td>\n      <td>1456113692</td>\n      <td>172980718</td>\n      <td>18565664997</td>\n      <td>1695088</td>\n      <td>11329574</td>\n      <td>2058558</td>\n      <td>51180941</td>\n      <td>578070570</td>\n      <td>7935230330</td>\n      <td>1589200</td>\n      <td>6094720</td>\n      <td>69723037</td>\n      <td>2782992323</td>\n      <td>977215885</td>\n      <td>90438</td>\n      <td>1041134003</td>\n    </tr>\n    <tr>\n      <th>2020-01-02</th>\n      <td>20843934</td>\n      <td>111325337</td>\n      <td>1432801807</td>\n      <td>156376427</td>\n      <td>20802083465</td>\n      <td>4504462</td>\n      <td>10238185</td>\n      <td>2925547</td>\n      <td>65071106</td>\n      <td>692082812</td>\n      <td>8032709256</td>\n      <td>3721555</td>\n      <td>6016153</td>\n      <td>52729126</td>\n      <td>2759827139</td>\n      <td>999867628</td>\n      <td>106071</td>\n      <td>1085351426</td>\n    </tr>\n    <tr>\n      <th>2020-01-03</th>\n      <td>30162644</td>\n      <td>138617691</td>\n      <td>2644279656</td>\n      <td>173683857</td>\n      <td>28111481032</td>\n      <td>9269972</td>\n      <td>13517006</td>\n      <td>3578684</td>\n      <td>62619988</td>\n      <td>853611122</td>\n      <td>10476845358</td>\n      <td>5532734</td>\n      <td>6575515</td>\n      <td>61298048</td>\n      <td>3260961326</td>\n      <td>1109470187</td>\n      <td>38445</td>\n      <td>1270017043</td>\n    </tr>\n    <tr>\n      <th>2020-01-04</th>\n      <td>29535781</td>\n      <td>90718305</td>\n      <td>1861485049</td>\n      <td>182230374</td>\n      <td>18444271275</td>\n      <td>5469981</td>\n      <td>9840614</td>\n      <td>3342562</td>\n      <td>94227582</td>\n      <td>771746505</td>\n      <td>7430904515</td>\n      <td>2715704</td>\n      <td>6349394</td>\n      <td>49108150</td>\n      <td>2843192897</td>\n      <td>991868126</td>\n      <td>51426</td>\n      <td>999331594</td>\n    </tr>\n    <tr>\n      <th>2020-01-05</th>\n      <td>21479178</td>\n      <td>115399788</td>\n      <td>1681830248</td>\n      <td>202552703</td>\n      <td>19725074095</td>\n      <td>6417221</td>\n      <td>7626233</td>\n      <td>4610514</td>\n      <td>52631740</td>\n      <td>929077856</td>\n      <td>7526675353</td>\n      <td>3934363</td>\n      <td>6421925</td>\n      <td>55235942</td>\n      <td>3017148033</td>\n      <td>1079591214</td>\n      <td>196897</td>\n      <td>1168067557</td>\n    </tr>\n    <tr>\n      <th>...</th>\n      <td>...</td>\n      <td>...</td>\n      <td>...</td>\n      <td>...</td>\n      <td>...</td>\n      <td>...</td>\n      <td>...</td>\n      <td>...</td>\n      <td>...</td>\n      <td>...</td>\n      <td>...</td>\n      <td>...</td>\n      <td>...</td>\n      <td>...</td>\n      <td>...</td>\n      <td>...</td>\n      <td>...</td>\n      <td>...</td>\n    </tr>\n    <tr>\n      <th>2021-12-08</th>\n      <td>1764297116</td>\n      <td>587820645</td>\n      <td>1269638323</td>\n      <td>2245501623</td>\n      <td>28479699446</td>\n      <td>5230044923</td>\n      <td>304141469</td>\n      <td>687729167</td>\n      <td>1014713070</td>\n      <td>814582570</td>\n      <td>18704315119</td>\n      <td>154284909</td>\n      <td>3444596</td>\n      <td>1746207071</td>\n      <td>1705972971</td>\n      <td>1627161249</td>\n      <td>184826654</td>\n      <td>3038966909</td>\n    </tr>\n    <tr>\n      <th>2021-12-09</th>\n      <td>1670588001</td>\n      <td>424937361</td>\n      <td>1100303590</td>\n      <td>2132955304</td>\n      <td>29603577251</td>\n      <td>5274561101</td>\n      <td>262376410</td>\n      <td>840893285</td>\n      <td>1071039221</td>\n      <td>529325366</td>\n      <td>22296131874</td>\n      <td>145419865</td>\n      <td>3062336</td>\n      <td>1282728787</td>\n      <td>1373978010</td>\n      <td>1298412035</td>\n      <td>247040323</td>\n      <td>4555815213</td>\n    </tr>\n    <tr>\n      <th>2021-12-10</th>\n      <td>1721213997</td>\n      <td>423735021</td>\n      <td>1230197772</td>\n      <td>2089946472</td>\n      <td>30966005122</td>\n      <td>5293518125</td>\n      <td>234641799</td>\n      <td>1061901854</td>\n      <td>845450410</td>\n      <td>570916172</td>\n      <td>28014595631</td>\n      <td>140864858</td>\n      <td>2951185</td>\n      <td>1073605294</td>\n      <td>1344733451</td>\n      <td>1120007632</td>\n      <td>346084029</td>\n      <td>3267095314</td>\n    </tr>\n    <tr>\n      <th>2021-12-11</th>\n      <td>1693932686</td>\n      <td>485985233</td>\n      <td>943322036</td>\n      <td>1824951693</td>\n      <td>25775869261</td>\n      <td>4253136786</td>\n      <td>174106155</td>\n      <td>704369795</td>\n      <td>692929162</td>\n      <td>469221189</td>\n      <td>19131502454</td>\n      <td>98435572</td>\n      <td>3126782</td>\n      <td>843949544</td>\n      <td>1207041548</td>\n      <td>1013565432</td>\n      <td>249482184</td>\n      <td>2056974461</td>\n    </tr>\n    <tr>\n      <th>2021-12-12</th>\n      <td>1473164555</td>\n      <td>367811905</td>\n      <td>677639381</td>\n      <td>1307635490</td>\n      <td>21939223599</td>\n      <td>3480158717</td>\n      <td>203545323</td>\n      <td>512574340</td>\n      <td>593132337</td>\n      <td>368519908</td>\n      <td>14057603914</td>\n      <td>77996220</td>\n      <td>3195612</td>\n      <td>580366114</td>\n      <td>870576845</td>\n      <td>845372145</td>\n      <td>199435671</td>\n      <td>1628060313</td>\n    </tr>\n  </tbody>\n</table>\n<p>712 rows × 18 columns</p>\n</div>"
     },
     "execution_count": 23,
     "metadata": {},
     "output_type": "execute_result"
    }
   ],
   "source": [
    "data.Volume\n"
   ],
   "metadata": {
    "collapsed": false,
    "pycharm": {
     "name": "#%%\n"
    }
   }
  },
  {
   "cell_type": "code",
   "execution_count": null,
   "outputs": [],
   "source": [],
   "metadata": {
    "collapsed": false,
    "pycharm": {
     "name": "#%%\n"
    }
   }
  }
 ],
 "metadata": {
  "kernelspec": {
   "display_name": "Python 3 (ipykernel)",
   "language": "python",
   "name": "python3"
  },
  "language_info": {
   "codemirror_mode": {
    "name": "ipython",
    "version": 3
   },
   "file_extension": ".py",
   "mimetype": "text/x-python",
   "name": "python",
   "nbconvert_exporter": "python",
   "pygments_lexer": "ipython3",
   "version": "3.8.2"
  }
 },
 "nbformat": 4,
 "nbformat_minor": 5
}