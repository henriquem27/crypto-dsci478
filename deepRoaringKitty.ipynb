{
 "cells": [
  {
   "cell_type": "code",
   "execution_count": 2,
   "id": "5876750c",
   "metadata": {},
   "outputs": [],
   "source": [
    "# load binance data .\n",
    "#Load the required libraries\n",
    "import pandas as pd\n",
    "import yfinance as yf\n",
    "import seaborn as sns\n",
    "import matplotlib.pyplot as plt\n"
   ]
  },
  {
   "cell_type": "code",
   "execution_count": 11,
   "id": "8b377252",
   "metadata": {},
   "outputs": [],
   "source": [
    "cryptocurrencies = ['BNB-USD','BTC-USD', 'ETH-USD', 'XRP-USD', 'LEO-USD', 'ETC-USD', 'FTT-USD', 'TRX-USD', 'BCH-USD', 'LINK-USD', 'ATOM-USD', 'LTC-USD', 'DAI-USD', 'CRO-USD', 'WBTC-USD', 'DOGE-USD', 'BUSD-USD', 'ADA-USD']\n"
   ]
  },
  {
   "cell_type": "code",
   "execution_count": 12,
   "id": "c0f6a7d2",
   "metadata": {},
   "outputs": [
    {
     "name": "stdout",
     "output_type": "stream",
     "text": [
      "[*********************100%***********************]  18 of 18 completed\n"
     ]
    }
   ],
   "source": [
    "\n",
    "data = yf.download(cryptocurrencies, start='2020-01-01',\n",
    "                end='2021-12-12',group_by='ticker')\n"
   ]
  },
  {
   "cell_type": "code",
   "execution_count": 13,
   "outputs": [],
   "source": [
    "df = pd.DataFrame(data)"
   ],
   "metadata": {
    "collapsed": false,
    "pycharm": {
     "name": "#%%\n"
    }
   }
  },
  {
   "cell_type": "code",
   "execution_count": 15,
   "outputs": [],
   "source": [
    "df.to_csv('trial2.csv')"
   ],
   "metadata": {
    "collapsed": false,
    "pycharm": {
     "name": "#%%\n"
    }
   }
  },
  {
   "cell_type": "code",
   "execution_count": null,
   "outputs": [],
   "source": [],
   "metadata": {
    "collapsed": false,
    "pycharm": {
     "name": "#%%\n"
    }
   }
  }
 ],
 "metadata": {
  "kernelspec": {
   "display_name": "Python 3 (ipykernel)",
   "language": "python",
   "name": "python3"
  },
  "language_info": {
   "codemirror_mode": {
    "name": "ipython",
    "version": 3
   },
   "file_extension": ".py",
   "mimetype": "text/x-python",
   "name": "python",
   "nbconvert_exporter": "python",
   "pygments_lexer": "ipython3",
   "version": "3.8.2"
  }
 },
 "nbformat": 4,
 "nbformat_minor": 5
}